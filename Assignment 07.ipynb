{
 "cells": [
  {
   "cell_type": "code",
   "execution_count": 6,
   "id": "cbba3a84",
   "metadata": {},
   "outputs": [],
   "source": [
    "from sklearn import datasets\n",
    "df = datasets.load_diabetes(as_frame=True) \n",
    "features_df = df.data\n",
    "target_df = df.target\n"
   ]
  },
  {
   "cell_type": "code",
   "execution_count": 7,
   "id": "1c5da332",
   "metadata": {},
   "outputs": [
    {
     "name": "stdout",
     "output_type": "stream",
     "text": [
      ".. _diabetes_dataset:\n",
      "\n",
      "Diabetes dataset\n",
      "----------------\n",
      "\n",
      "Ten baseline variables, age, sex, body mass index, average blood\n",
      "pressure, and six blood serum measurements were obtained for each of n =\n",
      "442 diabetes patients, as well as the response of interest, a\n",
      "quantitative measure of disease progression one year after baseline.\n",
      "\n",
      "**Data Set Characteristics:**\n",
      "\n",
      "  :Number of Instances: 442\n",
      "\n",
      "  :Number of Attributes: First 10 columns are numeric predictive values\n",
      "\n",
      "  :Target: Column 11 is a quantitative measure of disease progression one year after baseline\n",
      "\n",
      "  :Attribute Information:\n",
      "      - age     age in years\n",
      "      - sex\n",
      "      - bmi     body mass index\n",
      "      - bp      average blood pressure\n",
      "      - s1      tc, total serum cholesterol\n",
      "      - s2      ldl, low-density lipoproteins\n",
      "      - s3      hdl, high-density lipoproteins\n",
      "      - s4      tch, total cholesterol / HDL\n",
      "      - s5      ltg, possibly log of serum triglycerides level\n",
      "      - s6      glu, blood sugar level\n",
      "\n",
      "Note: Each of these 10 feature variables have been mean centered and scaled by the standard deviation times `n_samples` (i.e. the sum of squares of each column totals 1).\n",
      "\n",
      "Source URL:\n",
      "https://www4.stat.ncsu.edu/~boos/var.select/diabetes.html\n",
      "\n",
      "For more information see:\n",
      "Bradley Efron, Trevor Hastie, Iain Johnstone and Robert Tibshirani (2004) \"Least Angle Regression,\" Annals of Statistics (with discussion), 407-499.\n",
      "(https://web.stanford.edu/~hastie/Papers/LARS/LeastAngle_2002.pdf)\n"
     ]
    }
   ],
   "source": [
    "print(df.DESCR)"
   ]
  },
  {
   "cell_type": "code",
   "execution_count": 16,
   "id": "e03242c2",
   "metadata": {},
   "outputs": [
    {
     "data": {
      "text/html": [
       "<div>\n",
       "<style scoped>\n",
       "    .dataframe tbody tr th:only-of-type {\n",
       "        vertical-align: middle;\n",
       "    }\n",
       "\n",
       "    .dataframe tbody tr th {\n",
       "        vertical-align: top;\n",
       "    }\n",
       "\n",
       "    .dataframe thead th {\n",
       "        text-align: right;\n",
       "    }\n",
       "</style>\n",
       "<table border=\"1\" class=\"dataframe\">\n",
       "  <thead>\n",
       "    <tr style=\"text-align: right;\">\n",
       "      <th></th>\n",
       "      <th>age</th>\n",
       "      <th>sex</th>\n",
       "      <th>bmi</th>\n",
       "      <th>bp</th>\n",
       "      <th>s1</th>\n",
       "      <th>s2</th>\n",
       "      <th>s3</th>\n",
       "      <th>s4</th>\n",
       "      <th>s5</th>\n",
       "      <th>s6</th>\n",
       "    </tr>\n",
       "  </thead>\n",
       "  <tbody>\n",
       "    <tr>\n",
       "      <th>0</th>\n",
       "      <td>0.038076</td>\n",
       "      <td>0.050680</td>\n",
       "      <td>0.061696</td>\n",
       "      <td>0.021872</td>\n",
       "      <td>-0.044223</td>\n",
       "      <td>-0.034821</td>\n",
       "      <td>-0.043401</td>\n",
       "      <td>-0.002592</td>\n",
       "      <td>0.019908</td>\n",
       "      <td>-0.017646</td>\n",
       "    </tr>\n",
       "    <tr>\n",
       "      <th>1</th>\n",
       "      <td>-0.001882</td>\n",
       "      <td>-0.044642</td>\n",
       "      <td>-0.051474</td>\n",
       "      <td>-0.026328</td>\n",
       "      <td>-0.008449</td>\n",
       "      <td>-0.019163</td>\n",
       "      <td>0.074412</td>\n",
       "      <td>-0.039493</td>\n",
       "      <td>-0.068330</td>\n",
       "      <td>-0.092204</td>\n",
       "    </tr>\n",
       "    <tr>\n",
       "      <th>2</th>\n",
       "      <td>0.085299</td>\n",
       "      <td>0.050680</td>\n",
       "      <td>0.044451</td>\n",
       "      <td>-0.005671</td>\n",
       "      <td>-0.045599</td>\n",
       "      <td>-0.034194</td>\n",
       "      <td>-0.032356</td>\n",
       "      <td>-0.002592</td>\n",
       "      <td>0.002864</td>\n",
       "      <td>-0.025930</td>\n",
       "    </tr>\n",
       "    <tr>\n",
       "      <th>3</th>\n",
       "      <td>-0.089063</td>\n",
       "      <td>-0.044642</td>\n",
       "      <td>-0.011595</td>\n",
       "      <td>-0.036656</td>\n",
       "      <td>0.012191</td>\n",
       "      <td>0.024991</td>\n",
       "      <td>-0.036038</td>\n",
       "      <td>0.034309</td>\n",
       "      <td>0.022692</td>\n",
       "      <td>-0.009362</td>\n",
       "    </tr>\n",
       "    <tr>\n",
       "      <th>4</th>\n",
       "      <td>0.005383</td>\n",
       "      <td>-0.044642</td>\n",
       "      <td>-0.036385</td>\n",
       "      <td>0.021872</td>\n",
       "      <td>0.003935</td>\n",
       "      <td>0.015596</td>\n",
       "      <td>0.008142</td>\n",
       "      <td>-0.002592</td>\n",
       "      <td>-0.031991</td>\n",
       "      <td>-0.046641</td>\n",
       "    </tr>\n",
       "    <tr>\n",
       "      <th>...</th>\n",
       "      <td>...</td>\n",
       "      <td>...</td>\n",
       "      <td>...</td>\n",
       "      <td>...</td>\n",
       "      <td>...</td>\n",
       "      <td>...</td>\n",
       "      <td>...</td>\n",
       "      <td>...</td>\n",
       "      <td>...</td>\n",
       "      <td>...</td>\n",
       "    </tr>\n",
       "    <tr>\n",
       "      <th>437</th>\n",
       "      <td>0.041708</td>\n",
       "      <td>0.050680</td>\n",
       "      <td>0.019662</td>\n",
       "      <td>0.059744</td>\n",
       "      <td>-0.005697</td>\n",
       "      <td>-0.002566</td>\n",
       "      <td>-0.028674</td>\n",
       "      <td>-0.002592</td>\n",
       "      <td>0.031193</td>\n",
       "      <td>0.007207</td>\n",
       "    </tr>\n",
       "    <tr>\n",
       "      <th>438</th>\n",
       "      <td>-0.005515</td>\n",
       "      <td>0.050680</td>\n",
       "      <td>-0.015906</td>\n",
       "      <td>-0.067642</td>\n",
       "      <td>0.049341</td>\n",
       "      <td>0.079165</td>\n",
       "      <td>-0.028674</td>\n",
       "      <td>0.034309</td>\n",
       "      <td>-0.018118</td>\n",
       "      <td>0.044485</td>\n",
       "    </tr>\n",
       "    <tr>\n",
       "      <th>439</th>\n",
       "      <td>0.041708</td>\n",
       "      <td>0.050680</td>\n",
       "      <td>-0.015906</td>\n",
       "      <td>0.017282</td>\n",
       "      <td>-0.037344</td>\n",
       "      <td>-0.013840</td>\n",
       "      <td>-0.024993</td>\n",
       "      <td>-0.011080</td>\n",
       "      <td>-0.046879</td>\n",
       "      <td>0.015491</td>\n",
       "    </tr>\n",
       "    <tr>\n",
       "      <th>440</th>\n",
       "      <td>-0.045472</td>\n",
       "      <td>-0.044642</td>\n",
       "      <td>0.039062</td>\n",
       "      <td>0.001215</td>\n",
       "      <td>0.016318</td>\n",
       "      <td>0.015283</td>\n",
       "      <td>-0.028674</td>\n",
       "      <td>0.026560</td>\n",
       "      <td>0.044528</td>\n",
       "      <td>-0.025930</td>\n",
       "    </tr>\n",
       "    <tr>\n",
       "      <th>441</th>\n",
       "      <td>-0.045472</td>\n",
       "      <td>-0.044642</td>\n",
       "      <td>-0.073030</td>\n",
       "      <td>-0.081414</td>\n",
       "      <td>0.083740</td>\n",
       "      <td>0.027809</td>\n",
       "      <td>0.173816</td>\n",
       "      <td>-0.039493</td>\n",
       "      <td>-0.004220</td>\n",
       "      <td>0.003064</td>\n",
       "    </tr>\n",
       "  </tbody>\n",
       "</table>\n",
       "<p>442 rows × 10 columns</p>\n",
       "</div>"
      ],
      "text/plain": [
       "          age       sex       bmi        bp        s1        s2        s3  \\\n",
       "0    0.038076  0.050680  0.061696  0.021872 -0.044223 -0.034821 -0.043401   \n",
       "1   -0.001882 -0.044642 -0.051474 -0.026328 -0.008449 -0.019163  0.074412   \n",
       "2    0.085299  0.050680  0.044451 -0.005671 -0.045599 -0.034194 -0.032356   \n",
       "3   -0.089063 -0.044642 -0.011595 -0.036656  0.012191  0.024991 -0.036038   \n",
       "4    0.005383 -0.044642 -0.036385  0.021872  0.003935  0.015596  0.008142   \n",
       "..        ...       ...       ...       ...       ...       ...       ...   \n",
       "437  0.041708  0.050680  0.019662  0.059744 -0.005697 -0.002566 -0.028674   \n",
       "438 -0.005515  0.050680 -0.015906 -0.067642  0.049341  0.079165 -0.028674   \n",
       "439  0.041708  0.050680 -0.015906  0.017282 -0.037344 -0.013840 -0.024993   \n",
       "440 -0.045472 -0.044642  0.039062  0.001215  0.016318  0.015283 -0.028674   \n",
       "441 -0.045472 -0.044642 -0.073030 -0.081414  0.083740  0.027809  0.173816   \n",
       "\n",
       "           s4        s5        s6  \n",
       "0   -0.002592  0.019908 -0.017646  \n",
       "1   -0.039493 -0.068330 -0.092204  \n",
       "2   -0.002592  0.002864 -0.025930  \n",
       "3    0.034309  0.022692 -0.009362  \n",
       "4   -0.002592 -0.031991 -0.046641  \n",
       "..        ...       ...       ...  \n",
       "437 -0.002592  0.031193  0.007207  \n",
       "438  0.034309 -0.018118  0.044485  \n",
       "439 -0.011080 -0.046879  0.015491  \n",
       "440  0.026560  0.044528 -0.025930  \n",
       "441 -0.039493 -0.004220  0.003064  \n",
       "\n",
       "[442 rows x 10 columns]"
      ]
     },
     "execution_count": 16,
     "metadata": {},
     "output_type": "execute_result"
    }
   ],
   "source": [
    "features_df"
   ]
  },
  {
   "cell_type": "code",
   "execution_count": 17,
   "id": "6ca2125d",
   "metadata": {},
   "outputs": [
    {
     "data": {
      "text/plain": [
       "0      151.0\n",
       "1       75.0\n",
       "2      141.0\n",
       "3      206.0\n",
       "4      135.0\n",
       "       ...  \n",
       "437    178.0\n",
       "438    104.0\n",
       "439    132.0\n",
       "440    220.0\n",
       "441     57.0\n",
       "Name: target, Length: 442, dtype: float64"
      ]
     },
     "execution_count": 17,
     "metadata": {},
     "output_type": "execute_result"
    }
   ],
   "source": [
    "target_df"
   ]
  },
  {
   "cell_type": "code",
   "execution_count": 18,
   "id": "d3b77e94",
   "metadata": {},
   "outputs": [
    {
     "data": {
      "text/plain": [
       "{'data':           age       sex       bmi        bp        s1        s2        s3  \\\n",
       " 0    0.038076  0.050680  0.061696  0.021872 -0.044223 -0.034821 -0.043401   \n",
       " 1   -0.001882 -0.044642 -0.051474 -0.026328 -0.008449 -0.019163  0.074412   \n",
       " 2    0.085299  0.050680  0.044451 -0.005671 -0.045599 -0.034194 -0.032356   \n",
       " 3   -0.089063 -0.044642 -0.011595 -0.036656  0.012191  0.024991 -0.036038   \n",
       " 4    0.005383 -0.044642 -0.036385  0.021872  0.003935  0.015596  0.008142   \n",
       " ..        ...       ...       ...       ...       ...       ...       ...   \n",
       " 437  0.041708  0.050680  0.019662  0.059744 -0.005697 -0.002566 -0.028674   \n",
       " 438 -0.005515  0.050680 -0.015906 -0.067642  0.049341  0.079165 -0.028674   \n",
       " 439  0.041708  0.050680 -0.015906  0.017282 -0.037344 -0.013840 -0.024993   \n",
       " 440 -0.045472 -0.044642  0.039062  0.001215  0.016318  0.015283 -0.028674   \n",
       " 441 -0.045472 -0.044642 -0.073030 -0.081414  0.083740  0.027809  0.173816   \n",
       " \n",
       "            s4        s5        s6  \n",
       " 0   -0.002592  0.019908 -0.017646  \n",
       " 1   -0.039493 -0.068330 -0.092204  \n",
       " 2   -0.002592  0.002864 -0.025930  \n",
       " 3    0.034309  0.022692 -0.009362  \n",
       " 4   -0.002592 -0.031991 -0.046641  \n",
       " ..        ...       ...       ...  \n",
       " 437 -0.002592  0.031193  0.007207  \n",
       " 438  0.034309 -0.018118  0.044485  \n",
       " 439 -0.011080 -0.046879  0.015491  \n",
       " 440  0.026560  0.044528 -0.025930  \n",
       " 441 -0.039493 -0.004220  0.003064  \n",
       " \n",
       " [442 rows x 10 columns],\n",
       " 'target': 0      151.0\n",
       " 1       75.0\n",
       " 2      141.0\n",
       " 3      206.0\n",
       " 4      135.0\n",
       "        ...  \n",
       " 437    178.0\n",
       " 438    104.0\n",
       " 439    132.0\n",
       " 440    220.0\n",
       " 441     57.0\n",
       " Name: target, Length: 442, dtype: float64,\n",
       " 'frame':           age       sex       bmi        bp        s1        s2        s3  \\\n",
       " 0    0.038076  0.050680  0.061696  0.021872 -0.044223 -0.034821 -0.043401   \n",
       " 1   -0.001882 -0.044642 -0.051474 -0.026328 -0.008449 -0.019163  0.074412   \n",
       " 2    0.085299  0.050680  0.044451 -0.005671 -0.045599 -0.034194 -0.032356   \n",
       " 3   -0.089063 -0.044642 -0.011595 -0.036656  0.012191  0.024991 -0.036038   \n",
       " 4    0.005383 -0.044642 -0.036385  0.021872  0.003935  0.015596  0.008142   \n",
       " ..        ...       ...       ...       ...       ...       ...       ...   \n",
       " 437  0.041708  0.050680  0.019662  0.059744 -0.005697 -0.002566 -0.028674   \n",
       " 438 -0.005515  0.050680 -0.015906 -0.067642  0.049341  0.079165 -0.028674   \n",
       " 439  0.041708  0.050680 -0.015906  0.017282 -0.037344 -0.013840 -0.024993   \n",
       " 440 -0.045472 -0.044642  0.039062  0.001215  0.016318  0.015283 -0.028674   \n",
       " 441 -0.045472 -0.044642 -0.073030 -0.081414  0.083740  0.027809  0.173816   \n",
       " \n",
       "            s4        s5        s6  target  \n",
       " 0   -0.002592  0.019908 -0.017646   151.0  \n",
       " 1   -0.039493 -0.068330 -0.092204    75.0  \n",
       " 2   -0.002592  0.002864 -0.025930   141.0  \n",
       " 3    0.034309  0.022692 -0.009362   206.0  \n",
       " 4   -0.002592 -0.031991 -0.046641   135.0  \n",
       " ..        ...       ...       ...     ...  \n",
       " 437 -0.002592  0.031193  0.007207   178.0  \n",
       " 438  0.034309 -0.018118  0.044485   104.0  \n",
       " 439 -0.011080 -0.046879  0.015491   132.0  \n",
       " 440  0.026560  0.044528 -0.025930   220.0  \n",
       " 441 -0.039493 -0.004220  0.003064    57.0  \n",
       " \n",
       " [442 rows x 11 columns],\n",
       " 'DESCR': '.. _diabetes_dataset:\\n\\nDiabetes dataset\\n----------------\\n\\nTen baseline variables, age, sex, body mass index, average blood\\npressure, and six blood serum measurements were obtained for each of n =\\n442 diabetes patients, as well as the response of interest, a\\nquantitative measure of disease progression one year after baseline.\\n\\n**Data Set Characteristics:**\\n\\n  :Number of Instances: 442\\n\\n  :Number of Attributes: First 10 columns are numeric predictive values\\n\\n  :Target: Column 11 is a quantitative measure of disease progression one year after baseline\\n\\n  :Attribute Information:\\n      - age     age in years\\n      - sex\\n      - bmi     body mass index\\n      - bp      average blood pressure\\n      - s1      tc, total serum cholesterol\\n      - s2      ldl, low-density lipoproteins\\n      - s3      hdl, high-density lipoproteins\\n      - s4      tch, total cholesterol / HDL\\n      - s5      ltg, possibly log of serum triglycerides level\\n      - s6      glu, blood sugar level\\n\\nNote: Each of these 10 feature variables have been mean centered and scaled by the standard deviation times `n_samples` (i.e. the sum of squares of each column totals 1).\\n\\nSource URL:\\nhttps://www4.stat.ncsu.edu/~boos/var.select/diabetes.html\\n\\nFor more information see:\\nBradley Efron, Trevor Hastie, Iain Johnstone and Robert Tibshirani (2004) \"Least Angle Regression,\" Annals of Statistics (with discussion), 407-499.\\n(https://web.stanford.edu/~hastie/Papers/LARS/LeastAngle_2002.pdf)',\n",
       " 'feature_names': ['age',\n",
       "  'sex',\n",
       "  'bmi',\n",
       "  'bp',\n",
       "  's1',\n",
       "  's2',\n",
       "  's3',\n",
       "  's4',\n",
       "  's5',\n",
       "  's6'],\n",
       " 'data_filename': 'C:\\\\Users\\\\LENOVO\\\\anaconda3\\\\lib\\\\site-packages\\\\sklearn\\\\datasets\\\\data\\\\diabetes_data.csv.gz',\n",
       " 'target_filename': 'C:\\\\Users\\\\LENOVO\\\\anaconda3\\\\lib\\\\site-packages\\\\sklearn\\\\datasets\\\\data\\\\diabetes_target.csv.gz'}"
      ]
     },
     "execution_count": 18,
     "metadata": {},
     "output_type": "execute_result"
    }
   ],
   "source": [
    "df"
   ]
  },
  {
   "cell_type": "code",
   "execution_count": 21,
   "id": "63cde2fc",
   "metadata": {},
   "outputs": [
    {
     "name": "stdout",
     "output_type": "stream",
     "text": [
      "<class 'pandas.core.frame.DataFrame'>\n",
      "RangeIndex: 442 entries, 0 to 441\n",
      "Data columns (total 10 columns):\n",
      " #   Column  Non-Null Count  Dtype  \n",
      "---  ------  --------------  -----  \n",
      " 0   age     442 non-null    float64\n",
      " 1   sex     442 non-null    float64\n",
      " 2   bmi     442 non-null    float64\n",
      " 3   bp      442 non-null    float64\n",
      " 4   s1      442 non-null    float64\n",
      " 5   s2      442 non-null    float64\n",
      " 6   s3      442 non-null    float64\n",
      " 7   s4      442 non-null    float64\n",
      " 8   s5      442 non-null    float64\n",
      " 9   s6      442 non-null    float64\n",
      "dtypes: float64(10)\n",
      "memory usage: 34.7 KB\n"
     ]
    }
   ],
   "source": [
    "features_df.info()"
   ]
  },
  {
   "cell_type": "code",
   "execution_count": 23,
   "id": "bb23972f",
   "metadata": {},
   "outputs": [
    {
     "name": "stdout",
     "output_type": "stream",
     "text": [
      "        age       sex       bmi        bp        s1        s2        s3  \\\n",
      "0  0.038076  0.050680  0.061696  0.021872 -0.044223 -0.034821 -0.043401   \n",
      "1 -0.001882 -0.044642 -0.051474 -0.026328 -0.008449 -0.019163  0.074412   \n",
      "2  0.085299  0.050680  0.044451 -0.005671 -0.045599 -0.034194 -0.032356   \n",
      "3 -0.089063 -0.044642 -0.011595 -0.036656  0.012191  0.024991 -0.036038   \n",
      "4  0.005383 -0.044642 -0.036385  0.021872  0.003935  0.015596  0.008142   \n",
      "\n",
      "         s4        s5        s6  \n",
      "0 -0.002592  0.019908 -0.017646  \n",
      "1 -0.039493 -0.068330 -0.092204  \n",
      "2 -0.002592  0.002864 -0.025930  \n",
      "3  0.034309  0.022692 -0.009362  \n",
      "4 -0.002592 -0.031991 -0.046641  \n"
     ]
    }
   ],
   "source": [
    "print(features_df.head())"
   ]
  },
  {
   "cell_type": "code",
   "execution_count": 35,
   "id": "2b2a3599",
   "metadata": {},
   "outputs": [
    {
     "data": {
      "text/html": [
       "<div>\n",
       "<style scoped>\n",
       "    .dataframe tbody tr th:only-of-type {\n",
       "        vertical-align: middle;\n",
       "    }\n",
       "\n",
       "    .dataframe tbody tr th {\n",
       "        vertical-align: top;\n",
       "    }\n",
       "\n",
       "    .dataframe thead th {\n",
       "        text-align: right;\n",
       "    }\n",
       "</style>\n",
       "<table border=\"1\" class=\"dataframe\">\n",
       "  <thead>\n",
       "    <tr style=\"text-align: right;\">\n",
       "      <th></th>\n",
       "      <th>age</th>\n",
       "      <th>sex</th>\n",
       "      <th>bmi</th>\n",
       "      <th>bp</th>\n",
       "      <th>s1</th>\n",
       "      <th>s2</th>\n",
       "      <th>s3</th>\n",
       "      <th>s4</th>\n",
       "      <th>s5</th>\n",
       "      <th>s6</th>\n",
       "    </tr>\n",
       "  </thead>\n",
       "  <tbody>\n",
       "    <tr>\n",
       "      <th>count</th>\n",
       "      <td>4.420000e+02</td>\n",
       "      <td>4.420000e+02</td>\n",
       "      <td>4.420000e+02</td>\n",
       "      <td>4.420000e+02</td>\n",
       "      <td>4.420000e+02</td>\n",
       "      <td>4.420000e+02</td>\n",
       "      <td>4.420000e+02</td>\n",
       "      <td>4.420000e+02</td>\n",
       "      <td>4.420000e+02</td>\n",
       "      <td>4.420000e+02</td>\n",
       "    </tr>\n",
       "    <tr>\n",
       "      <th>mean</th>\n",
       "      <td>-3.634285e-16</td>\n",
       "      <td>1.308343e-16</td>\n",
       "      <td>-8.045349e-16</td>\n",
       "      <td>1.281655e-16</td>\n",
       "      <td>-8.835316e-17</td>\n",
       "      <td>1.327024e-16</td>\n",
       "      <td>-4.574646e-16</td>\n",
       "      <td>3.777301e-16</td>\n",
       "      <td>-3.830854e-16</td>\n",
       "      <td>-3.412882e-16</td>\n",
       "    </tr>\n",
       "    <tr>\n",
       "      <th>std</th>\n",
       "      <td>4.761905e-02</td>\n",
       "      <td>4.761905e-02</td>\n",
       "      <td>4.761905e-02</td>\n",
       "      <td>4.761905e-02</td>\n",
       "      <td>4.761905e-02</td>\n",
       "      <td>4.761905e-02</td>\n",
       "      <td>4.761905e-02</td>\n",
       "      <td>4.761905e-02</td>\n",
       "      <td>4.761905e-02</td>\n",
       "      <td>4.761905e-02</td>\n",
       "    </tr>\n",
       "    <tr>\n",
       "      <th>min</th>\n",
       "      <td>-1.072256e-01</td>\n",
       "      <td>-4.464164e-02</td>\n",
       "      <td>-9.027530e-02</td>\n",
       "      <td>-1.123996e-01</td>\n",
       "      <td>-1.267807e-01</td>\n",
       "      <td>-1.156131e-01</td>\n",
       "      <td>-1.023071e-01</td>\n",
       "      <td>-7.639450e-02</td>\n",
       "      <td>-1.260974e-01</td>\n",
       "      <td>-1.377672e-01</td>\n",
       "    </tr>\n",
       "    <tr>\n",
       "      <th>25%</th>\n",
       "      <td>-3.729927e-02</td>\n",
       "      <td>-4.464164e-02</td>\n",
       "      <td>-3.422907e-02</td>\n",
       "      <td>-3.665645e-02</td>\n",
       "      <td>-3.424784e-02</td>\n",
       "      <td>-3.035840e-02</td>\n",
       "      <td>-3.511716e-02</td>\n",
       "      <td>-3.949338e-02</td>\n",
       "      <td>-3.324879e-02</td>\n",
       "      <td>-3.317903e-02</td>\n",
       "    </tr>\n",
       "    <tr>\n",
       "      <th>50%</th>\n",
       "      <td>5.383060e-03</td>\n",
       "      <td>-4.464164e-02</td>\n",
       "      <td>-7.283766e-03</td>\n",
       "      <td>-5.670611e-03</td>\n",
       "      <td>-4.320866e-03</td>\n",
       "      <td>-3.819065e-03</td>\n",
       "      <td>-6.584468e-03</td>\n",
       "      <td>-2.592262e-03</td>\n",
       "      <td>-1.947634e-03</td>\n",
       "      <td>-1.077698e-03</td>\n",
       "    </tr>\n",
       "    <tr>\n",
       "      <th>75%</th>\n",
       "      <td>3.807591e-02</td>\n",
       "      <td>5.068012e-02</td>\n",
       "      <td>3.124802e-02</td>\n",
       "      <td>3.564384e-02</td>\n",
       "      <td>2.835801e-02</td>\n",
       "      <td>2.984439e-02</td>\n",
       "      <td>2.931150e-02</td>\n",
       "      <td>3.430886e-02</td>\n",
       "      <td>3.243323e-02</td>\n",
       "      <td>2.791705e-02</td>\n",
       "    </tr>\n",
       "    <tr>\n",
       "      <th>max</th>\n",
       "      <td>1.107267e-01</td>\n",
       "      <td>5.068012e-02</td>\n",
       "      <td>1.705552e-01</td>\n",
       "      <td>1.320442e-01</td>\n",
       "      <td>1.539137e-01</td>\n",
       "      <td>1.987880e-01</td>\n",
       "      <td>1.811791e-01</td>\n",
       "      <td>1.852344e-01</td>\n",
       "      <td>1.335990e-01</td>\n",
       "      <td>1.356118e-01</td>\n",
       "    </tr>\n",
       "  </tbody>\n",
       "</table>\n",
       "</div>"
      ],
      "text/plain": [
       "                age           sex           bmi            bp            s1  \\\n",
       "count  4.420000e+02  4.420000e+02  4.420000e+02  4.420000e+02  4.420000e+02   \n",
       "mean  -3.634285e-16  1.308343e-16 -8.045349e-16  1.281655e-16 -8.835316e-17   \n",
       "std    4.761905e-02  4.761905e-02  4.761905e-02  4.761905e-02  4.761905e-02   \n",
       "min   -1.072256e-01 -4.464164e-02 -9.027530e-02 -1.123996e-01 -1.267807e-01   \n",
       "25%   -3.729927e-02 -4.464164e-02 -3.422907e-02 -3.665645e-02 -3.424784e-02   \n",
       "50%    5.383060e-03 -4.464164e-02 -7.283766e-03 -5.670611e-03 -4.320866e-03   \n",
       "75%    3.807591e-02  5.068012e-02  3.124802e-02  3.564384e-02  2.835801e-02   \n",
       "max    1.107267e-01  5.068012e-02  1.705552e-01  1.320442e-01  1.539137e-01   \n",
       "\n",
       "                 s2            s3            s4            s5            s6  \n",
       "count  4.420000e+02  4.420000e+02  4.420000e+02  4.420000e+02  4.420000e+02  \n",
       "mean   1.327024e-16 -4.574646e-16  3.777301e-16 -3.830854e-16 -3.412882e-16  \n",
       "std    4.761905e-02  4.761905e-02  4.761905e-02  4.761905e-02  4.761905e-02  \n",
       "min   -1.156131e-01 -1.023071e-01 -7.639450e-02 -1.260974e-01 -1.377672e-01  \n",
       "25%   -3.035840e-02 -3.511716e-02 -3.949338e-02 -3.324879e-02 -3.317903e-02  \n",
       "50%   -3.819065e-03 -6.584468e-03 -2.592262e-03 -1.947634e-03 -1.077698e-03  \n",
       "75%    2.984439e-02  2.931150e-02  3.430886e-02  3.243323e-02  2.791705e-02  \n",
       "max    1.987880e-01  1.811791e-01  1.852344e-01  1.335990e-01  1.356118e-01  "
      ]
     },
     "execution_count": 35,
     "metadata": {},
     "output_type": "execute_result"
    }
   ],
   "source": [
    "features_df.describe()"
   ]
  },
  {
   "cell_type": "code",
   "execution_count": 36,
   "id": "27d43cf8",
   "metadata": {},
   "outputs": [
    {
     "data": {
      "text/plain": [
       "count    442.000000\n",
       "mean     152.133484\n",
       "std       77.093005\n",
       "min       25.000000\n",
       "25%       87.000000\n",
       "50%      140.500000\n",
       "75%      211.500000\n",
       "max      346.000000\n",
       "Name: target, dtype: float64"
      ]
     },
     "execution_count": 36,
     "metadata": {},
     "output_type": "execute_result"
    }
   ],
   "source": [
    "target_df.describe()"
   ]
  },
  {
   "cell_type": "code",
   "execution_count": 37,
   "id": "fbb37c00",
   "metadata": {},
   "outputs": [
    {
     "ename": "NameError",
     "evalue": "name 'save_fig' is not defined",
     "output_type": "error",
     "traceback": [
      "\u001b[1;31m---------------------------------------------------------------------------\u001b[0m",
      "\u001b[1;31mNameError\u001b[0m                                 Traceback (most recent call last)",
      "\u001b[1;32m~\\AppData\\Local\\Temp/ipykernel_17836/1725300485.py\u001b[0m in \u001b[0;36m<module>\u001b[1;34m\u001b[0m\n\u001b[0;32m      2\u001b[0m \u001b[1;32mimport\u001b[0m \u001b[0mmatplotlib\u001b[0m\u001b[1;33m.\u001b[0m\u001b[0mpyplot\u001b[0m \u001b[1;32mas\u001b[0m \u001b[0mplt\u001b[0m\u001b[1;33m\u001b[0m\u001b[1;33m\u001b[0m\u001b[0m\n\u001b[0;32m      3\u001b[0m \u001b[0mfeatures_df\u001b[0m\u001b[1;33m.\u001b[0m\u001b[0mhist\u001b[0m\u001b[1;33m(\u001b[0m\u001b[0mbins\u001b[0m\u001b[1;33m=\u001b[0m\u001b[1;36m50\u001b[0m\u001b[1;33m,\u001b[0m \u001b[0mfigsize\u001b[0m\u001b[1;33m=\u001b[0m\u001b[1;33m(\u001b[0m\u001b[1;36m20\u001b[0m\u001b[1;33m,\u001b[0m\u001b[1;36m15\u001b[0m\u001b[1;33m)\u001b[0m\u001b[1;33m)\u001b[0m\u001b[1;33m\u001b[0m\u001b[1;33m\u001b[0m\u001b[0m\n\u001b[1;32m----> 4\u001b[1;33m \u001b[0msave_fig\u001b[0m\u001b[1;33m(\u001b[0m\u001b[1;34m\"attribute_histogram_plots\"\u001b[0m\u001b[1;33m)\u001b[0m\u001b[1;33m\u001b[0m\u001b[1;33m\u001b[0m\u001b[0m\n\u001b[0m\u001b[0;32m      5\u001b[0m \u001b[0mplt\u001b[0m\u001b[1;33m.\u001b[0m\u001b[0mshow\u001b[0m\u001b[1;33m(\u001b[0m\u001b[1;33m)\u001b[0m\u001b[1;33m\u001b[0m\u001b[1;33m\u001b[0m\u001b[0m\n",
      "\u001b[1;31mNameError\u001b[0m: name 'save_fig' is not defined"
     ]
    },
    {
     "data": {
      "image/png": "[encoded data removed]",
      "text/plain": [
       "<Figure size 1440x1080 with 12 Axes>"
      ]
     },
     "metadata": {
      "needs_background": "light"
     },
     "output_type": "display_data"
    }
   ],
   "source": [
    "%matplotlib inline\n",
    "import matplotlib.pyplot as plt\n",
    "features_df.hist(bins=50, figsize=(20,15))\n",
    "save_fig(\"attribute_histogram_plots\")\n",
    "plt.show()"
   ]
  },
  {
   "cell_type": "code",
   "execution_count": 68,
   "id": "7ffc6248",
   "metadata": {},
   "outputs": [
    {
     "data": {
      "text/plain": [
       "<AxesSubplot:xlabel='bmi', ylabel='bp'>"
      ]
     },
     "execution_count": 68,
     "metadata": {},
     "output_type": "execute_result"
    },
    {
     "data": {
      "image/png": "[encoded data removed]",
      "text/plain": [
       "<Figure size 432x288 with 1 Axes>"
      ]
     },
     "metadata": {
      "needs_background": "light"
     },
     "output_type": "display_data"
    }
   ],
   "source": [
    "features_df.plot(kind='scatter',x='bmi',y='bp', s=50, c='red', alpha=0.1)"
   ]
  },
  {
   "cell_type": "code",
   "execution_count": 40,
   "id": "71f3bc08",
   "metadata": {},
   "outputs": [
    {
     "data": {
      "text/html": [
       "<div>\n",
       "<style scoped>\n",
       "    .dataframe tbody tr th:only-of-type {\n",
       "        vertical-align: middle;\n",
       "    }\n",
       "\n",
       "    .dataframe tbody tr th {\n",
       "        vertical-align: top;\n",
       "    }\n",
       "\n",
       "    .dataframe thead th {\n",
       "        text-align: right;\n",
       "    }\n",
       "</style>\n",
       "<table border=\"1\" class=\"dataframe\">\n",
       "  <thead>\n",
       "    <tr style=\"text-align: right;\">\n",
       "      <th></th>\n",
       "      <th>age</th>\n",
       "      <th>sex</th>\n",
       "      <th>bmi</th>\n",
       "      <th>bp</th>\n",
       "      <th>s1</th>\n",
       "      <th>s2</th>\n",
       "      <th>s3</th>\n",
       "      <th>s4</th>\n",
       "      <th>s5</th>\n",
       "      <th>s6</th>\n",
       "    </tr>\n",
       "  </thead>\n",
       "  <tbody>\n",
       "    <tr>\n",
       "      <th>age</th>\n",
       "      <td>1.000000</td>\n",
       "      <td>0.173737</td>\n",
       "      <td>0.185085</td>\n",
       "      <td>0.335427</td>\n",
       "      <td>0.260061</td>\n",
       "      <td>0.219243</td>\n",
       "      <td>-0.075181</td>\n",
       "      <td>0.203841</td>\n",
       "      <td>0.270777</td>\n",
       "      <td>0.301731</td>\n",
       "    </tr>\n",
       "    <tr>\n",
       "      <th>sex</th>\n",
       "      <td>0.173737</td>\n",
       "      <td>1.000000</td>\n",
       "      <td>0.088161</td>\n",
       "      <td>0.241013</td>\n",
       "      <td>0.035277</td>\n",
       "      <td>0.142637</td>\n",
       "      <td>-0.379090</td>\n",
       "      <td>0.332115</td>\n",
       "      <td>0.149918</td>\n",
       "      <td>0.208133</td>\n",
       "    </tr>\n",
       "    <tr>\n",
       "      <th>bmi</th>\n",
       "      <td>0.185085</td>\n",
       "      <td>0.088161</td>\n",
       "      <td>1.000000</td>\n",
       "      <td>0.395415</td>\n",
       "      <td>0.249777</td>\n",
       "      <td>0.261170</td>\n",
       "      <td>-0.366811</td>\n",
       "      <td>0.413807</td>\n",
       "      <td>0.446159</td>\n",
       "      <td>0.388680</td>\n",
       "    </tr>\n",
       "    <tr>\n",
       "      <th>bp</th>\n",
       "      <td>0.335427</td>\n",
       "      <td>0.241013</td>\n",
       "      <td>0.395415</td>\n",
       "      <td>1.000000</td>\n",
       "      <td>0.242470</td>\n",
       "      <td>0.185558</td>\n",
       "      <td>-0.178761</td>\n",
       "      <td>0.257653</td>\n",
       "      <td>0.393478</td>\n",
       "      <td>0.390429</td>\n",
       "    </tr>\n",
       "    <tr>\n",
       "      <th>s1</th>\n",
       "      <td>0.260061</td>\n",
       "      <td>0.035277</td>\n",
       "      <td>0.249777</td>\n",
       "      <td>0.242470</td>\n",
       "      <td>1.000000</td>\n",
       "      <td>0.896663</td>\n",
       "      <td>0.051519</td>\n",
       "      <td>0.542207</td>\n",
       "      <td>0.515501</td>\n",
       "      <td>0.325717</td>\n",
       "    </tr>\n",
       "    <tr>\n",
       "      <th>s2</th>\n",
       "      <td>0.219243</td>\n",
       "      <td>0.142637</td>\n",
       "      <td>0.261170</td>\n",
       "      <td>0.185558</td>\n",
       "      <td>0.896663</td>\n",
       "      <td>1.000000</td>\n",
       "      <td>-0.196455</td>\n",
       "      <td>0.659817</td>\n",
       "      <td>0.318353</td>\n",
       "      <td>0.290600</td>\n",
       "    </tr>\n",
       "    <tr>\n",
       "      <th>s3</th>\n",
       "      <td>-0.075181</td>\n",
       "      <td>-0.379090</td>\n",
       "      <td>-0.366811</td>\n",
       "      <td>-0.178761</td>\n",
       "      <td>0.051519</td>\n",
       "      <td>-0.196455</td>\n",
       "      <td>1.000000</td>\n",
       "      <td>-0.738493</td>\n",
       "      <td>-0.398577</td>\n",
       "      <td>-0.273697</td>\n",
       "    </tr>\n",
       "    <tr>\n",
       "      <th>s4</th>\n",
       "      <td>0.203841</td>\n",
       "      <td>0.332115</td>\n",
       "      <td>0.413807</td>\n",
       "      <td>0.257653</td>\n",
       "      <td>0.542207</td>\n",
       "      <td>0.659817</td>\n",
       "      <td>-0.738493</td>\n",
       "      <td>1.000000</td>\n",
       "      <td>0.617857</td>\n",
       "      <td>0.417212</td>\n",
       "    </tr>\n",
       "    <tr>\n",
       "      <th>s5</th>\n",
       "      <td>0.270777</td>\n",
       "      <td>0.149918</td>\n",
       "      <td>0.446159</td>\n",
       "      <td>0.393478</td>\n",
       "      <td>0.515501</td>\n",
       "      <td>0.318353</td>\n",
       "      <td>-0.398577</td>\n",
       "      <td>0.617857</td>\n",
       "      <td>1.000000</td>\n",
       "      <td>0.464670</td>\n",
       "    </tr>\n",
       "    <tr>\n",
       "      <th>s6</th>\n",
       "      <td>0.301731</td>\n",
       "      <td>0.208133</td>\n",
       "      <td>0.388680</td>\n",
       "      <td>0.390429</td>\n",
       "      <td>0.325717</td>\n",
       "      <td>0.290600</td>\n",
       "      <td>-0.273697</td>\n",
       "      <td>0.417212</td>\n",
       "      <td>0.464670</td>\n",
       "      <td>1.000000</td>\n",
       "    </tr>\n",
       "  </tbody>\n",
       "</table>\n",
       "</div>"
      ],
      "text/plain": [
       "          age       sex       bmi        bp        s1        s2        s3  \\\n",
       "age  1.000000  0.173737  0.185085  0.335427  0.260061  0.219243 -0.075181   \n",
       "sex  0.173737  1.000000  0.088161  0.241013  0.035277  0.142637 -0.379090   \n",
       "bmi  0.185085  0.088161  1.000000  0.395415  0.249777  0.261170 -0.366811   \n",
       "bp   0.335427  0.241013  0.395415  1.000000  0.242470  0.185558 -0.178761   \n",
       "s1   0.260061  0.035277  0.249777  0.242470  1.000000  0.896663  0.051519   \n",
       "s2   0.219243  0.142637  0.261170  0.185558  0.896663  1.000000 -0.196455   \n",
       "s3  -0.075181 -0.379090 -0.366811 -0.178761  0.051519 -0.196455  1.000000   \n",
       "s4   0.203841  0.332115  0.413807  0.257653  0.542207  0.659817 -0.738493   \n",
       "s5   0.270777  0.149918  0.446159  0.393478  0.515501  0.318353 -0.398577   \n",
       "s6   0.301731  0.208133  0.388680  0.390429  0.325717  0.290600 -0.273697   \n",
       "\n",
       "           s4        s5        s6  \n",
       "age  0.203841  0.270777  0.301731  \n",
       "sex  0.332115  0.149918  0.208133  \n",
       "bmi  0.413807  0.446159  0.388680  \n",
       "bp   0.257653  0.393478  0.390429  \n",
       "s1   0.542207  0.515501  0.325717  \n",
       "s2   0.659817  0.318353  0.290600  \n",
       "s3  -0.738493 -0.398577 -0.273697  \n",
       "s4   1.000000  0.617857  0.417212  \n",
       "s5   0.617857  1.000000  0.464670  \n",
       "s6   0.417212  0.464670  1.000000  "
      ]
     },
     "execution_count": 40,
     "metadata": {},
     "output_type": "execute_result"
    }
   ],
   "source": [
    "features_df.corr()"
   ]
  },
  {
   "cell_type": "code",
   "execution_count": 69,
   "id": "3c6ca56e",
   "metadata": {},
   "outputs": [],
   "source": [
    "corr_matrix = features_df.corr()"
   ]
  },
  {
   "cell_type": "code",
   "execution_count": 96,
   "id": "911994b5",
   "metadata": {},
   "outputs": [
    {
     "data": {
      "text/plain": [
       "s1     1.000000\n",
       "s2     0.896663\n",
       "s4     0.542207\n",
       "s5     0.515501\n",
       "s6     0.325717\n",
       "age    0.260061\n",
       "bmi    0.249777\n",
       "bp     0.242470\n",
       "s3     0.051519\n",
       "sex    0.035277\n",
       "Name: s1, dtype: float64"
      ]
     },
     "execution_count": 96,
     "metadata": {},
     "output_type": "execute_result"
    }
   ],
   "source": [
    "corr_matrix[\"s1\"].sort_values(ascending=False)"
   ]
  },
  {
   "cell_type": "code",
   "execution_count": 97,
   "id": "e3763b6e",
   "metadata": {},
   "outputs": [
    {
     "data": {
      "text/plain": [
       "s2     1.000000\n",
       "s1     0.896663\n",
       "s4     0.659817\n",
       "s5     0.318353\n",
       "s6     0.290600\n",
       "bmi    0.261170\n",
       "age    0.219243\n",
       "bp     0.185558\n",
       "sex    0.142637\n",
       "s3    -0.196455\n",
       "Name: s2, dtype: float64"
      ]
     },
     "execution_count": 97,
     "metadata": {},
     "output_type": "execute_result"
    }
   ],
   "source": [
    "corr_matrix[\"s2\"].sort_values(ascending=False)"
   ]
  },
  {
   "cell_type": "code",
   "execution_count": 101,
   "id": "f7ff8801",
   "metadata": {},
   "outputs": [
    {
     "data": {
      "text/plain": [
       "0     -0.044223\n",
       "1     -0.008449\n",
       "2     -0.045599\n",
       "3      0.012191\n",
       "4      0.003935\n",
       "         ...   \n",
       "437   -0.005697\n",
       "438    0.049341\n",
       "439   -0.037344\n",
       "440    0.016318\n",
       "441    0.083740\n",
       "Name: s1, Length: 442, dtype: float64"
      ]
     },
     "execution_count": 101,
     "metadata": {},
     "output_type": "execute_result"
    }
   ],
   "source": [
    "X=features_df['s1']\n",
    "y=features_df['s2']\n",
    "X\n"
   ]
  },
  {
   "cell_type": "code",
   "execution_count": 100,
   "id": "68b40c1b",
   "metadata": {},
   "outputs": [
    {
     "data": {
      "text/plain": [
       "0     -0.034821\n",
       "1     -0.019163\n",
       "2     -0.034194\n",
       "3      0.024991\n",
       "4      0.015596\n",
       "         ...   \n",
       "437   -0.002566\n",
       "438    0.079165\n",
       "439   -0.013840\n",
       "440    0.015283\n",
       "441    0.027809\n",
       "Name: s2, Length: 442, dtype: float64"
      ]
     },
     "execution_count": 100,
     "metadata": {},
     "output_type": "execute_result"
    }
   ],
   "source": [
    "y"
   ]
  },
  {
   "cell_type": "code",
   "execution_count": 102,
   "id": "226f77d6",
   "metadata": {},
   "outputs": [],
   "source": [
    "import sklearn.model_selection as model_selection\n",
    "X_train,X_test,y_train,y_test=model_selection.train_test_split(X,y,test_size=0.2)"
   ]
  },
  {
   "cell_type": "code",
   "execution_count": 105,
   "id": "93ea8c85",
   "metadata": {},
   "outputs": [
    {
     "data": {
      "text/plain": [
       "353"
      ]
     },
     "execution_count": 105,
     "metadata": {},
     "output_type": "execute_result"
    }
   ],
   "source": [
    "len(X_train)"
   ]
  },
  {
   "cell_type": "code",
   "execution_count": 106,
   "id": "d9627a48",
   "metadata": {},
   "outputs": [
    {
     "data": {
      "text/plain": [
       "353"
      ]
     },
     "execution_count": 106,
     "metadata": {},
     "output_type": "execute_result"
    }
   ],
   "source": [
    "len(y_train)"
   ]
  },
  {
   "cell_type": "code",
   "execution_count": 107,
   "id": "6d94a6f8",
   "metadata": {},
   "outputs": [
    {
     "data": {
      "text/plain": [
       "89"
      ]
     },
     "execution_count": 107,
     "metadata": {},
     "output_type": "execute_result"
    }
   ],
   "source": [
    "len(X_test)"
   ]
  },
  {
   "cell_type": "code",
   "execution_count": 108,
   "id": "510e594a",
   "metadata": {},
   "outputs": [
    {
     "data": {
      "text/plain": [
       "89"
      ]
     },
     "execution_count": 108,
     "metadata": {},
     "output_type": "execute_result"
    }
   ],
   "source": [
    "len(y_test)"
   ]
  },
  {
   "cell_type": "code",
   "execution_count": 111,
   "id": "1b22b8a2",
   "metadata": {},
   "outputs": [],
   "source": [
    "from sklearn.linear_model import LinearRegression\n"
   ]
  },
  {
   "cell_type": "code",
   "execution_count": 122,
   "id": "98cd0972",
   "metadata": {},
   "outputs": [],
   "source": [
    "import matplotlib.pyplot as plt \n",
    "import numpy as np\n",
    "import pandas as pd"
   ]
  },
  {
   "cell_type": "code",
   "execution_count": 123,
   "id": "efeb5f0d",
   "metadata": {},
   "outputs": [
    {
     "name": "stdout",
     "output_type": "stream",
     "text": [
      "     Coefficients\n",
      "age    -10.012198\n",
      "sex   -239.819089\n",
      "bmi    519.839787\n",
      "bp     324.390428\n",
      "s1    -792.184162\n",
      "s2     476.745838\n",
      "s3     101.044570\n",
      "s4     177.064176\n",
      "s5     751.279321\n",
      "s6      67.625386\n"
     ]
    }
   ],
   "source": [
    "cdf = pd.DataFrame(model.coef_, features_df.columns, columns=['Coefficients'])\n",
    "print(cdf)"
   ]
  },
  {
   "cell_type": "code",
   "execution_count": 129,
   "id": "cc3569af",
   "metadata": {},
   "outputs": [
    {
     "data": {
      "text/plain": [
       "(353, 1)"
      ]
     },
     "execution_count": 129,
     "metadata": {},
     "output_type": "execute_result"
    }
   ],
   "source": [
    "X_train.shape"
   ]
  },
  {
   "cell_type": "code",
   "execution_count": 130,
   "id": "e5f1830f",
   "metadata": {},
   "outputs": [
    {
     "data": {
      "text/plain": [
       "(89, 1)"
      ]
     },
     "execution_count": 130,
     "metadata": {},
     "output_type": "execute_result"
    }
   ],
   "source": [
    "X_test.shape"
   ]
  },
  {
   "cell_type": "code",
   "execution_count": 135,
   "id": "83bd8d2a",
   "metadata": {},
   "outputs": [
    {
     "data": {
      "text/plain": [
       "(353, 1)"
      ]
     },
     "execution_count": 135,
     "metadata": {},
     "output_type": "execute_result"
    }
   ],
   "source": [
    "y_train.shape"
   ]
  },
  {
   "cell_type": "code",
   "execution_count": 138,
   "id": "0ebca668",
   "metadata": {},
   "outputs": [
    {
     "data": {
      "text/plain": [
       "(89, 1)"
      ]
     },
     "execution_count": 138,
     "metadata": {},
     "output_type": "execute_result"
    }
   ],
   "source": [
    "y_test.shape"
   ]
  },
  {
   "cell_type": "code",
   "execution_count": 139,
   "id": "4ca94697",
   "metadata": {},
   "outputs": [
    {
     "data": {
      "text/plain": [
       "LinearRegression()"
      ]
     },
     "execution_count": 139,
     "metadata": {},
     "output_type": "execute_result"
    }
   ],
   "source": [
    "lm=LinearRegression()\n",
    "lm.fit(X_train,y_train)"
   ]
  },
  {
   "cell_type": "code",
   "execution_count": 140,
   "id": "ca5d20a3",
   "metadata": {},
   "outputs": [
    {
     "name": "stdout",
     "output_type": "stream",
     "text": [
      "[-0.0004047]\n"
     ]
    }
   ],
   "source": [
    "print(lm.intercept_)"
   ]
  },
  {
   "cell_type": "code",
   "execution_count": 142,
   "id": "c6dedf91",
   "metadata": {},
   "outputs": [
    {
     "name": "stdout",
     "output_type": "stream",
     "text": [
      "[[0.89332029]]\n"
     ]
    }
   ],
   "source": [
    "print(lm.coef_)"
   ]
  },
  {
   "cell_type": "code",
   "execution_count": 143,
   "id": "17b09d56",
   "metadata": {},
   "outputs": [
    {
     "data": {
      "image/png": "[encoded data removed]",
      "text/plain": [
       "<Figure size 432x288 with 1 Axes>"
      ]
     },
     "metadata": {
      "needs_background": "light"
     },
     "output_type": "display_data"
    }
   ],
   "source": [
    "plt.scatter(X_train, y_train)\n",
    "plt.plot(X_train,-0.0004047 + 0.89332029*X_train, 'r')\n",
    "plt.show()"
   ]
  },
  {
   "cell_type": "code",
   "execution_count": 145,
   "id": "cc9d0bbe",
   "metadata": {},
   "outputs": [],
   "source": [
    "y_train_pred = lm.predict(X_train)\n",
    "y_test_pred = lm.predict(X_test)\n"
   ]
  },
  {
   "cell_type": "code",
   "execution_count": 152,
   "id": "225ec8ac",
   "metadata": {},
   "outputs": [
    {
     "data": {
      "text/plain": [
       "array([[-0.02024379],\n",
       "       [ 0.03506871],\n",
       "       [ 0.05350621],\n",
       "       [ 0.00925621],\n",
       "       [-0.05957712],\n",
       "       [ 0.00065205],\n",
       "       [ 0.13586037],\n",
       "       [-0.03376462],\n",
       "       [ 0.04244371],\n",
       "       [ 0.04858954],\n",
       "       [-0.04482712],\n",
       "       [-0.01041045],\n",
       "       [ 0.01663121],\n",
       "       [-0.02516045],\n",
       "       [-0.01409795],\n",
       "       [-0.02270212],\n",
       "       [-0.00795212],\n",
       "       [-0.02884795],\n",
       "       [-0.00303545],\n",
       "       [-0.01532712],\n",
       "       [-0.02270212],\n",
       "       [ 0.01048538],\n",
       "       [ 0.09775621],\n",
       "       [ 0.08054788],\n",
       "       [ 0.00065205],\n",
       "       [ 0.06702704],\n",
       "       [ 0.01540205],\n",
       "       [-0.00549379],\n",
       "       [-0.01163962],\n",
       "       [ 0.09775621],\n",
       "       [-0.03130629],\n",
       "       [ 0.03015204],\n",
       "       [-0.02884795],\n",
       "       [ 0.03383954],\n",
       "       [-0.04482712],\n",
       "       [ 0.02769371],\n",
       "       [-0.01778545],\n",
       "       [-0.02393129],\n",
       "       [ 0.04858954],\n",
       "       [-0.04605628],\n",
       "       [-0.00057712],\n",
       "       [-0.03376462],\n",
       "       [ 0.03752704],\n",
       "       [ 0.00188121],\n",
       "       [-0.01041045],\n",
       "       [-0.03376462],\n",
       "       [ 0.03998538],\n",
       "       [-0.05711878],\n",
       "       [ 0.00188121],\n",
       "       [-0.03868129],\n",
       "       [-0.05466045],\n",
       "       [-0.06818128],\n",
       "       [-0.00672295],\n",
       "       [-0.02270212],\n",
       "       [-0.00918129],\n",
       "       [-0.02270212],\n",
       "       [-0.00426462],\n",
       "       [-0.03007712],\n",
       "       [-0.01163962],\n",
       "       [ 0.02400621],\n",
       "       [ 0.11250621],\n",
       "       [-0.08047295],\n",
       "       [ 0.11127704],\n",
       "       [-0.03499379],\n",
       "       [ 0.11127704],\n",
       "       [-0.00795212],\n",
       "       [ 0.04858954],\n",
       "       [-0.09030628],\n",
       "       [-0.04482712],\n",
       "       [ 0.00925621],\n",
       "       [-0.02638962],\n",
       "       [ 0.00679788],\n",
       "       [ 0.03383954],\n",
       "       [-0.01041045],\n",
       "       [-0.05343128],\n",
       "       [ 0.07071454],\n",
       "       [ 0.00802705],\n",
       "       [-0.03007712],\n",
       "       [ 0.01786038],\n",
       "       [ 0.02277704],\n",
       "       [-0.01532712],\n",
       "       [-0.00672295],\n",
       "       [-0.03376462],\n",
       "       [-0.05343128],\n",
       "       [ 0.02154788],\n",
       "       [-0.04236878],\n",
       "       [-0.02884795],\n",
       "       [-0.06818128],\n",
       "       [ 0.01786038],\n",
       "       [-0.00549379],\n",
       "       [-0.03253545],\n",
       "       [ 0.04367288],\n",
       "       [-0.02270212],\n",
       "       [ 0.00556871],\n",
       "       [-0.00918129],\n",
       "       [-0.02884795],\n",
       "       [-0.00303545],\n",
       "       [-0.00303545],\n",
       "       [-0.02270212],\n",
       "       [ 0.04244371],\n",
       "       [-0.02147295],\n",
       "       [-0.00672295],\n",
       "       [ 0.01786038],\n",
       "       [ 0.03261038],\n",
       "       [-0.02761879],\n",
       "       [-0.03253545],\n",
       "       [ 0.04981871],\n",
       "       [-0.02270212],\n",
       "       [ 0.05719371],\n",
       "       [ 0.05350621],\n",
       "       [ 0.04613121],\n",
       "       [ 0.02769371],\n",
       "       [-0.03253545],\n",
       "       [-0.00918129],\n",
       "       [-0.00672295],\n",
       "       [-0.00057712],\n",
       "       [ 0.02031871],\n",
       "       [ 0.07563121],\n",
       "       [-0.04236878],\n",
       "       [ 0.02646454],\n",
       "       [-0.04113962],\n",
       "       [ 0.04736038],\n",
       "       [-0.06572295],\n",
       "       [-0.00303545],\n",
       "       [ 0.05596454],\n",
       "       [ 0.01294371],\n",
       "       [-0.01409795],\n",
       "       [-0.04851462],\n",
       "       [ 0.07808954],\n",
       "       [ 0.00679788],\n",
       "       [ 0.00433955],\n",
       "       [-0.02270212],\n",
       "       [-0.01655629],\n",
       "       [-0.01532712],\n",
       "       [ 0.03138121],\n",
       "       [-0.03991045],\n",
       "       [ 0.06948538],\n",
       "       [-0.01286879],\n",
       "       [-0.01041045],\n",
       "       [-0.01532712],\n",
       "       [ 0.00065205],\n",
       "       [-0.05588962],\n",
       "       [-0.02147295],\n",
       "       [ 0.01048538],\n",
       "       [ 0.04367288],\n",
       "       [ 0.13708954],\n",
       "       [ 0.03875621],\n",
       "       [-0.03007712],\n",
       "       [-0.02516045],\n",
       "       [-0.00057712],\n",
       "       [-0.03622295],\n",
       "       [-0.00426462],\n",
       "       [ 0.00433955],\n",
       "       [ 0.06579788],\n",
       "       [ 0.02892288],\n",
       "       [ 0.01294371],\n",
       "       [-0.00795212],\n",
       "       [-0.05957712],\n",
       "       [ 0.05596454],\n",
       "       [-0.03499379],\n",
       "       [ 0.00433955],\n",
       "       [-0.00426462],\n",
       "       [-0.00918129],\n",
       "       [-0.04605628],\n",
       "       [ 0.03506871],\n",
       "       [-0.03007712],\n",
       "       [-0.03253545],\n",
       "       [ 0.00679788],\n",
       "       [-0.03991045],\n",
       "       [-0.03745212],\n",
       "       [ 0.00311038],\n",
       "       [ 0.02277704],\n",
       "       [-0.03991045],\n",
       "       [ 0.10636037],\n",
       "       [ 0.07440204],\n",
       "       [ 0.00679788],\n",
       "       [ 0.02892288],\n",
       "       [-0.01041045],\n",
       "       [-0.03868129],\n",
       "       [-0.02638962],\n",
       "       [ 0.03506871],\n",
       "       [ 0.01048538],\n",
       "       [ 0.06211038],\n",
       "       [-0.01286879],\n",
       "       [ 0.01540205],\n",
       "       [ 0.07440204],\n",
       "       [ 0.03998538],\n",
       "       [ 0.02154788],\n",
       "       [-0.00672295],\n",
       "       [ 0.09161037],\n",
       "       [-0.00180629],\n",
       "       [ 0.03506871],\n",
       "       [-0.07555628],\n",
       "       [ 0.03506871],\n",
       "       [-0.02638962],\n",
       "       [ 0.06948538],\n",
       "       [ 0.04121454],\n",
       "       [ 0.00065205],\n",
       "       [-0.00672295],\n",
       "       [-0.02761879],\n",
       "       [-0.03622295],\n",
       "       [-0.02884795],\n",
       "       [ 0.08792287],\n",
       "       [ 0.04490204],\n",
       "       [-0.08661878],\n",
       "       [-0.00672295],\n",
       "       [ 0.01908955],\n",
       "       [-0.00303545],\n",
       "       [-0.00795212],\n",
       "       [-0.01409795],\n",
       "       [ 0.03875621],\n",
       "       [ 0.01786038],\n",
       "       [-0.03376462],\n",
       "       [-0.04482712],\n",
       "       [-0.07309795],\n",
       "       [ 0.03015204],\n",
       "       [-0.03007712],\n",
       "       [ 0.02154788],\n",
       "       [-0.05957712],\n",
       "       [ 0.07071454],\n",
       "       [ 0.06579788],\n",
       "       [-0.06818128],\n",
       "       [ 0.02154788],\n",
       "       [ 0.00065205],\n",
       "       [ 0.02646454],\n",
       "       [-0.03376462],\n",
       "       [ 0.00065205],\n",
       "       [ 0.01663121],\n",
       "       [-0.04359795],\n",
       "       [ 0.04367288],\n",
       "       [-0.03868129],\n",
       "       [-0.02147295],\n",
       "       [-0.06695212],\n",
       "       [ 0.04121454],\n",
       "       [ 0.05473538],\n",
       "       [-0.00795212],\n",
       "       [ 0.03383954],\n",
       "       [ 0.01048538],\n",
       "       [ 0.01908955],\n",
       "       [-0.00672295],\n",
       "       [ 0.02031871],\n",
       "       [-0.05220212],\n",
       "       [-0.04974378],\n",
       "       [-0.01778545],\n",
       "       [-0.00672295],\n",
       "       [-0.11366045],\n",
       "       [ 0.01786038],\n",
       "       [ 0.03261038],\n",
       "       [ 0.08300621],\n",
       "       [-0.01409795],\n",
       "       [ 0.02154788],\n",
       "       [ 0.03752704],\n",
       "       [-0.05711878],\n",
       "       [ 0.02400621],\n",
       "       [ 0.01540205],\n",
       "       [-0.06080628],\n",
       "       [-0.00426462],\n",
       "       [-0.01409795],\n",
       "       [-0.00549379],\n",
       "       [ 0.11373537],\n",
       "       [-0.04605628],\n",
       "       [-0.09276462],\n",
       "       [-0.01778545],\n",
       "       [-0.04113962],\n",
       "       [ 0.01171455],\n",
       "       [ 0.02400621],\n",
       "       [ 0.07931871],\n",
       "       [ 0.07808954],\n",
       "       [ 0.01048538],\n",
       "       [-0.01532712],\n",
       "       [-0.05466045],\n",
       "       [-0.00426462],\n",
       "       [-0.00549379],\n",
       "       [-0.01041045],\n",
       "       [-0.01532712],\n",
       "       [-0.06449378],\n",
       "       [-0.03376462],\n",
       "       [-0.04482712],\n",
       "       [ 0.06456871],\n",
       "       [ 0.00556871],\n",
       "       [-0.00057712],\n",
       "       [ 0.05719371],\n",
       "       [ 0.07931871],\n",
       "       [ 0.01417288],\n",
       "       [ 0.04367288],\n",
       "       [ 0.11373537],\n",
       "       [-0.04113962],\n",
       "       [-0.00057712],\n",
       "       [-0.05711878],\n",
       "       [-0.00180629],\n",
       "       [-0.05711878],\n",
       "       [-0.03991045],\n",
       "       [-0.02884795],\n",
       "       [-0.03376462],\n",
       "       [-0.09399378],\n",
       "       [-0.00180629],\n",
       "       [ 0.01908955],\n",
       "       [ 0.01540205],\n",
       "       [-0.04605628],\n",
       "       [-0.05957712],\n",
       "       [ 0.00433955],\n",
       "       [-0.06326462],\n",
       "       [-0.08661878],\n",
       "       [ 0.01294371],\n",
       "       [ 0.06825621],\n",
       "       [ 0.02400621],\n",
       "       [ 0.06333954],\n",
       "       [-0.00549379],\n",
       "       [ 0.04367288],\n",
       "       [-0.05097295],\n",
       "       [ 0.01417288],\n",
       "       [-0.06572295],\n",
       "       [-0.03130629],\n",
       "       [ 0.03629788],\n",
       "       [ 0.05965204],\n",
       "       [-0.08047295],\n",
       "       [ 0.01786038],\n",
       "       [ 0.03998538],\n",
       "       [-0.00303545],\n",
       "       [ 0.03629788],\n",
       "       [-0.08170212],\n",
       "       [-0.03130629],\n",
       "       [-0.02024379],\n",
       "       [-0.03868129],\n",
       "       [ 0.01171455],\n",
       "       [ 0.03138121],\n",
       "       [ 0.02646454],\n",
       "       [-0.04113962],\n",
       "       [ 0.05104788],\n",
       "       [-0.01163962],\n",
       "       [-0.00303545],\n",
       "       [-0.02393129],\n",
       "       [ 0.02031871],\n",
       "       [-0.01286879],\n",
       "       [ 0.01417288],\n",
       "       [-0.03376462],\n",
       "       [-0.06449378],\n",
       "       [-0.04236878],\n",
       "       [ 0.05104788],\n",
       "       [ 0.02892288],\n",
       "       [ 0.01048538],\n",
       "       [-0.09768128],\n",
       "       [ 0.00679788],\n",
       "       [ 0.04613121],\n",
       "       [ 0.01786038],\n",
       "       [ 0.02154788],\n",
       "       [ 0.05350621],\n",
       "       [-0.00918129],\n",
       "       [ 0.00065205],\n",
       "       [-0.04236878],\n",
       "       [-0.06818128],\n",
       "       [-0.01041045],\n",
       "       [-0.05343128]])"
      ]
     },
     "execution_count": 152,
     "metadata": {},
     "output_type": "execute_result"
    }
   ],
   "source": [
    "y_train_pred"
   ]
  },
  {
   "cell_type": "code",
   "execution_count": 153,
   "id": "12c1fc26",
   "metadata": {},
   "outputs": [
    {
     "data": {
      "text/plain": [
       "array([[ 0.01786038],\n",
       "       [-0.03376462],\n",
       "       [-0.01286879],\n",
       "       [-0.04851462],\n",
       "       [-0.05957712],\n",
       "       [ 0.00188121],\n",
       "       [-0.04482712],\n",
       "       [-0.01655629],\n",
       "       [ 0.05473538],\n",
       "       [-0.07186878],\n",
       "       [-0.00918129],\n",
       "       [ 0.00188121],\n",
       "       [-0.01286879],\n",
       "       [ 0.08177704],\n",
       "       [ 0.01048538],\n",
       "       [ 0.01294371],\n",
       "       [-0.01901462],\n",
       "       [-0.07555628],\n",
       "       [ 0.04736038],\n",
       "       [-0.05220212],\n",
       "       [-0.03868129],\n",
       "       [-0.03130629],\n",
       "       [-0.02638962],\n",
       "       [ 0.04121454],\n",
       "       [ 0.05104788],\n",
       "       [ 0.00802705],\n",
       "       [-0.00426462],\n",
       "       [-0.00672295],\n",
       "       [-0.00549379],\n",
       "       [-0.00303545],\n",
       "       [ 0.03138121],\n",
       "       [-0.04359795],\n",
       "       [-0.07924378],\n",
       "       [-0.04851462],\n",
       "       [-0.06203545],\n",
       "       [ 0.05719371],\n",
       "       [ 0.03015204],\n",
       "       [-0.04236878],\n",
       "       [ 0.01908955],\n",
       "       [ 0.03629788],\n",
       "       [-0.03991045],\n",
       "       [ 0.01171455],\n",
       "       [ 0.01294371],\n",
       "       [ 0.00679788],\n",
       "       [-0.03499379],\n",
       "       [-0.04113962],\n",
       "       [ 0.00311038],\n",
       "       [ 0.02769371],\n",
       "       [ 0.00065205],\n",
       "       [ 0.01786038],\n",
       "       [ 0.04858954],\n",
       "       [-0.01901462],\n",
       "       [ 0.03506871],\n",
       "       [-0.03007712],\n",
       "       [ 0.07071454],\n",
       "       [-0.07801462],\n",
       "       [ 0.01048538],\n",
       "       [-0.01901462],\n",
       "       [ 0.01048538],\n",
       "       [-0.01532712],\n",
       "       [-0.00549379],\n",
       "       [ 0.03383954],\n",
       "       [ 0.00311038],\n",
       "       [ 0.00556871],\n",
       "       [ 0.03875621],\n",
       "       [ 0.01171455],\n",
       "       [-0.00795212],\n",
       "       [ 0.02154788],\n",
       "       [-0.03499379],\n",
       "       [-0.03622295],\n",
       "       [-0.00057712],\n",
       "       [-0.00795212],\n",
       "       [-0.02761879],\n",
       "       [ 0.02523538],\n",
       "       [-0.03130629],\n",
       "       [-0.00426462],\n",
       "       [-0.02147295],\n",
       "       [ 0.01908955],\n",
       "       [ 0.06702704],\n",
       "       [-0.06572295],\n",
       "       [ 0.05227704],\n",
       "       [ 0.07317288],\n",
       "       [-0.01655629],\n",
       "       [ 0.00925621],\n",
       "       [ 0.11865204],\n",
       "       [-0.00426462],\n",
       "       [-0.00918129],\n",
       "       [-0.04974378],\n",
       "       [ 0.02154788]])"
      ]
     },
     "execution_count": 153,
     "metadata": {},
     "output_type": "execute_result"
    }
   ],
   "source": [
    "y_test_pred"
   ]
  },
  {
   "cell_type": "code",
   "execution_count": 154,
   "id": "51ce08ad",
   "metadata": {},
   "outputs": [],
   "source": [
    "from sklearn.metrics import r2_score"
   ]
  },
  {
   "cell_type": "code",
   "execution_count": 155,
   "id": "2fe94cb1",
   "metadata": {},
   "outputs": [
    {
     "name": "stdout",
     "output_type": "stream",
     "text": [
      "0.8015346006608755\n"
     ]
    }
   ],
   "source": [
    "print(r2_score(y_train,y_train_pred))\n"
   ]
  },
  {
   "cell_type": "code",
   "execution_count": 156,
   "id": "992a2a89",
   "metadata": {},
   "outputs": [
    {
     "name": "stdout",
     "output_type": "stream",
     "text": [
      "0.8155305703025819\n"
     ]
    }
   ],
   "source": [
    "print(r2_score(y_test,y_test_pred))"
   ]
  },
  {
   "cell_type": "code",
   "execution_count": 157,
   "id": "f4d879cd",
   "metadata": {},
   "outputs": [
    {
     "data": {
      "image/png": "[encoded data removed]",
      "text/plain": [
       "<Figure size 432x288 with 1 Axes>"
      ]
     },
     "metadata": {
      "needs_background": "light"
     },
     "output_type": "display_data"
    }
   ],
   "source": [
    "plt.scatter(X_test, y_test)\n",
    "plt.plot(X_test, y_test_pred, 'r')\n",
    "plt.show()"
   ]
  },
  {
   "cell_type": "code",
   "execution_count": 158,
   "id": "420ff643",
   "metadata": {},
   "outputs": [
    {
     "data": {
      "text/plain": [
       "0.0003533481176949376"
      ]
     },
     "execution_count": 158,
     "metadata": {},
     "output_type": "execute_result"
    }
   ],
   "source": [
    "from sklearn.metrics import mean_squared_error\n",
    "\n",
    "  \n",
    "# Calculation of Mean Squared Error (MSE)\n",
    "mean_squared_error(y_test,y_test_pred)"
   ]
  },
  {
   "cell_type": "code",
   "execution_count": 164,
   "id": "29e3eb74",
   "metadata": {},
   "outputs": [
    {
     "data": {
      "text/plain": [
       "0    151.0\n",
       "1     75.0\n",
       "2    141.0\n",
       "3    206.0\n",
       "4    135.0\n",
       "Name: target, dtype: float64"
      ]
     },
     "execution_count": 164,
     "metadata": {},
     "output_type": "execute_result"
    }
   ],
   "source": [
    "target_df.head()"
   ]
  },
  {
   "cell_type": "code",
   "execution_count": 167,
   "id": "ff891f56",
   "metadata": {},
   "outputs": [
    {
     "data": {
      "text/plain": [
       "array([[ 0.01786038],\n",
       "       [-0.03376462],\n",
       "       [-0.01286879],\n",
       "       [-0.04851462],\n",
       "       [-0.05957712]])"
      ]
     },
     "execution_count": 167,
     "metadata": {},
     "output_type": "execute_result"
    }
   ],
   "source": [
    "y_test_pred[0:5]"
   ]
  },
  {
   "cell_type": "code",
   "execution_count": 202,
   "id": "c92cfb3e",
   "metadata": {},
   "outputs": [],
   "source": [
    "from sklearn.datasets import make_blobs\n",
    "X, y = make_blobs(n_samples=300, centers=2, cluster_std=0.60, random_state=0)\n",
    "df = pd.DataFrame(X, columns=['x1','x2'])"
   ]
  },
  {
   "cell_type": "code",
   "execution_count": 203,
   "id": "04b48791",
   "metadata": {},
   "outputs": [],
   "source": [
    "import seaborn as sns"
   ]
  },
  {
   "cell_type": "code",
   "execution_count": 204,
   "id": "0bc15ec8",
   "metadata": {},
   "outputs": [
    {
     "data": {
      "image/png": "[encoded data removed]",
      "text/plain": [
       "<Figure size 432x288 with 1 Axes>"
      ]
     },
     "metadata": {
      "needs_background": "light"
     },
     "output_type": "display_data"
    }
   ],
   "source": [
    "sns.scatterplot(x=X[:,0],y=X[:,1],hue=y,palette='rainbow');"
   ]
  },
  {
   "cell_type": "code",
   "execution_count": 205,
   "id": "57cce208",
   "metadata": {},
   "outputs": [],
   "source": [
    "from sklearn.cluster import KMeans\n",
    "kmeans = KMeans(n_clusters=4)"
   ]
  },
  {
   "cell_type": "code",
   "execution_count": 206,
   "id": "0fe9d5a3",
   "metadata": {},
   "outputs": [
    {
     "data": {
      "text/plain": [
       "KMeans(n_clusters=4)"
      ]
     },
     "execution_count": 206,
     "metadata": {},
     "output_type": "execute_result"
    }
   ],
   "source": [
    "kmeans.fit(X)"
   ]
  },
  {
   "cell_type": "code",
   "execution_count": 207,
   "id": "ab87a518",
   "metadata": {},
   "outputs": [
    {
     "data": {
      "text/plain": [
       "array([2, 1, 0, 1, 2, 2, 1, 2, 1, 1, 3, 0, 3, 2, 2, 3, 2, 2, 3, 0, 1, 2,\n",
       "       0, 0, 3, 3, 0, 1, 3, 0, 1, 2, 0, 0, 1, 1, 3, 1, 2, 2, 1, 0, 2, 1,\n",
       "       0, 0, 1, 1, 3, 1, 3, 3, 3, 3, 1, 0, 0, 3, 3, 2, 1, 3, 0, 1, 3, 0,\n",
       "       0, 3, 0, 0, 3, 1, 1, 2, 3, 0, 2, 1, 2, 0, 1, 2, 3, 0, 0, 2, 3, 3,\n",
       "       0, 0, 3, 1, 3, 2, 1, 2, 1, 1, 0, 3, 3, 2, 2, 0, 0, 3, 2, 3, 0, 2,\n",
       "       3, 2, 0, 3, 0, 2, 2, 3, 0, 3, 1, 1, 2, 2, 1, 0, 3, 3, 1, 1, 3, 0,\n",
       "       3, 3, 1, 1, 0, 1, 3, 3, 0, 3, 0, 3, 1, 0, 1, 3, 3, 0, 3, 0, 0, 3,\n",
       "       1, 1, 0, 0, 3, 0, 0, 0, 2, 3, 2, 2, 0, 0, 3, 0, 2, 1, 3, 2, 0, 0,\n",
       "       0, 2, 3, 3, 2, 0, 2, 2, 3, 1, 2, 1, 0, 2, 3, 3, 3, 0, 1, 3, 2, 3,\n",
       "       0, 1, 2, 3, 3, 1, 2, 1, 0, 1, 0, 0, 1, 1, 3, 0, 0, 2, 1, 2, 2, 3,\n",
       "       2, 3, 2, 3, 0, 2, 1, 0, 0, 3, 2, 2, 3, 1, 1, 0, 0, 0, 3, 3, 1, 1,\n",
       "       3, 1, 0, 1, 2, 0, 3, 3, 1, 0, 0, 3, 2, 2, 3, 0, 1, 3, 2, 3, 2, 2,\n",
       "       2, 3, 3, 0, 2, 0, 0, 0, 1, 1, 0, 0, 0, 2, 2, 0, 3, 3, 1, 2, 0, 3,\n",
       "       1, 3, 0, 2, 0, 3, 1, 0, 1, 1, 0, 3, 3, 2])"
      ]
     },
     "execution_count": 207,
     "metadata": {},
     "output_type": "execute_result"
    }
   ],
   "source": [
    "kmeans.labels_"
   ]
  },
  {
   "cell_type": "code",
   "execution_count": 208,
   "id": "d718e4a4",
   "metadata": {},
   "outputs": [
    {
     "data": {
      "image/png": "[encoded data removed]",
      "text/plain": [
       "<Figure size 432x288 with 1 Axes>"
      ]
     },
     "metadata": {
      "needs_background": "light"
     },
     "output_type": "display_data"
    }
   ],
   "source": [
    "sns.scatterplot(x=X[:,0],\n",
    "                y=X[:,1],\n",
    "                hue=kmeans.labels_,\n",
    "                palette='rainbow');"
   ]
  },
  {
   "cell_type": "code",
   "execution_count": 209,
   "id": "1add81a5",
   "metadata": {},
   "outputs": [],
   "source": [
    "X, y = make_blobs(n_samples=300, centers=8, cluster_std=0.60, random_state=0)\n",
    "df = pd.DataFrame(X, columns=['x1','x2'])"
   ]
  },
  {
   "cell_type": "code",
   "execution_count": 210,
   "id": "575dcf4c",
   "metadata": {},
   "outputs": [
    {
     "data": {
      "image/png": "[encoded data removed]",
      "text/plain": [
       "<Figure size 432x288 with 1 Axes>"
      ]
     },
     "metadata": {
      "needs_background": "light"
     },
     "output_type": "display_data"
    }
   ],
   "source": [
    "sns.scatterplot(x=X[:,0],y=X[:,1],hue=y,palette='rainbow');"
   ]
  },
  {
   "cell_type": "code",
   "execution_count": null,
   "id": "03cfe672",
   "metadata": {},
   "outputs": [],
   "source": []
  }
 ],
 "metadata": {
  "kernelspec": {
   "display_name": "Python 3 (ipykernel)",
   "language": "python",
   "name": "python3"
  },
  "language_info": {
   "codemirror_mode": {
    "name": "ipython",
    "version": 3
   },
   "file_extension": ".py",
   "mimetype": "text/x-python",
   "name": "python",
   "nbconvert_exporter": "python",
   "pygments_lexer": "ipython3",
   "version": "3.9.7"
  }
 },
 "nbformat": 4,
 "nbformat_minor": 5
}
