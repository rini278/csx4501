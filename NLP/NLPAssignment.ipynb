{
 "cells": [
  {
   "cell_type": "code",
   "execution_count": 45,
   "id": "6177970f",
   "metadata": {},
   "outputs": [],
   "source": [
    "import nltk\n",
    "from nltk import sent_tokenize,word_tokenize"
   ]
  },
  {
   "cell_type": "code",
   "execution_count": 35,
   "id": "137d4a1b",
   "metadata": {},
   "outputs": [
    {
     "name": "stderr",
     "output_type": "stream",
     "text": [
      "[nltk_data] Downloading package punkt to\n",
      "[nltk_data]     C:\\Users\\LENOVO\\AppData\\Roaming\\nltk_data...\n",
      "[nltk_data]   Package punkt is already up-to-date!\n"
     ]
    },
    {
     "data": {
      "text/plain": [
       "True"
      ]
     },
     "execution_count": 35,
     "metadata": {},
     "output_type": "execute_result"
    }
   ],
   "source": [
    "nltk.download('punkt')"
   ]
  },
  {
   "cell_type": "code",
   "execution_count": 71,
   "id": "b235a0b7",
   "metadata": {},
   "outputs": [],
   "source": [
    "text= open('New Text Document.txt')"
   ]
  },
  {
   "cell_type": "code",
   "execution_count": 72,
   "id": "6e86ddef",
   "metadata": {},
   "outputs": [
    {
     "ename": "FileNotFoundError",
     "evalue": "[Errno 2] No such file or directory: 'New Text Document1'",
     "output_type": "error",
     "traceback": [
      "\u001b[1;31m---------------------------------------------------------------------------\u001b[0m",
      "\u001b[1;31mFileNotFoundError\u001b[0m                         Traceback (most recent call last)",
      "\u001b[1;32m~\\AppData\\Local\\Temp/ipykernel_13776/590278296.py\u001b[0m in \u001b[0;36m<module>\u001b[1;34m\u001b[0m\n\u001b[1;32m----> 1\u001b[1;33m \u001b[0mtext\u001b[0m \u001b[1;33m=\u001b[0m \u001b[0mopen\u001b[0m\u001b[1;33m(\u001b[0m\u001b[1;34m'New Text Document1'\u001b[0m\u001b[1;33m,\u001b[0m\u001b[1;34m'r'\u001b[0m\u001b[1;33m)\u001b[0m\u001b[1;33m\u001b[0m\u001b[1;33m\u001b[0m\u001b[0m\n\u001b[0m",
      "\u001b[1;31mFileNotFoundError\u001b[0m: [Errno 2] No such file or directory: 'New Text Document1'"
     ]
    }
   ],
   "source": [
    "# text = open('bentest.txt','r')"
   ]
  },
  {
   "cell_type": "code",
   "execution_count": 65,
   "id": "a8af8df5",
   "metadata": {},
   "outputs": [],
   "source": [
    "mytext = text.read()"
   ]
  },
  {
   "cell_type": "code",
   "execution_count": 66,
   "id": "c781a7de",
   "metadata": {},
   "outputs": [],
   "source": [
    "textdata=\"Madam, an hour before the worshipp'd sun Peer'd forth the golden window of the east, A troubled mind drave me to walk abroad; Where, underneath the grove of sycamore That westward rooteth from the city's side, So early walking did I see your son Towards him I made, but he was ware of me And stole into the covert of the wood I, measuring his affections by my own, That most are busied when they're most alone,Pursued my humour not pursuing his, And gladly shunn'd who gladly fled from me\""
   ]
  },
  {
   "cell_type": "code",
   "execution_count": 67,
   "id": "92d33b69",
   "metadata": {},
   "outputs": [
    {
     "data": {
      "text/plain": [
       "<_io.TextIOWrapper name='bentest.txt' mode='r' encoding='cp1252'>"
      ]
     },
     "execution_count": 67,
     "metadata": {},
     "output_type": "execute_result"
    }
   ],
   "source": [
    "text"
   ]
  },
  {
   "cell_type": "code",
   "execution_count": 68,
   "id": "30e9c2e4",
   "metadata": {},
   "outputs": [
    {
     "data": {
      "text/plain": [
       "''"
      ]
     },
     "execution_count": 68,
     "metadata": {},
     "output_type": "execute_result"
    }
   ],
   "source": [
    "mytext"
   ]
  },
  {
   "cell_type": "code",
   "execution_count": 69,
   "id": "50056028",
   "metadata": {},
   "outputs": [
    {
     "name": "stdout",
     "output_type": "stream",
     "text": [
      "[]\n"
     ]
    }
   ],
   "source": [
    "sent = sent_tokenize(mytext)\n",
    "print(sent)"
   ]
  },
  {
   "cell_type": "code",
   "execution_count": 43,
   "id": "bebf3191",
   "metadata": {},
   "outputs": [
    {
     "name": "stdout",
     "output_type": "stream",
     "text": [
      "[\"Madam, an hour before the worshipp'd sun Peer'd forth the golden window of the east, A troubled mind drave me to walk abroad; Where, underneath the grove of sycamore That westward rooteth from the city's side, So early walking did I see your son Towards him I made, but he was ware of me And stole into the covert of the wood I, measuring his affections by my own, That most are busied when they're most alone,Pursued my humour not pursuing his, And gladly shunn'd who gladly fled from me\"]\n"
     ]
    }
   ],
   "source": [
    "sent = sent_tokenize(textdata)\n",
    "print(sent)"
   ]
  },
  {
   "cell_type": "code",
   "execution_count": 47,
   "id": "69f635d7",
   "metadata": {},
   "outputs": [
    {
     "name": "stdout",
     "output_type": "stream",
     "text": [
      "['Madam', ',', 'an', 'hour', 'before', 'the', 'worshipp', \"'d\", 'sun', 'Peer', \"'d\", 'forth', 'the', 'golden', 'window', 'of', 'the', 'east', ',', 'A', 'troubled', 'mind', 'drave', 'me', 'to', 'walk', 'abroad', ';', 'Where', ',', 'underneath', 'the', 'grove', 'of', 'sycamore', 'That', 'westward', 'rooteth', 'from', 'the', 'city', \"'s\", 'side', ',', 'So', 'early', 'walking', 'did', 'I', 'see', 'your', 'son', 'Towards', 'him', 'I', 'made', ',', 'but', 'he', 'was', 'ware', 'of', 'me', 'And', 'stole', 'into', 'the', 'covert', 'of', 'the', 'wood', 'I', ',', 'measuring', 'his', 'affections', 'by', 'my', 'own', ',', 'That', 'most', 'are', 'busied', 'when', 'they', \"'re\", 'most', 'alone', ',', 'Pursued', 'my', 'humour', 'not', 'pursuing', 'his', ',', 'And', 'gladly', 'shunn', \"'d\", 'who', 'gladly', 'fled', 'from', 'me']\n"
     ]
    }
   ],
   "source": [
    "print(word_tokenize(sent[0]))"
   ]
  },
  {
   "cell_type": "code",
   "execution_count": 48,
   "id": "30eb76a6",
   "metadata": {},
   "outputs": [],
   "source": [
    "words = []\n",
    "for s in sent:\n",
    "    for w in word_tokenize(s):\n",
    "        words.append(w)"
   ]
  },
  {
   "cell_type": "code",
   "execution_count": 49,
   "id": "e6645981",
   "metadata": {},
   "outputs": [
    {
     "name": "stdout",
     "output_type": "stream",
     "text": [
      "['Madam', ',', 'an', 'hour', 'before', 'the', 'worshipp', \"'d\", 'sun', 'Peer', \"'d\", 'forth', 'the', 'golden', 'window', 'of', 'the', 'east', ',', 'A', 'troubled', 'mind', 'drave', 'me', 'to', 'walk', 'abroad', ';', 'Where', ',', 'underneath', 'the', 'grove', 'of', 'sycamore', 'That', 'westward', 'rooteth', 'from', 'the', 'city', \"'s\", 'side', ',', 'So', 'early', 'walking', 'did', 'I', 'see', 'your', 'son', 'Towards', 'him', 'I', 'made', ',', 'but', 'he', 'was', 'ware', 'of', 'me', 'And', 'stole', 'into', 'the', 'covert', 'of', 'the', 'wood', 'I', ',', 'measuring', 'his', 'affections', 'by', 'my', 'own', ',', 'That', 'most', 'are', 'busied', 'when', 'they', \"'re\", 'most', 'alone', ',', 'Pursued', 'my', 'humour', 'not', 'pursuing', 'his', ',', 'And', 'gladly', 'shunn', \"'d\", 'who', 'gladly', 'fled', 'from', 'me']\n"
     ]
    }
   ],
   "source": [
    "print(words)"
   ]
  },
  {
   "cell_type": "code",
   "execution_count": 50,
   "id": "04f21055",
   "metadata": {},
   "outputs": [
    {
     "name": "stderr",
     "output_type": "stream",
     "text": [
      "[nltk_data] Downloading package stopwords to\n",
      "[nltk_data]     C:\\Users\\LENOVO\\AppData\\Roaming\\nltk_data...\n",
      "[nltk_data]   Unzipping corpora\\stopwords.zip.\n"
     ]
    },
    {
     "data": {
      "text/plain": [
       "True"
      ]
     },
     "execution_count": 50,
     "metadata": {},
     "output_type": "execute_result"
    }
   ],
   "source": [
    "from nltk.corpus import stopwords\n",
    "from string import punctuation\n",
    "nltk.download('stopwords')"
   ]
  },
  {
   "cell_type": "code",
   "execution_count": 51,
   "id": "1773e93d",
   "metadata": {},
   "outputs": [
    {
     "name": "stdout",
     "output_type": "stream",
     "text": [
      "!\"#$%&'()*+,-./:;<=>?@[\\]^_`{|}~\n"
     ]
    }
   ],
   "source": [
    "print(punctuation)"
   ]
  },
  {
   "cell_type": "code",
   "execution_count": 52,
   "id": "775db609",
   "metadata": {},
   "outputs": [
    {
     "name": "stdout",
     "output_type": "stream",
     "text": [
      "['i', 'me', 'my', 'myself', 'we', 'our', 'ours', 'ourselves', 'you', \"you're\", \"you've\", \"you'll\", \"you'd\", 'your', 'yours', 'yourself', 'yourselves', 'he', 'him', 'his', 'himself', 'she', \"she's\", 'her', 'hers', 'herself', 'it', \"it's\", 'its', 'itself', 'they', 'them', 'their', 'theirs', 'themselves', 'what', 'which', 'who', 'whom', 'this', 'that', \"that'll\", 'these', 'those', 'am', 'is', 'are', 'was', 'were', 'be', 'been', 'being', 'have', 'has', 'had', 'having', 'do', 'does', 'did', 'doing', 'a', 'an', 'the', 'and', 'but', 'if', 'or', 'because', 'as', 'until', 'while', 'of', 'at', 'by', 'for', 'with', 'about', 'against', 'between', 'into', 'through', 'during', 'before', 'after', 'above', 'below', 'to', 'from', 'up', 'down', 'in', 'out', 'on', 'off', 'over', 'under', 'again', 'further', 'then', 'once', 'here', 'there', 'when', 'where', 'why', 'how', 'all', 'any', 'both', 'each', 'few', 'more', 'most', 'other', 'some', 'such', 'no', 'nor', 'not', 'only', 'own', 'same', 'so', 'than', 'too', 'very', 's', 't', 'can', 'will', 'just', 'don', \"don't\", 'should', \"should've\", 'now', 'd', 'll', 'm', 'o', 're', 've', 'y', 'ain', 'aren', \"aren't\", 'couldn', \"couldn't\", 'didn', \"didn't\", 'doesn', \"doesn't\", 'hadn', \"hadn't\", 'hasn', \"hasn't\", 'haven', \"haven't\", 'isn', \"isn't\", 'ma', 'mightn', \"mightn't\", 'mustn', \"mustn't\", 'needn', \"needn't\", 'shan', \"shan't\", 'shouldn', \"shouldn't\", 'wasn', \"wasn't\", 'weren', \"weren't\", 'won', \"won't\", 'wouldn', \"wouldn't\"]\n"
     ]
    }
   ],
   "source": [
    "print(stopwords.words('english'))"
   ]
  },
  {
   "cell_type": "code",
   "execution_count": 53,
   "id": "a55b36fa",
   "metadata": {},
   "outputs": [
    {
     "name": "stdout",
     "output_type": "stream",
     "text": [
      "['!', '\"', '#', '$', '%', '&', \"'\", '(', ')', '*', '+', ',', '-', '.', '/', ':', ';', '<', '=', '>', '?', '@', '[', '\\\\', ']', '^', '_', '`', '{', '|', '}', '~']\n"
     ]
    }
   ],
   "source": [
    "print(list(punctuation))"
   ]
  },
  {
   "cell_type": "code",
   "execution_count": 54,
   "id": "37e83f16",
   "metadata": {},
   "outputs": [],
   "source": [
    "myStopWords = list(punctuation) + stopwords.words('english')"
   ]
  },
  {
   "cell_type": "code",
   "execution_count": 55,
   "id": "f9fab8c4",
   "metadata": {},
   "outputs": [
    {
     "name": "stdout",
     "output_type": "stream",
     "text": [
      "['Madam', ',', 'an', 'hour', 'before', 'the', 'worshipp', \"'d\", 'sun', 'Peer', \"'d\", 'forth', 'the', 'golden', 'window', 'of', 'the', 'east', ',', 'A', 'troubled', 'mind', 'drave', 'me', 'to', 'walk', 'abroad', ';', 'Where', ',', 'underneath', 'the', 'grove', 'of', 'sycamore', 'That', 'westward', 'rooteth', 'from', 'the', 'city', \"'s\", 'side', ',', 'So', 'early', 'walking', 'did', 'I', 'see', 'your', 'son', 'Towards', 'him', 'I', 'made', ',', 'but', 'he', 'was', 'ware', 'of', 'me', 'And', 'stole', 'into', 'the', 'covert', 'of', 'the', 'wood', 'I', ',', 'measuring', 'his', 'affections', 'by', 'my', 'own', ',', 'That', 'most', 'are', 'busied', 'when', 'they', \"'re\", 'most', 'alone', ',', 'Pursued', 'my', 'humour', 'not', 'pursuing', 'his', ',', 'And', 'gladly', 'shunn', \"'d\", 'who', 'gladly', 'fled', 'from', 'me']\n"
     ]
    }
   ],
   "source": [
    "print(words)"
   ]
  },
  {
   "cell_type": "code",
   "execution_count": 56,
   "id": "74e4c6e0",
   "metadata": {},
   "outputs": [
    {
     "name": "stdout",
     "output_type": "stream",
     "text": [
      "['Madam', ',', 'an', 'hour', 'before', 'the', 'worshipp', \"'d\", 'sun', 'Peer', \"'d\", 'forth', 'the', 'golden', 'window', 'of', 'the', 'east', ',', 'A', 'troubled', 'mind', 'drave', 'me', 'to', 'walk', 'abroad', ';', 'Where', ',', 'underneath', 'the', 'grove', 'of', 'sycamore', 'That', 'westward', 'rooteth', 'from', 'the', 'city', \"'s\", 'side', ',', 'So', 'early', 'walking', 'did', 'I', 'see', 'your', 'son', 'Towards', 'him', 'I', 'made', ',', 'but', 'he', 'was', 'ware', 'of', 'me', 'And', 'stole', 'into', 'the', 'covert', 'of', 'the', 'wood', 'I', ',', 'measuring', 'his', 'affections', 'by', 'my', 'own', ',', 'That', 'most', 'are', 'busied', 'when', 'they', \"'re\", 'most', 'alone', ',', 'Pursued', 'my', 'humour', 'not', 'pursuing', 'his', ',', 'And', 'gladly', 'shunn', \"'d\", 'who', 'gladly', 'fled', 'from', 'me']\n",
      "['Madam', 'hour', 'worshipp', \"'d\", 'sun', 'Peer', \"'d\", 'forth', 'golden', 'window', 'east', 'A', 'troubled', 'mind', 'drave', 'walk', 'abroad', 'Where', 'underneath', 'grove', 'sycamore', 'That', 'westward', 'rooteth', 'city', \"'s\", 'side', 'So', 'early', 'walking', 'I', 'see', 'son', 'Towards', 'I', 'made', 'ware', 'And', 'stole', 'covert', 'wood', 'I', 'measuring', 'affections', 'That', 'busied', \"'re\", 'alone', 'Pursued', 'humour', 'pursuing', 'And', 'gladly', 'shunn', \"'d\", 'gladly', 'fled']\n"
     ]
    }
   ],
   "source": [
    "wordsNoStop = []\n",
    "for i in words:\n",
    "    if i not in myStopWords:\n",
    "        wordsNoStop.append(i)\n",
    "print(words)\n",
    "print(wordsNoStop)"
   ]
  },
  {
   "cell_type": "code",
   "execution_count": 57,
   "id": "c31c2f24",
   "metadata": {},
   "outputs": [
    {
     "name": "stdout",
     "output_type": "stream",
     "text": [
      "['Madam', 'hour', 'worshipp', \"'d\", 'sun', 'Peer', \"'d\", 'forth', 'golden', 'window', 'east', 'A', 'troubled', 'mind', 'drave', 'walk', 'abroad', 'Where', 'underneath', 'grove', 'sycamore', 'That', 'westward', 'rooteth', 'city', \"'s\", 'side', 'So', 'early', 'walking', 'I', 'see', 'son', 'Towards', 'I', 'made', 'ware', 'And', 'stole', 'covert', 'wood', 'I', 'measuring', 'affections', 'That', 'busied', \"'re\", 'alone', 'Pursued', 'humour', 'pursuing', 'And', 'gladly', 'shunn', \"'d\", 'gladly', 'fled']\n"
     ]
    }
   ],
   "source": [
    "wordsNoStopComp = [w for w in words if w not in myStopWords]\n",
    "print(wordsNoStopComp)"
   ]
  },
  {
   "cell_type": "code",
   "execution_count": 58,
   "id": "295ce802",
   "metadata": {},
   "outputs": [],
   "source": [
    "from nltk.probability import FreqDist"
   ]
  },
  {
   "cell_type": "code",
   "execution_count": 60,
   "id": "d713e8d8",
   "metadata": {},
   "outputs": [],
   "source": [
    "freq = FreqDist(wordsNoStop)"
   ]
  },
  {
   "cell_type": "code",
   "execution_count": 61,
   "id": "b575c440",
   "metadata": {},
   "outputs": [
    {
     "data": {
      "text/plain": [
       "FreqDist({\"'d\": 3, 'I': 3, 'That': 2, 'And': 2, 'gladly': 2, 'Madam': 1, 'hour': 1, 'worshipp': 1, 'sun': 1, 'Peer': 1, ...})"
      ]
     },
     "execution_count": 61,
     "metadata": {},
     "output_type": "execute_result"
    }
   ],
   "source": [
    "freq"
   ]
  },
  {
   "cell_type": "code",
   "execution_count": 63,
   "id": "0cc629a0",
   "metadata": {},
   "outputs": [
    {
     "name": "stdout",
     "output_type": "stream",
     "text": [
      "'d 3\n",
      "I 3\n",
      "That 2\n",
      "And 2\n",
      "gladly 2\n",
      "Madam 1\n",
      "hour 1\n",
      "worshipp 1\n",
      "sun 1\n",
      "Peer 1\n",
      "forth 1\n",
      "golden 1\n",
      "window 1\n",
      "east 1\n",
      "A 1\n",
      "troubled 1\n",
      "mind 1\n",
      "drave 1\n",
      "walk 1\n",
      "abroad 1\n"
     ]
    }
   ],
   "source": [
    "for i in sorted(freq, key=freq.get, reverse=True)[:20]:\n",
    "    print(i,freq[i])"
   ]
  },
  {
   "cell_type": "code",
   "execution_count": null,
   "id": "a6266aeb",
   "metadata": {},
   "outputs": [],
   "source": []
  }
 ],
 "metadata": {
  "kernelspec": {
   "display_name": "Python 3 (ipykernel)",
   "language": "python",
   "name": "python3"
  },
  "language_info": {
   "codemirror_mode": {
    "name": "ipython",
    "version": 3
   },
   "file_extension": ".py",
   "mimetype": "text/x-python",
   "name": "python",
   "nbconvert_exporter": "python",
   "pygments_lexer": "ipython3",
   "version": "3.9.7"
  }
 },
 "nbformat": 4,
 "nbformat_minor": 5
}
