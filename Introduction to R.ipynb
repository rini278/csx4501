{
 "cells": [
  {
   "cell_type": "code",
   "execution_count": 1,
   "id": "3c420966",
   "metadata": {},
   "outputs": [
    {
     "name": "stderr",
     "output_type": "stream",
     "text": [
      "\n",
      "Attaching package: 'dplyr'\n",
      "\n",
      "The following objects are masked from 'package:stats':\n",
      "\n",
      "    filter, lag\n",
      "\n",
      "The following objects are masked from 'package:base':\n",
      "\n",
      "    intersect, setdiff, setequal, union\n",
      "\n"
     ]
    }
   ],
   "source": [
    "library(dplyr)"
   ]
  },
  {
   "cell_type": "code",
   "execution_count": 2,
   "id": "af91d0e3",
   "metadata": {},
   "outputs": [
    {
     "data": {
      "text/html": [
       "<table>\n",
       "<thead><tr><th scope=col>Sepal.Length</th><th scope=col>Sepal.Width</th><th scope=col>Petal.Length</th><th scope=col>Petal.Width</th><th scope=col>Species</th></tr></thead>\n",
       "<tbody>\n",
       "\t<tr><td>5.1   </td><td>3.5   </td><td>1.4   </td><td>0.2   </td><td>setosa</td></tr>\n",
       "\t<tr><td>4.9   </td><td>3.0   </td><td>1.4   </td><td>0.2   </td><td>setosa</td></tr>\n",
       "\t<tr><td>4.7   </td><td>3.2   </td><td>1.3   </td><td>0.2   </td><td>setosa</td></tr>\n",
       "\t<tr><td>4.6   </td><td>3.1   </td><td>1.5   </td><td>0.2   </td><td>setosa</td></tr>\n",
       "\t<tr><td>5.0   </td><td>3.6   </td><td>1.4   </td><td>0.2   </td><td>setosa</td></tr>\n",
       "\t<tr><td>5.4   </td><td>3.9   </td><td>1.7   </td><td>0.4   </td><td>setosa</td></tr>\n",
       "\t<tr><td>4.6   </td><td>3.4   </td><td>1.4   </td><td>0.3   </td><td>setosa</td></tr>\n",
       "\t<tr><td>5.0   </td><td>3.4   </td><td>1.5   </td><td>0.2   </td><td>setosa</td></tr>\n",
       "\t<tr><td>4.4   </td><td>2.9   </td><td>1.4   </td><td>0.2   </td><td>setosa</td></tr>\n",
       "\t<tr><td>4.9   </td><td>3.1   </td><td>1.5   </td><td>0.1   </td><td>setosa</td></tr>\n",
       "\t<tr><td>5.4   </td><td>3.7   </td><td>1.5   </td><td>0.2   </td><td>setosa</td></tr>\n",
       "\t<tr><td>4.8   </td><td>3.4   </td><td>1.6   </td><td>0.2   </td><td>setosa</td></tr>\n",
       "\t<tr><td>4.8   </td><td>3.0   </td><td>1.4   </td><td>0.1   </td><td>setosa</td></tr>\n",
       "\t<tr><td>4.3   </td><td>3.0   </td><td>1.1   </td><td>0.1   </td><td>setosa</td></tr>\n",
       "\t<tr><td>5.8   </td><td>4.0   </td><td>1.2   </td><td>0.2   </td><td>setosa</td></tr>\n",
       "\t<tr><td>5.7   </td><td>4.4   </td><td>1.5   </td><td>0.4   </td><td>setosa</td></tr>\n",
       "\t<tr><td>5.4   </td><td>3.9   </td><td>1.3   </td><td>0.4   </td><td>setosa</td></tr>\n",
       "\t<tr><td>5.1   </td><td>3.5   </td><td>1.4   </td><td>0.3   </td><td>setosa</td></tr>\n",
       "\t<tr><td>5.7   </td><td>3.8   </td><td>1.7   </td><td>0.3   </td><td>setosa</td></tr>\n",
       "\t<tr><td>5.1   </td><td>3.8   </td><td>1.5   </td><td>0.3   </td><td>setosa</td></tr>\n",
       "\t<tr><td>5.4   </td><td>3.4   </td><td>1.7   </td><td>0.2   </td><td>setosa</td></tr>\n",
       "\t<tr><td>5.1   </td><td>3.7   </td><td>1.5   </td><td>0.4   </td><td>setosa</td></tr>\n",
       "\t<tr><td>4.6   </td><td>3.6   </td><td>1.0   </td><td>0.2   </td><td>setosa</td></tr>\n",
       "\t<tr><td>5.1   </td><td>3.3   </td><td>1.7   </td><td>0.5   </td><td>setosa</td></tr>\n",
       "\t<tr><td>4.8   </td><td>3.4   </td><td>1.9   </td><td>0.2   </td><td>setosa</td></tr>\n",
       "\t<tr><td>5.0   </td><td>3.0   </td><td>1.6   </td><td>0.2   </td><td>setosa</td></tr>\n",
       "\t<tr><td>5.0   </td><td>3.4   </td><td>1.6   </td><td>0.4   </td><td>setosa</td></tr>\n",
       "\t<tr><td>5.2   </td><td>3.5   </td><td>1.5   </td><td>0.2   </td><td>setosa</td></tr>\n",
       "\t<tr><td>5.2   </td><td>3.4   </td><td>1.4   </td><td>0.2   </td><td>setosa</td></tr>\n",
       "\t<tr><td>4.7   </td><td>3.2   </td><td>1.6   </td><td>0.2   </td><td>setosa</td></tr>\n",
       "\t<tr><td>...</td><td>...</td><td>...</td><td>...</td><td>...</td></tr>\n",
       "\t<tr><td>6.9      </td><td>3.2      </td><td>5.7      </td><td>2.3      </td><td>virginica</td></tr>\n",
       "\t<tr><td>5.6      </td><td>2.8      </td><td>4.9      </td><td>2.0      </td><td>virginica</td></tr>\n",
       "\t<tr><td>7.7      </td><td>2.8      </td><td>6.7      </td><td>2.0      </td><td>virginica</td></tr>\n",
       "\t<tr><td>6.3      </td><td>2.7      </td><td>4.9      </td><td>1.8      </td><td>virginica</td></tr>\n",
       "\t<tr><td>6.7      </td><td>3.3      </td><td>5.7      </td><td>2.1      </td><td>virginica</td></tr>\n",
       "\t<tr><td>7.2      </td><td>3.2      </td><td>6.0      </td><td>1.8      </td><td>virginica</td></tr>\n",
       "\t<tr><td>6.2      </td><td>2.8      </td><td>4.8      </td><td>1.8      </td><td>virginica</td></tr>\n",
       "\t<tr><td>6.1      </td><td>3.0      </td><td>4.9      </td><td>1.8      </td><td>virginica</td></tr>\n",
       "\t<tr><td>6.4      </td><td>2.8      </td><td>5.6      </td><td>2.1      </td><td>virginica</td></tr>\n",
       "\t<tr><td>7.2      </td><td>3.0      </td><td>5.8      </td><td>1.6      </td><td>virginica</td></tr>\n",
       "\t<tr><td>7.4      </td><td>2.8      </td><td>6.1      </td><td>1.9      </td><td>virginica</td></tr>\n",
       "\t<tr><td>7.9      </td><td>3.8      </td><td>6.4      </td><td>2.0      </td><td>virginica</td></tr>\n",
       "\t<tr><td>6.4      </td><td>2.8      </td><td>5.6      </td><td>2.2      </td><td>virginica</td></tr>\n",
       "\t<tr><td>6.3      </td><td>2.8      </td><td>5.1      </td><td>1.5      </td><td>virginica</td></tr>\n",
       "\t<tr><td>6.1      </td><td>2.6      </td><td>5.6      </td><td>1.4      </td><td>virginica</td></tr>\n",
       "\t<tr><td>7.7      </td><td>3.0      </td><td>6.1      </td><td>2.3      </td><td>virginica</td></tr>\n",
       "\t<tr><td>6.3      </td><td>3.4      </td><td>5.6      </td><td>2.4      </td><td>virginica</td></tr>\n",
       "\t<tr><td>6.4      </td><td>3.1      </td><td>5.5      </td><td>1.8      </td><td>virginica</td></tr>\n",
       "\t<tr><td>6.0      </td><td>3.0      </td><td>4.8      </td><td>1.8      </td><td>virginica</td></tr>\n",
       "\t<tr><td>6.9      </td><td>3.1      </td><td>5.4      </td><td>2.1      </td><td>virginica</td></tr>\n",
       "\t<tr><td>6.7      </td><td>3.1      </td><td>5.6      </td><td>2.4      </td><td>virginica</td></tr>\n",
       "\t<tr><td>6.9      </td><td>3.1      </td><td>5.1      </td><td>2.3      </td><td>virginica</td></tr>\n",
       "\t<tr><td>5.8      </td><td>2.7      </td><td>5.1      </td><td>1.9      </td><td>virginica</td></tr>\n",
       "\t<tr><td>6.8      </td><td>3.2      </td><td>5.9      </td><td>2.3      </td><td>virginica</td></tr>\n",
       "\t<tr><td>6.7      </td><td>3.3      </td><td>5.7      </td><td>2.5      </td><td>virginica</td></tr>\n",
       "\t<tr><td>6.7      </td><td>3.0      </td><td>5.2      </td><td>2.3      </td><td>virginica</td></tr>\n",
       "\t<tr><td>6.3      </td><td>2.5      </td><td>5.0      </td><td>1.9      </td><td>virginica</td></tr>\n",
       "\t<tr><td>6.5      </td><td>3.0      </td><td>5.2      </td><td>2.0      </td><td>virginica</td></tr>\n",
       "\t<tr><td>6.2      </td><td>3.4      </td><td>5.4      </td><td>2.3      </td><td>virginica</td></tr>\n",
       "\t<tr><td>5.9      </td><td>3.0      </td><td>5.1      </td><td>1.8      </td><td>virginica</td></tr>\n",
       "</tbody>\n",
       "</table>\n"
      ],
      "text/latex": [
       "\\begin{tabular}{r|lllll}\n",
       " Sepal.Length & Sepal.Width & Petal.Length & Petal.Width & Species\\\\\n",
       "\\hline\n",
       "\t 5.1    & 3.5    & 1.4    & 0.2    & setosa\\\\\n",
       "\t 4.9    & 3.0    & 1.4    & 0.2    & setosa\\\\\n",
       "\t 4.7    & 3.2    & 1.3    & 0.2    & setosa\\\\\n",
       "\t 4.6    & 3.1    & 1.5    & 0.2    & setosa\\\\\n",
       "\t 5.0    & 3.6    & 1.4    & 0.2    & setosa\\\\\n",
       "\t 5.4    & 3.9    & 1.7    & 0.4    & setosa\\\\\n",
       "\t 4.6    & 3.4    & 1.4    & 0.3    & setosa\\\\\n",
       "\t 5.0    & 3.4    & 1.5    & 0.2    & setosa\\\\\n",
       "\t 4.4    & 2.9    & 1.4    & 0.2    & setosa\\\\\n",
       "\t 4.9    & 3.1    & 1.5    & 0.1    & setosa\\\\\n",
       "\t 5.4    & 3.7    & 1.5    & 0.2    & setosa\\\\\n",
       "\t 4.8    & 3.4    & 1.6    & 0.2    & setosa\\\\\n",
       "\t 4.8    & 3.0    & 1.4    & 0.1    & setosa\\\\\n",
       "\t 4.3    & 3.0    & 1.1    & 0.1    & setosa\\\\\n",
       "\t 5.8    & 4.0    & 1.2    & 0.2    & setosa\\\\\n",
       "\t 5.7    & 4.4    & 1.5    & 0.4    & setosa\\\\\n",
       "\t 5.4    & 3.9    & 1.3    & 0.4    & setosa\\\\\n",
       "\t 5.1    & 3.5    & 1.4    & 0.3    & setosa\\\\\n",
       "\t 5.7    & 3.8    & 1.7    & 0.3    & setosa\\\\\n",
       "\t 5.1    & 3.8    & 1.5    & 0.3    & setosa\\\\\n",
       "\t 5.4    & 3.4    & 1.7    & 0.2    & setosa\\\\\n",
       "\t 5.1    & 3.7    & 1.5    & 0.4    & setosa\\\\\n",
       "\t 4.6    & 3.6    & 1.0    & 0.2    & setosa\\\\\n",
       "\t 5.1    & 3.3    & 1.7    & 0.5    & setosa\\\\\n",
       "\t 4.8    & 3.4    & 1.9    & 0.2    & setosa\\\\\n",
       "\t 5.0    & 3.0    & 1.6    & 0.2    & setosa\\\\\n",
       "\t 5.0    & 3.4    & 1.6    & 0.4    & setosa\\\\\n",
       "\t 5.2    & 3.5    & 1.5    & 0.2    & setosa\\\\\n",
       "\t 5.2    & 3.4    & 1.4    & 0.2    & setosa\\\\\n",
       "\t 4.7    & 3.2    & 1.6    & 0.2    & setosa\\\\\n",
       "\t ... & ... & ... & ... & ...\\\\\n",
       "\t 6.9       & 3.2       & 5.7       & 2.3       & virginica\\\\\n",
       "\t 5.6       & 2.8       & 4.9       & 2.0       & virginica\\\\\n",
       "\t 7.7       & 2.8       & 6.7       & 2.0       & virginica\\\\\n",
       "\t 6.3       & 2.7       & 4.9       & 1.8       & virginica\\\\\n",
       "\t 6.7       & 3.3       & 5.7       & 2.1       & virginica\\\\\n",
       "\t 7.2       & 3.2       & 6.0       & 1.8       & virginica\\\\\n",
       "\t 6.2       & 2.8       & 4.8       & 1.8       & virginica\\\\\n",
       "\t 6.1       & 3.0       & 4.9       & 1.8       & virginica\\\\\n",
       "\t 6.4       & 2.8       & 5.6       & 2.1       & virginica\\\\\n",
       "\t 7.2       & 3.0       & 5.8       & 1.6       & virginica\\\\\n",
       "\t 7.4       & 2.8       & 6.1       & 1.9       & virginica\\\\\n",
       "\t 7.9       & 3.8       & 6.4       & 2.0       & virginica\\\\\n",
       "\t 6.4       & 2.8       & 5.6       & 2.2       & virginica\\\\\n",
       "\t 6.3       & 2.8       & 5.1       & 1.5       & virginica\\\\\n",
       "\t 6.1       & 2.6       & 5.6       & 1.4       & virginica\\\\\n",
       "\t 7.7       & 3.0       & 6.1       & 2.3       & virginica\\\\\n",
       "\t 6.3       & 3.4       & 5.6       & 2.4       & virginica\\\\\n",
       "\t 6.4       & 3.1       & 5.5       & 1.8       & virginica\\\\\n",
       "\t 6.0       & 3.0       & 4.8       & 1.8       & virginica\\\\\n",
       "\t 6.9       & 3.1       & 5.4       & 2.1       & virginica\\\\\n",
       "\t 6.7       & 3.1       & 5.6       & 2.4       & virginica\\\\\n",
       "\t 6.9       & 3.1       & 5.1       & 2.3       & virginica\\\\\n",
       "\t 5.8       & 2.7       & 5.1       & 1.9       & virginica\\\\\n",
       "\t 6.8       & 3.2       & 5.9       & 2.3       & virginica\\\\\n",
       "\t 6.7       & 3.3       & 5.7       & 2.5       & virginica\\\\\n",
       "\t 6.7       & 3.0       & 5.2       & 2.3       & virginica\\\\\n",
       "\t 6.3       & 2.5       & 5.0       & 1.9       & virginica\\\\\n",
       "\t 6.5       & 3.0       & 5.2       & 2.0       & virginica\\\\\n",
       "\t 6.2       & 3.4       & 5.4       & 2.3       & virginica\\\\\n",
       "\t 5.9       & 3.0       & 5.1       & 1.8       & virginica\\\\\n",
       "\\end{tabular}\n"
      ],
      "text/markdown": [
       "\n",
       "Sepal.Length | Sepal.Width | Petal.Length | Petal.Width | Species | \n",
       "|---|---|---|---|---|---|---|---|---|---|---|---|---|---|---|---|---|---|---|---|---|---|---|---|---|---|---|---|---|---|---|---|---|---|---|---|---|---|---|---|---|---|---|---|---|---|---|---|---|---|---|---|---|---|---|---|---|---|---|---|---|\n",
       "| 5.1    | 3.5    | 1.4    | 0.2    | setosa | \n",
       "| 4.9    | 3.0    | 1.4    | 0.2    | setosa | \n",
       "| 4.7    | 3.2    | 1.3    | 0.2    | setosa | \n",
       "| 4.6    | 3.1    | 1.5    | 0.2    | setosa | \n",
       "| 5.0    | 3.6    | 1.4    | 0.2    | setosa | \n",
       "| 5.4    | 3.9    | 1.7    | 0.4    | setosa | \n",
       "| 4.6    | 3.4    | 1.4    | 0.3    | setosa | \n",
       "| 5.0    | 3.4    | 1.5    | 0.2    | setosa | \n",
       "| 4.4    | 2.9    | 1.4    | 0.2    | setosa | \n",
       "| 4.9    | 3.1    | 1.5    | 0.1    | setosa | \n",
       "| 5.4    | 3.7    | 1.5    | 0.2    | setosa | \n",
       "| 4.8    | 3.4    | 1.6    | 0.2    | setosa | \n",
       "| 4.8    | 3.0    | 1.4    | 0.1    | setosa | \n",
       "| 4.3    | 3.0    | 1.1    | 0.1    | setosa | \n",
       "| 5.8    | 4.0    | 1.2    | 0.2    | setosa | \n",
       "| 5.7    | 4.4    | 1.5    | 0.4    | setosa | \n",
       "| 5.4    | 3.9    | 1.3    | 0.4    | setosa | \n",
       "| 5.1    | 3.5    | 1.4    | 0.3    | setosa | \n",
       "| 5.7    | 3.8    | 1.7    | 0.3    | setosa | \n",
       "| 5.1    | 3.8    | 1.5    | 0.3    | setosa | \n",
       "| 5.4    | 3.4    | 1.7    | 0.2    | setosa | \n",
       "| 5.1    | 3.7    | 1.5    | 0.4    | setosa | \n",
       "| 4.6    | 3.6    | 1.0    | 0.2    | setosa | \n",
       "| 5.1    | 3.3    | 1.7    | 0.5    | setosa | \n",
       "| 4.8    | 3.4    | 1.9    | 0.2    | setosa | \n",
       "| 5.0    | 3.0    | 1.6    | 0.2    | setosa | \n",
       "| 5.0    | 3.4    | 1.6    | 0.4    | setosa | \n",
       "| 5.2    | 3.5    | 1.5    | 0.2    | setosa | \n",
       "| 5.2    | 3.4    | 1.4    | 0.2    | setosa | \n",
       "| 4.7    | 3.2    | 1.6    | 0.2    | setosa | \n",
       "| ... | ... | ... | ... | ... | \n",
       "| 6.9       | 3.2       | 5.7       | 2.3       | virginica | \n",
       "| 5.6       | 2.8       | 4.9       | 2.0       | virginica | \n",
       "| 7.7       | 2.8       | 6.7       | 2.0       | virginica | \n",
       "| 6.3       | 2.7       | 4.9       | 1.8       | virginica | \n",
       "| 6.7       | 3.3       | 5.7       | 2.1       | virginica | \n",
       "| 7.2       | 3.2       | 6.0       | 1.8       | virginica | \n",
       "| 6.2       | 2.8       | 4.8       | 1.8       | virginica | \n",
       "| 6.1       | 3.0       | 4.9       | 1.8       | virginica | \n",
       "| 6.4       | 2.8       | 5.6       | 2.1       | virginica | \n",
       "| 7.2       | 3.0       | 5.8       | 1.6       | virginica | \n",
       "| 7.4       | 2.8       | 6.1       | 1.9       | virginica | \n",
       "| 7.9       | 3.8       | 6.4       | 2.0       | virginica | \n",
       "| 6.4       | 2.8       | 5.6       | 2.2       | virginica | \n",
       "| 6.3       | 2.8       | 5.1       | 1.5       | virginica | \n",
       "| 6.1       | 2.6       | 5.6       | 1.4       | virginica | \n",
       "| 7.7       | 3.0       | 6.1       | 2.3       | virginica | \n",
       "| 6.3       | 3.4       | 5.6       | 2.4       | virginica | \n",
       "| 6.4       | 3.1       | 5.5       | 1.8       | virginica | \n",
       "| 6.0       | 3.0       | 4.8       | 1.8       | virginica | \n",
       "| 6.9       | 3.1       | 5.4       | 2.1       | virginica | \n",
       "| 6.7       | 3.1       | 5.6       | 2.4       | virginica | \n",
       "| 6.9       | 3.1       | 5.1       | 2.3       | virginica | \n",
       "| 5.8       | 2.7       | 5.1       | 1.9       | virginica | \n",
       "| 6.8       | 3.2       | 5.9       | 2.3       | virginica | \n",
       "| 6.7       | 3.3       | 5.7       | 2.5       | virginica | \n",
       "| 6.7       | 3.0       | 5.2       | 2.3       | virginica | \n",
       "| 6.3       | 2.5       | 5.0       | 1.9       | virginica | \n",
       "| 6.5       | 3.0       | 5.2       | 2.0       | virginica | \n",
       "| 6.2       | 3.4       | 5.4       | 2.3       | virginica | \n",
       "| 5.9       | 3.0       | 5.1       | 1.8       | virginica | \n",
       "\n",
       "\n"
      ],
      "text/plain": [
       "    Sepal.Length Sepal.Width Petal.Length Petal.Width Species  \n",
       "1   5.1          3.5         1.4          0.2         setosa   \n",
       "2   4.9          3.0         1.4          0.2         setosa   \n",
       "3   4.7          3.2         1.3          0.2         setosa   \n",
       "4   4.6          3.1         1.5          0.2         setosa   \n",
       "5   5.0          3.6         1.4          0.2         setosa   \n",
       "6   5.4          3.9         1.7          0.4         setosa   \n",
       "7   4.6          3.4         1.4          0.3         setosa   \n",
       "8   5.0          3.4         1.5          0.2         setosa   \n",
       "9   4.4          2.9         1.4          0.2         setosa   \n",
       "10  4.9          3.1         1.5          0.1         setosa   \n",
       "11  5.4          3.7         1.5          0.2         setosa   \n",
       "12  4.8          3.4         1.6          0.2         setosa   \n",
       "13  4.8          3.0         1.4          0.1         setosa   \n",
       "14  4.3          3.0         1.1          0.1         setosa   \n",
       "15  5.8          4.0         1.2          0.2         setosa   \n",
       "16  5.7          4.4         1.5          0.4         setosa   \n",
       "17  5.4          3.9         1.3          0.4         setosa   \n",
       "18  5.1          3.5         1.4          0.3         setosa   \n",
       "19  5.7          3.8         1.7          0.3         setosa   \n",
       "20  5.1          3.8         1.5          0.3         setosa   \n",
       "21  5.4          3.4         1.7          0.2         setosa   \n",
       "22  5.1          3.7         1.5          0.4         setosa   \n",
       "23  4.6          3.6         1.0          0.2         setosa   \n",
       "24  5.1          3.3         1.7          0.5         setosa   \n",
       "25  4.8          3.4         1.9          0.2         setosa   \n",
       "26  5.0          3.0         1.6          0.2         setosa   \n",
       "27  5.0          3.4         1.6          0.4         setosa   \n",
       "28  5.2          3.5         1.5          0.2         setosa   \n",
       "29  5.2          3.4         1.4          0.2         setosa   \n",
       "30  4.7          3.2         1.6          0.2         setosa   \n",
       "... ...          ...         ...          ...         ...      \n",
       "121 6.9          3.2         5.7          2.3         virginica\n",
       "122 5.6          2.8         4.9          2.0         virginica\n",
       "123 7.7          2.8         6.7          2.0         virginica\n",
       "124 6.3          2.7         4.9          1.8         virginica\n",
       "125 6.7          3.3         5.7          2.1         virginica\n",
       "126 7.2          3.2         6.0          1.8         virginica\n",
       "127 6.2          2.8         4.8          1.8         virginica\n",
       "128 6.1          3.0         4.9          1.8         virginica\n",
       "129 6.4          2.8         5.6          2.1         virginica\n",
       "130 7.2          3.0         5.8          1.6         virginica\n",
       "131 7.4          2.8         6.1          1.9         virginica\n",
       "132 7.9          3.8         6.4          2.0         virginica\n",
       "133 6.4          2.8         5.6          2.2         virginica\n",
       "134 6.3          2.8         5.1          1.5         virginica\n",
       "135 6.1          2.6         5.6          1.4         virginica\n",
       "136 7.7          3.0         6.1          2.3         virginica\n",
       "137 6.3          3.4         5.6          2.4         virginica\n",
       "138 6.4          3.1         5.5          1.8         virginica\n",
       "139 6.0          3.0         4.8          1.8         virginica\n",
       "140 6.9          3.1         5.4          2.1         virginica\n",
       "141 6.7          3.1         5.6          2.4         virginica\n",
       "142 6.9          3.1         5.1          2.3         virginica\n",
       "143 5.8          2.7         5.1          1.9         virginica\n",
       "144 6.8          3.2         5.9          2.3         virginica\n",
       "145 6.7          3.3         5.7          2.5         virginica\n",
       "146 6.7          3.0         5.2          2.3         virginica\n",
       "147 6.3          2.5         5.0          1.9         virginica\n",
       "148 6.5          3.0         5.2          2.0         virginica\n",
       "149 6.2          3.4         5.4          2.3         virginica\n",
       "150 5.9          3.0         5.1          1.8         virginica"
      ]
     },
     "metadata": {},
     "output_type": "display_data"
    }
   ],
   "source": [
    "iris"
   ]
  },
  {
   "cell_type": "code",
   "execution_count": 3,
   "id": "7a97ec7c",
   "metadata": {},
   "outputs": [
    {
     "data": {},
     "metadata": {},
     "output_type": "display_data"
    },
    {
     "data": {
      "image/png": "[encoded data removed]",
      "text/plain": [
       "plot without title"
      ]
     },
     "metadata": {},
     "output_type": "display_data"
    }
   ],
   "source": [
    "library(ggplot2)\n",
    "ggplot(data=iris, aes(x=Sepal.Length, y=Sepal.Width, color=Species)) + geom_point(size=3)\n"
   ]
  },
  {
   "cell_type": "code",
   "execution_count": 4,
   "id": "99177872",
   "metadata": {},
   "outputs": [
    {
     "data": {
      "text/html": [
       "<ol class=list-inline>\n",
       "\t<li>1</li>\n",
       "\t<li>3</li>\n",
       "\t<li>2</li>\n",
       "\t<li>5</li>\n",
       "</ol>\n"
      ],
      "text/latex": [
       "\\begin{enumerate*}\n",
       "\\item 1\n",
       "\\item 3\n",
       "\\item 2\n",
       "\\item 5\n",
       "\\end{enumerate*}\n"
      ],
      "text/markdown": [
       "1. 1\n",
       "2. 3\n",
       "3. 2\n",
       "4. 5\n",
       "\n",
       "\n"
      ],
      "text/plain": [
       "[1] 1 3 2 5"
      ]
     },
     "metadata": {},
     "output_type": "display_data"
    }
   ],
   "source": [
    "x <- c(1,3,2,5)\n",
    "x"
   ]
  },
  {
   "cell_type": "code",
   "execution_count": 8,
   "id": "8db16417",
   "metadata": {},
   "outputs": [
    {
     "data": {
      "text/html": [
       "3"
      ],
      "text/latex": [
       "3"
      ],
      "text/markdown": [
       "3"
      ],
      "text/plain": [
       "[1] 3"
      ]
     },
     "metadata": {},
     "output_type": "display_data"
    },
    {
     "data": {
      "text/html": [
       "3"
      ],
      "text/latex": [
       "3"
      ],
      "text/markdown": [
       "3"
      ],
      "text/plain": [
       "[1] 3"
      ]
     },
     "metadata": {},
     "output_type": "display_data"
    }
   ],
   "source": [
    "x=c(1,6,2)\n",
    "y=c(1,4,3)\n",
    "length(x)\n",
    "length(y)"
   ]
  },
  {
   "cell_type": "code",
   "execution_count": 9,
   "id": "0f229729",
   "metadata": {},
   "outputs": [
    {
     "data": {
      "text/html": [
       "<ol class=list-inline>\n",
       "\t<li>2</li>\n",
       "\t<li>10</li>\n",
       "\t<li>5</li>\n",
       "</ol>\n"
      ],
      "text/latex": [
       "\\begin{enumerate*}\n",
       "\\item 2\n",
       "\\item 10\n",
       "\\item 5\n",
       "\\end{enumerate*}\n"
      ],
      "text/markdown": [
       "1. 2\n",
       "2. 10\n",
       "3. 5\n",
       "\n",
       "\n"
      ],
      "text/plain": [
       "[1]  2 10  5"
      ]
     },
     "metadata": {},
     "output_type": "display_data"
    }
   ],
   "source": [
    "x+y"
   ]
  },
  {
   "cell_type": "code",
   "execution_count": 10,
   "id": "35e63711",
   "metadata": {},
   "outputs": [
    {
     "data": {
      "text/html": [
       "<ol class=list-inline>\n",
       "\t<li>'x'</li>\n",
       "\t<li>'y'</li>\n",
       "</ol>\n"
      ],
      "text/latex": [
       "\\begin{enumerate*}\n",
       "\\item 'x'\n",
       "\\item 'y'\n",
       "\\end{enumerate*}\n"
      ],
      "text/markdown": [
       "1. 'x'\n",
       "2. 'y'\n",
       "\n",
       "\n"
      ],
      "text/plain": [
       "[1] \"x\" \"y\""
      ]
     },
     "metadata": {},
     "output_type": "display_data"
    }
   ],
   "source": [
    "ls()"
   ]
  },
  {
   "cell_type": "code",
   "execution_count": 11,
   "id": "ad924d97",
   "metadata": {},
   "outputs": [],
   "source": [
    "rm(x,y)"
   ]
  },
  {
   "cell_type": "code",
   "execution_count": 12,
   "id": "e7a4a285",
   "metadata": {},
   "outputs": [
    {
     "data": {
      "text/html": [],
      "text/latex": [],
      "text/markdown": [],
      "text/plain": [
       "character(0)"
      ]
     },
     "metadata": {},
     "output_type": "display_data"
    }
   ],
   "source": [
    "ls()"
   ]
  },
  {
   "cell_type": "code",
   "execution_count": 13,
   "id": "4e544a95",
   "metadata": {},
   "outputs": [],
   "source": [
    "?matrix"
   ]
  },
  {
   "cell_type": "code",
   "execution_count": 14,
   "id": "542363ff",
   "metadata": {},
   "outputs": [],
   "source": [
    "x<-matrix(data=c(1,2,3,4), nrow=2,ncol=2)"
   ]
  },
  {
   "cell_type": "code",
   "execution_count": 15,
   "id": "744f761b",
   "metadata": {},
   "outputs": [
    {
     "data": {
      "text/html": [
       "<table>\n",
       "<tbody>\n",
       "\t<tr><td>1</td><td>3</td></tr>\n",
       "\t<tr><td>2</td><td>4</td></tr>\n",
       "</tbody>\n",
       "</table>\n"
      ],
      "text/latex": [
       "\\begin{tabular}{ll}\n",
       "\t 1 & 3\\\\\n",
       "\t 2 & 4\\\\\n",
       "\\end{tabular}\n"
      ],
      "text/markdown": [
       "\n",
       "| 1 | 3 | \n",
       "| 2 | 4 | \n",
       "\n",
       "\n"
      ],
      "text/plain": [
       "     [,1] [,2]\n",
       "[1,] 1    3   \n",
       "[2,] 2    4   "
      ]
     },
     "metadata": {},
     "output_type": "display_data"
    }
   ],
   "source": [
    "x"
   ]
  },
  {
   "cell_type": "code",
   "execution_count": 16,
   "id": "ad610b4a",
   "metadata": {},
   "outputs": [
    {
     "ename": "ERROR",
     "evalue": "Error in C(1, 2, 3, 4): object not interpretable as a factor\n",
     "output_type": "error",
     "traceback": [
      "Error in C(1, 2, 3, 4): object not interpretable as a factor\nTraceback:\n",
      "1. matrix(C(1, 2, 3, 4), 2, 2)",
      "2. C(1, 2, 3, 4)",
      "3. stop(\"object not interpretable as a factor\")"
     ]
    }
   ],
   "source": [
    "x<-matrix(C(1,2,3,4),2,2)"
   ]
  },
  {
   "cell_type": "code",
   "execution_count": 17,
   "id": "b05b2cf4",
   "metadata": {},
   "outputs": [],
   "source": [
    "x<-matrix(c(1,2,3,4),2,2)"
   ]
  },
  {
   "cell_type": "code",
   "execution_count": 18,
   "id": "eac2d967",
   "metadata": {},
   "outputs": [
    {
     "data": {
      "text/html": [
       "<table>\n",
       "<tbody>\n",
       "\t<tr><td>1</td><td>3</td></tr>\n",
       "\t<tr><td>2</td><td>4</td></tr>\n",
       "</tbody>\n",
       "</table>\n"
      ],
      "text/latex": [
       "\\begin{tabular}{ll}\n",
       "\t 1 & 3\\\\\n",
       "\t 2 & 4\\\\\n",
       "\\end{tabular}\n"
      ],
      "text/markdown": [
       "\n",
       "| 1 | 3 | \n",
       "| 2 | 4 | \n",
       "\n",
       "\n"
      ],
      "text/plain": [
       "     [,1] [,2]\n",
       "[1,] 1    3   \n",
       "[2,] 2    4   "
      ]
     },
     "metadata": {},
     "output_type": "display_data"
    }
   ],
   "source": [
    "x"
   ]
  },
  {
   "cell_type": "code",
   "execution_count": 19,
   "id": "2e84ca85",
   "metadata": {},
   "outputs": [
    {
     "data": {
      "text/html": [
       "<table>\n",
       "<tbody>\n",
       "\t<tr><td>1</td><td>2</td></tr>\n",
       "\t<tr><td>3</td><td>4</td></tr>\n",
       "</tbody>\n",
       "</table>\n"
      ],
      "text/latex": [
       "\\begin{tabular}{ll}\n",
       "\t 1 & 2\\\\\n",
       "\t 3 & 4\\\\\n",
       "\\end{tabular}\n"
      ],
      "text/markdown": [
       "\n",
       "| 1 | 2 | \n",
       "| 3 | 4 | \n",
       "\n",
       "\n"
      ],
      "text/plain": [
       "     [,1] [,2]\n",
       "[1,] 1    2   \n",
       "[2,] 3    4   "
      ]
     },
     "metadata": {},
     "output_type": "display_data"
    }
   ],
   "source": [
    "x<-matrix(c(1,2,3,4),2,2,byrow=TRUE)\n",
    "x"
   ]
  },
  {
   "cell_type": "code",
   "execution_count": 20,
   "id": "0e10f6ae",
   "metadata": {},
   "outputs": [
    {
     "data": {
      "text/html": [
       "<table>\n",
       "<tbody>\n",
       "\t<tr><td>1.000000</td><td>1.414214</td></tr>\n",
       "\t<tr><td>1.732051</td><td>2.000000</td></tr>\n",
       "</tbody>\n",
       "</table>\n"
      ],
      "text/latex": [
       "\\begin{tabular}{ll}\n",
       "\t 1.000000 & 1.414214\\\\\n",
       "\t 1.732051 & 2.000000\\\\\n",
       "\\end{tabular}\n"
      ],
      "text/markdown": [
       "\n",
       "| 1.000000 | 1.414214 | \n",
       "| 1.732051 | 2.000000 | \n",
       "\n",
       "\n"
      ],
      "text/plain": [
       "     [,1]     [,2]    \n",
       "[1,] 1.000000 1.414214\n",
       "[2,] 1.732051 2.000000"
      ]
     },
     "metadata": {},
     "output_type": "display_data"
    },
    {
     "data": {
      "text/html": [
       "<table>\n",
       "<tbody>\n",
       "\t<tr><td>1 </td><td> 4</td></tr>\n",
       "\t<tr><td>9 </td><td>16</td></tr>\n",
       "</tbody>\n",
       "</table>\n"
      ],
      "text/latex": [
       "\\begin{tabular}{ll}\n",
       "\t 1  &  4\\\\\n",
       "\t 9  & 16\\\\\n",
       "\\end{tabular}\n"
      ],
      "text/markdown": [
       "\n",
       "| 1  |  4 | \n",
       "| 9  | 16 | \n",
       "\n",
       "\n"
      ],
      "text/plain": [
       "     [,1] [,2]\n",
       "[1,] 1     4  \n",
       "[2,] 9    16  "
      ]
     },
     "metadata": {},
     "output_type": "display_data"
    }
   ],
   "source": [
    "sqrt(x)\n",
    "x^2"
   ]
  },
  {
   "cell_type": "code",
   "execution_count": 21,
   "id": "e8233205",
   "metadata": {},
   "outputs": [
    {
     "data": {
      "text/html": [
       "-0.0726803730676894"
      ],
      "text/latex": [
       "-0.0726803730676894"
      ],
      "text/markdown": [
       "-0.0726803730676894"
      ],
      "text/plain": [
       "[1] -0.07268037"
      ]
     },
     "metadata": {},
     "output_type": "display_data"
    }
   ],
   "source": [
    "x<-rnorm(50)\n",
    "y<-rnorm(50)\n",
    "cor(x,y)"
   ]
  },
  {
   "cell_type": "code",
   "execution_count": 22,
   "id": "f9dc51f4",
   "metadata": {},
   "outputs": [
    {
     "data": {
      "text/html": [
       "-0.230964715769888"
      ],
      "text/latex": [
       "-0.230964715769888"
      ],
      "text/markdown": [
       "-0.230964715769888"
      ],
      "text/plain": [
       "[1] -0.2309647"
      ]
     },
     "metadata": {},
     "output_type": "display_data"
    }
   ],
   "source": [
    "set.seed(50)\n",
    "x<-rnorm(50)\n",
    "y<-rnorm(50)\n",
    "cor(x,y)"
   ]
  },
  {
   "cell_type": "code",
   "execution_count": 23,
   "id": "06b81d0b",
   "metadata": {},
   "outputs": [
    {
     "data": {
      "text/html": [
       "0.97276301313176"
      ],
      "text/latex": [
       "0.97276301313176"
      ],
      "text/markdown": [
       "0.97276301313176"
      ],
      "text/plain": [
       "[1] 0.972763"
      ]
     },
     "metadata": {},
     "output_type": "display_data"
    },
    {
     "data": {
      "text/html": [
       "1.02166841569049"
      ],
      "text/latex": [
       "1.02166841569049"
      ],
      "text/markdown": [
       "1.02166841569049"
      ],
      "text/plain": [
       "[1] 1.021668"
      ]
     },
     "metadata": {},
     "output_type": "display_data"
    },
    {
     "data": {
      "text/html": [
       "-0.130303719650134"
      ],
      "text/latex": [
       "-0.130303719650134"
      ],
      "text/markdown": [
       "-0.130303719650134"
      ],
      "text/plain": [
       "[1] -0.1303037"
      ]
     },
     "metadata": {},
     "output_type": "display_data"
    },
    {
     "data": {
      "text/html": [
       "-0.0967505742981011"
      ],
      "text/latex": [
       "-0.0967505742981011"
      ],
      "text/markdown": [
       "-0.0967505742981011"
      ],
      "text/plain": [
       "[1] -0.09675057"
      ]
     },
     "metadata": {},
     "output_type": "display_data"
    },
    {
     "data": {
      "text/html": [
       "0.94626787971718"
      ],
      "text/latex": [
       "0.94626787971718"
      ],
      "text/markdown": [
       "0.94626787971718"
      ],
      "text/plain": [
       "[1] 0.9462679"
      ]
     },
     "metadata": {},
     "output_type": "display_data"
    },
    {
     "data": {
      "text/html": [
       "1.04380635161952"
      ],
      "text/latex": [
       "1.04380635161952"
      ],
      "text/markdown": [
       "1.04380635161952"
      ],
      "text/plain": [
       "[1] 1.043806"
      ]
     },
     "metadata": {},
     "output_type": "display_data"
    }
   ],
   "source": [
    "sd(x)\n",
    "sd(y)\n",
    "mean(x)\n",
    "mean(y)\n",
    "var(x)\n",
    "var(y)"
   ]
  },
  {
   "cell_type": "code",
   "execution_count": 25,
   "id": "1240ad16",
   "metadata": {},
   "outputs": [
    {
     "data": {
      "image/png": "[encoded data removed]",
      "text/plain": [
       "Plot with title \"plot of x vs y\""
      ]
     },
     "metadata": {},
     "output_type": "display_data"
    }
   ],
   "source": [
    "plot(x,y,xlab=\"xaxis\",ylab=\"yaxis\",main=\"plot of x vs y\",col=\"green\")"
   ]
  },
  {
   "cell_type": "code",
   "execution_count": 27,
   "id": "d2241346",
   "metadata": {},
   "outputs": [
    {
     "data": {
      "text/html": [
       "<ol class=list-inline>\n",
       "\t<li>2</li>\n",
       "\t<li>3</li>\n",
       "\t<li>4</li>\n",
       "\t<li>5</li>\n",
       "</ol>\n"
      ],
      "text/latex": [
       "\\begin{enumerate*}\n",
       "\\item 2\n",
       "\\item 3\n",
       "\\item 4\n",
       "\\item 5\n",
       "\\end{enumerate*}\n"
      ],
      "text/markdown": [
       "1. 2\n",
       "2. 3\n",
       "3. 4\n",
       "4. 5\n",
       "\n",
       "\n"
      ],
      "text/plain": [
       "[1] 2 3 4 5"
      ]
     },
     "metadata": {},
     "output_type": "display_data"
    },
    {
     "data": {
      "text/html": [
       "<ol class=list-inline>\n",
       "\t<li>2</li>\n",
       "\t<li>3</li>\n",
       "\t<li>4</li>\n",
       "\t<li>5</li>\n",
       "</ol>\n"
      ],
      "text/latex": [
       "\\begin{enumerate*}\n",
       "\\item 2\n",
       "\\item 3\n",
       "\\item 4\n",
       "\\item 5\n",
       "\\end{enumerate*}\n"
      ],
      "text/markdown": [
       "1. 2\n",
       "2. 3\n",
       "3. 4\n",
       "4. 5\n",
       "\n",
       "\n"
      ],
      "text/plain": [
       "[1] 2 3 4 5"
      ]
     },
     "metadata": {},
     "output_type": "display_data"
    }
   ],
   "source": [
    "x<-seq(2,5)\n",
    "x\n",
    "x<-2:5\n",
    "x"
   ]
  },
  {
   "cell_type": "code",
   "execution_count": 28,
   "id": "68021bfe",
   "metadata": {},
   "outputs": [],
   "source": [
    "?contour"
   ]
  },
  {
   "cell_type": "code",
   "execution_count": 39,
   "id": "0ef5d657",
   "metadata": {},
   "outputs": [
    {
     "data": {
      "text/html": [
       "<table>\n",
       "<tbody>\n",
       "\t<tr><td> 4</td><td> 6</td><td> 8</td><td>10</td></tr>\n",
       "\t<tr><td> 6</td><td> 9</td><td>12</td><td>15</td></tr>\n",
       "\t<tr><td> 8</td><td>12</td><td>16</td><td>20</td></tr>\n",
       "\t<tr><td>10</td><td>15</td><td>20</td><td>25</td></tr>\n",
       "</tbody>\n",
       "</table>\n"
      ],
      "text/latex": [
       "\\begin{tabular}{llll}\n",
       "\t  4 &  6 &  8 & 10\\\\\n",
       "\t  6 &  9 & 12 & 15\\\\\n",
       "\t  8 & 12 & 16 & 20\\\\\n",
       "\t 10 & 15 & 20 & 25\\\\\n",
       "\\end{tabular}\n"
      ],
      "text/markdown": [
       "\n",
       "|  4 |  6 |  8 | 10 | \n",
       "|  6 |  9 | 12 | 15 | \n",
       "|  8 | 12 | 16 | 20 | \n",
       "| 10 | 15 | 20 | 25 | \n",
       "\n",
       "\n"
      ],
      "text/plain": [
       "     [,1] [,2] [,3] [,4]\n",
       "[1,]  4    6    8   10  \n",
       "[2,]  6    9   12   15  \n",
       "[3,]  8   12   16   20  \n",
       "[4,] 10   15   20   25  "
      ]
     },
     "metadata": {},
     "output_type": "display_data"
    }
   ],
   "source": [
    "y<-x\n",
    "f<-outer(x,y)\n",
    "f"
   ]
  },
  {
   "cell_type": "code",
   "execution_count": 43,
   "id": "f5cd1687",
   "metadata": {},
   "outputs": [
    {
     "data": {
      "image/png": "[encoded data removed]",
      "text/plain": [
       "plot without title"
      ]
     },
     "metadata": {},
     "output_type": "display_data"
    }
   ],
   "source": [
    "contour(x,y,f)"
   ]
  },
  {
   "cell_type": "code",
   "execution_count": 41,
   "id": "48292583",
   "metadata": {},
   "outputs": [
    {
     "data": {
      "image/png": "[encoded data removed]",
      "text/plain": [
       "plot without title"
      ]
     },
     "metadata": {},
     "output_type": "display_data"
    }
   ],
   "source": [
    "image(x,y,f)"
   ]
  },
  {
   "cell_type": "code",
   "execution_count": 42,
   "id": "05c3e831",
   "metadata": {},
   "outputs": [
    {
     "data": {
      "image/png": "[encoded data removed]",
      "text/plain": [
       "plot without title"
      ]
     },
     "metadata": {},
     "output_type": "display_data"
    }
   ],
   "source": [
    "persp(x,y,f,theta=30)"
   ]
  },
  {
   "cell_type": "code",
   "execution_count": 45,
   "id": "6ee752ce",
   "metadata": {},
   "outputs": [
    {
     "data": {
      "text/html": [
       "<table>\n",
       "<tbody>\n",
       "\t<tr><td>1</td><td>4</td><td>7</td></tr>\n",
       "\t<tr><td>2</td><td>5</td><td>8</td></tr>\n",
       "\t<tr><td>3</td><td>6</td><td>9</td></tr>\n",
       "</tbody>\n",
       "</table>\n"
      ],
      "text/latex": [
       "\\begin{tabular}{lll}\n",
       "\t 1 & 4 & 7\\\\\n",
       "\t 2 & 5 & 8\\\\\n",
       "\t 3 & 6 & 9\\\\\n",
       "\\end{tabular}\n"
      ],
      "text/markdown": [
       "\n",
       "| 1 | 4 | 7 | \n",
       "| 2 | 5 | 8 | \n",
       "| 3 | 6 | 9 | \n",
       "\n",
       "\n"
      ],
      "text/plain": [
       "     [,1] [,2] [,3]\n",
       "[1,] 1    4    7   \n",
       "[2,] 2    5    8   \n",
       "[3,] 3    6    9   "
      ]
     },
     "metadata": {},
     "output_type": "display_data"
    }
   ],
   "source": [
    "a<-matrix(1:9,3,3)\n",
    "a"
   ]
  },
  {
   "cell_type": "code",
   "execution_count": 52,
   "id": "b548dfcb",
   "metadata": {},
   "outputs": [
    {
     "data": {
      "text/html": [
       "<table>\n",
       "<tbody>\n",
       "\t<tr><td>1</td><td>4</td><td>7</td></tr>\n",
       "\t<tr><td>2</td><td>5</td><td>8</td></tr>\n",
       "</tbody>\n",
       "</table>\n"
      ],
      "text/latex": [
       "\\begin{tabular}{lll}\n",
       "\t 1 & 4 & 7\\\\\n",
       "\t 2 & 5 & 8\\\\\n",
       "\\end{tabular}\n"
      ],
      "text/markdown": [
       "\n",
       "| 1 | 4 | 7 | \n",
       "| 2 | 5 | 8 | \n",
       "\n",
       "\n"
      ],
      "text/plain": [
       "     [,1] [,2] [,3]\n",
       "[1,] 1    4    7   \n",
       "[2,] 2    5    8   "
      ]
     },
     "metadata": {},
     "output_type": "display_data"
    }
   ],
   "source": [
    "a[1:2,]"
   ]
  },
  {
   "cell_type": "code",
   "execution_count": 53,
   "id": "bd4f9958",
   "metadata": {},
   "outputs": [
    {
     "data": {
      "text/html": [
       "<table>\n",
       "<tbody>\n",
       "\t<tr><td>2</td><td>5</td><td>8</td></tr>\n",
       "\t<tr><td>3</td><td>6</td><td>9</td></tr>\n",
       "</tbody>\n",
       "</table>\n"
      ],
      "text/latex": [
       "\\begin{tabular}{lll}\n",
       "\t 2 & 5 & 8\\\\\n",
       "\t 3 & 6 & 9\\\\\n",
       "\\end{tabular}\n"
      ],
      "text/markdown": [
       "\n",
       "| 2 | 5 | 8 | \n",
       "| 3 | 6 | 9 | \n",
       "\n",
       "\n"
      ],
      "text/plain": [
       "     [,1] [,2] [,3]\n",
       "[1,] 2    5    8   \n",
       "[2,] 3    6    9   "
      ]
     },
     "metadata": {},
     "output_type": "display_data"
    }
   ],
   "source": [
    "a[2:3,]"
   ]
  },
  {
   "cell_type": "code",
   "execution_count": 54,
   "id": "98dd9539",
   "metadata": {},
   "outputs": [
    {
     "data": {
      "text/html": [
       "<ol class=list-inline>\n",
       "\t<li>3</li>\n",
       "\t<li>3</li>\n",
       "</ol>\n"
      ],
      "text/latex": [
       "\\begin{enumerate*}\n",
       "\\item 3\n",
       "\\item 3\n",
       "\\end{enumerate*}\n"
      ],
      "text/markdown": [
       "1. 3\n",
       "2. 3\n",
       "\n",
       "\n"
      ],
      "text/plain": [
       "[1] 3 3"
      ]
     },
     "metadata": {},
     "output_type": "display_data"
    }
   ],
   "source": [
    "dim(a)"
   ]
  },
  {
   "cell_type": "code",
   "execution_count": 62,
   "id": "14cee569",
   "metadata": {},
   "outputs": [
    {
     "name": "stderr",
     "output_type": "stream",
     "text": [
      "Warning message in read.table(\"real_estate.data\", header = TRUE):\n",
      "\"line 1 appears to contain embedded nulls\"Warning message in read.table(\"real_estate.data\", header = TRUE):\n",
      "\"line 2 appears to contain embedded nulls\"Warning message in read.table(\"real_estate.data\", header = TRUE):\n",
      "\"line 3 appears to contain embedded nulls\"Warning message in read.table(\"real_estate.data\", header = TRUE):\n",
      "\"incomplete final line found by readTableHeader on 'real_estate.data'\""
     ]
    },
    {
     "data": {
      "text/html": [
       "<table>\n",
       "<thead><tr><th scope=col>X...q</th></tr></thead>\n",
       "<tbody>\n",
       "\t<tr><td>X\u0004       </td></tr>\n",
       "\t<tr><td>}q\u000e(X\u000e</td></tr>\n",
       "</tbody>\n",
       "</table>\n"
      ],
      "text/latex": [
       "\\begin{tabular}{r|l}\n",
       " X...q\\\\\n",
       "\\hline\n",
       "\t X\u0004       \\\\\n",
       "\t \\}q\u000e(X\u000e\\\\\n",
       "\\end{tabular}\n"
      ],
      "text/markdown": [
       "\n",
       "X...q | \n",
       "|---|---|\n",
       "| X\u0004        | \n",
       "| }q\u000e(X\u000e | \n",
       "\n",
       "\n"
      ],
      "text/plain": [
       "  X...q       \n",
       "1 X\\004       \n",
       "2 }q\\016(X\\016"
      ]
     },
     "metadata": {},
     "output_type": "display_data"
    }
   ],
   "source": [
    "res<-read.table(\"real_estate.data\",header=TRUE)\n",
    "\n",
    "head(res)"
   ]
  },
  {
   "cell_type": "code",
   "execution_count": 63,
   "id": "efab6cd2",
   "metadata": {},
   "outputs": [],
   "source": [
    "mycsv=read.csv(\"real_estate.csv\")"
   ]
  },
  {
   "cell_type": "code",
   "execution_count": 65,
   "id": "6ea4af57",
   "metadata": {},
   "outputs": [
    {
     "data": {
      "text/html": [
       "<table>\n",
       "<thead><tr><th scope=col>data.date</th><th scope=col>data.owned.or.leased</th><th scope=col>data.parking.spaces</th><th scope=col>data.status</th><th scope=col>data.type</th><th scope=col>location.congressional.district</th><th scope=col>location.id</th><th scope=col>location.region.id</th><th scope=col>data.disabilities.ADA.Accessible</th><th scope=col>data.disabilities.ansi.usable</th><th scope=col>location.address.city</th><th scope=col>location.address.county</th><th scope=col>location.address.line.1</th><th scope=col>location.address.state</th><th scope=col>location.address.zip</th></tr></thead>\n",
       "<tbody>\n",
       "\t<tr><td>1933.1.1          </td><td>OWNED             </td><td> 29               </td><td>ACTIVE            </td><td>BUILDING          </td><td>1                 </td><td>CT0013            </td><td>1                 </td><td>Will Conform      </td><td> 97072            </td><td>HARTFORD          </td><td>HARTFORD COUNTY   </td><td>135 HIGH ST       </td><td>CT                </td><td>61031125          </td></tr>\n",
       "\t<tr><td>2019.1.1          </td><td>OWNED             </td><td>  0               </td><td>ACTIVE            </td><td>BUILDING          </td><td>3                 </td><td>CT0024            </td><td>1                 </td><td>Will Conform      </td><td> 67717            </td><td>NEW HAVEN         </td><td>NEW HAVEN COUNTY  </td><td>141 CHURCH ST     </td><td>CT                </td><td>65102001          </td></tr>\n",
       "\t<tr><td>1933.1.1          </td><td>LEASED            </td><td>  2               </td><td>ACTIVE            </td><td>BUILDING          </td><td>5                 </td><td>CT0047            </td><td>1                 </td><td>Will Conform      </td><td>  7442            </td><td>WATERBURY         </td><td>NEW HAVEN COUNTY  </td><td>135 GRAND ST      </td><td>CT                </td><td>67029998          </td></tr>\n",
       "\t<tr><td>1963.1.1          </td><td>OWNED             </td><td>103               </td><td>ACTIVE            </td><td>BUILDING          </td><td>1                 </td><td>CT0053            </td><td>1                 </td><td>Will Conform      </td><td>203175            </td><td>HARTFORD          </td><td>HARTFORD COUNTY   </td><td>450 Main St       </td><td>CT                </td><td>61031804          </td></tr>\n",
       "\t<tr><td>1967.1.1          </td><td>OWNED             </td><td>131               </td><td>ACTIVE            </td><td>BUILDING          </td><td>4                 </td><td>CT0059            </td><td>1                 </td><td>Will Conform      </td><td> 86215            </td><td>BRIDGEPORT        </td><td>FAIRFIELD COUNTY  </td><td>915 LAFAYETTE BLVD</td><td>CT                </td><td>66044706          </td></tr>\n",
       "\t<tr><td>1969.1.1          </td><td>OWNED             </td><td>  5               </td><td>ACTIVE            </td><td>BUILDING          </td><td>5                 </td><td>CT0060            </td><td>1                 </td><td>Will Conform      </td><td>  5052            </td><td>TORRINGTON        </td><td>LITCHFIELD COUNTY </td><td>147 Litchfield St </td><td>CT                </td><td>67906407          </td></tr>\n",
       "</tbody>\n",
       "</table>\n"
      ],
      "text/latex": [
       "\\begin{tabular}{r|lllllllllllllll}\n",
       " data.date & data.owned.or.leased & data.parking.spaces & data.status & data.type & location.congressional.district & location.id & location.region.id & data.disabilities.ADA.Accessible & data.disabilities.ansi.usable & location.address.city & location.address.county & location.address.line.1 & location.address.state & location.address.zip\\\\\n",
       "\\hline\n",
       "\t 1933.1.1           & OWNED              &  29                & ACTIVE             & BUILDING           & 1                  & CT0013             & 1                  & Will Conform       &  97072             & HARTFORD           & HARTFORD COUNTY    & 135 HIGH ST        & CT                 & 61031125          \\\\\n",
       "\t 2019.1.1           & OWNED              &   0                & ACTIVE             & BUILDING           & 3                  & CT0024             & 1                  & Will Conform       &  67717             & NEW HAVEN          & NEW HAVEN COUNTY   & 141 CHURCH ST      & CT                 & 65102001          \\\\\n",
       "\t 1933.1.1           & LEASED             &   2                & ACTIVE             & BUILDING           & 5                  & CT0047             & 1                  & Will Conform       &   7442             & WATERBURY          & NEW HAVEN COUNTY   & 135 GRAND ST       & CT                 & 67029998          \\\\\n",
       "\t 1963.1.1           & OWNED              & 103                & ACTIVE             & BUILDING           & 1                  & CT0053             & 1                  & Will Conform       & 203175             & HARTFORD           & HARTFORD COUNTY    & 450 Main St        & CT                 & 61031804          \\\\\n",
       "\t 1967.1.1           & OWNED              & 131                & ACTIVE             & BUILDING           & 4                  & CT0059             & 1                  & Will Conform       &  86215             & BRIDGEPORT         & FAIRFIELD COUNTY   & 915 LAFAYETTE BLVD & CT                 & 66044706          \\\\\n",
       "\t 1969.1.1           & OWNED              &   5                & ACTIVE             & BUILDING           & 5                  & CT0060             & 1                  & Will Conform       &   5052             & TORRINGTON         & LITCHFIELD COUNTY  & 147 Litchfield St  & CT                 & 67906407          \\\\\n",
       "\\end{tabular}\n"
      ],
      "text/markdown": [
       "\n",
       "data.date | data.owned.or.leased | data.parking.spaces | data.status | data.type | location.congressional.district | location.id | location.region.id | data.disabilities.ADA.Accessible | data.disabilities.ansi.usable | location.address.city | location.address.county | location.address.line.1 | location.address.state | location.address.zip | \n",
       "|---|---|---|---|---|---|\n",
       "| 1933.1.1           | OWNED              |  29                | ACTIVE             | BUILDING           | 1                  | CT0013             | 1                  | Will Conform       |  97072             | HARTFORD           | HARTFORD COUNTY    | 135 HIGH ST        | CT                 | 61031125           | \n",
       "| 2019.1.1           | OWNED              |   0                | ACTIVE             | BUILDING           | 3                  | CT0024             | 1                  | Will Conform       |  67717             | NEW HAVEN          | NEW HAVEN COUNTY   | 141 CHURCH ST      | CT                 | 65102001           | \n",
       "| 1933.1.1           | LEASED             |   2                | ACTIVE             | BUILDING           | 5                  | CT0047             | 1                  | Will Conform       |   7442             | WATERBURY          | NEW HAVEN COUNTY   | 135 GRAND ST       | CT                 | 67029998           | \n",
       "| 1963.1.1           | OWNED              | 103                | ACTIVE             | BUILDING           | 1                  | CT0053             | 1                  | Will Conform       | 203175             | HARTFORD           | HARTFORD COUNTY    | 450 Main St        | CT                 | 61031804           | \n",
       "| 1967.1.1           | OWNED              | 131                | ACTIVE             | BUILDING           | 4                  | CT0059             | 1                  | Will Conform       |  86215             | BRIDGEPORT         | FAIRFIELD COUNTY   | 915 LAFAYETTE BLVD | CT                 | 66044706           | \n",
       "| 1969.1.1           | OWNED              |   5                | ACTIVE             | BUILDING           | 5                  | CT0060             | 1                  | Will Conform       |   5052             | TORRINGTON         | LITCHFIELD COUNTY  | 147 Litchfield St  | CT                 | 67906407           | \n",
       "\n",
       "\n"
      ],
      "text/plain": [
       "  data.date data.owned.or.leased data.parking.spaces data.status data.type\n",
       "1 1933.1.1  OWNED                 29                 ACTIVE      BUILDING \n",
       "2 2019.1.1  OWNED                  0                 ACTIVE      BUILDING \n",
       "3 1933.1.1  LEASED                 2                 ACTIVE      BUILDING \n",
       "4 1963.1.1  OWNED                103                 ACTIVE      BUILDING \n",
       "5 1967.1.1  OWNED                131                 ACTIVE      BUILDING \n",
       "6 1969.1.1  OWNED                  5                 ACTIVE      BUILDING \n",
       "  location.congressional.district location.id location.region.id\n",
       "1 1                               CT0013      1                 \n",
       "2 3                               CT0024      1                 \n",
       "3 5                               CT0047      1                 \n",
       "4 1                               CT0053      1                 \n",
       "5 4                               CT0059      1                 \n",
       "6 5                               CT0060      1                 \n",
       "  data.disabilities.ADA.Accessible data.disabilities.ansi.usable\n",
       "1 Will Conform                      97072                       \n",
       "2 Will Conform                      67717                       \n",
       "3 Will Conform                       7442                       \n",
       "4 Will Conform                     203175                       \n",
       "5 Will Conform                      86215                       \n",
       "6 Will Conform                       5052                       \n",
       "  location.address.city location.address.county location.address.line.1\n",
       "1 HARTFORD              HARTFORD COUNTY         135 HIGH ST            \n",
       "2 NEW HAVEN             NEW HAVEN COUNTY        141 CHURCH ST          \n",
       "3 WATERBURY             NEW HAVEN COUNTY        135 GRAND ST           \n",
       "4 HARTFORD              HARTFORD COUNTY         450 Main St            \n",
       "5 BRIDGEPORT            FAIRFIELD COUNTY        915 LAFAYETTE BLVD     \n",
       "6 TORRINGTON            LITCHFIELD COUNTY       147 Litchfield St      \n",
       "  location.address.state location.address.zip\n",
       "1 CT                     61031125            \n",
       "2 CT                     65102001            \n",
       "3 CT                     67029998            \n",
       "4 CT                     61031804            \n",
       "5 CT                     66044706            \n",
       "6 CT                     67906407            "
      ]
     },
     "metadata": {},
     "output_type": "display_data"
    }
   ],
   "source": [
    "head(mycsv)"
   ]
  },
  {
   "cell_type": "code",
   "execution_count": 66,
   "id": "b2d1bbf9",
   "metadata": {},
   "outputs": [
    {
     "data": {
      "text/html": [
       "<ol class=list-inline>\n",
       "\t<li>9129</li>\n",
       "\t<li>15</li>\n",
       "</ol>\n"
      ],
      "text/latex": [
       "\\begin{enumerate*}\n",
       "\\item 9129\n",
       "\\item 15\n",
       "\\end{enumerate*}\n"
      ],
      "text/markdown": [
       "1. 9129\n",
       "2. 15\n",
       "\n",
       "\n"
      ],
      "text/plain": [
       "[1] 9129   15"
      ]
     },
     "metadata": {},
     "output_type": "display_data"
    }
   ],
   "source": [
    "dim(mycsv)"
   ]
  },
  {
   "cell_type": "code",
   "execution_count": 68,
   "id": "1e383dad",
   "metadata": {},
   "outputs": [
    {
     "data": {
      "text/html": [
       "<ol class=list-inline>\n",
       "\t<li>9107</li>\n",
       "\t<li>15</li>\n",
       "</ol>\n"
      ],
      "text/latex": [
       "\\begin{enumerate*}\n",
       "\\item 9107\n",
       "\\item 15\n",
       "\\end{enumerate*}\n"
      ],
      "text/markdown": [
       "1. 9107\n",
       "2. 15\n",
       "\n",
       "\n"
      ],
      "text/plain": [
       "[1] 9107   15"
      ]
     },
     "metadata": {},
     "output_type": "display_data"
    }
   ],
   "source": [
    "newdata=na.omit(mycsv)\n",
    "dim(newdata)"
   ]
  },
  {
   "cell_type": "code",
   "execution_count": 69,
   "id": "d07a9884",
   "metadata": {},
   "outputs": [
    {
     "data": {
      "text/html": [
       "<ol class=list-inline>\n",
       "\t<li>'data.date'</li>\n",
       "\t<li>'data.owned.or.leased'</li>\n",
       "\t<li>'data.parking.spaces'</li>\n",
       "\t<li>'data.status'</li>\n",
       "\t<li>'data.type'</li>\n",
       "\t<li>'location.congressional.district'</li>\n",
       "\t<li>'location.id'</li>\n",
       "\t<li>'location.region.id'</li>\n",
       "\t<li>'data.disabilities.ADA.Accessible'</li>\n",
       "\t<li>'data.disabilities.ansi.usable'</li>\n",
       "\t<li>'location.address.city'</li>\n",
       "\t<li>'location.address.county'</li>\n",
       "\t<li>'location.address.line.1'</li>\n",
       "\t<li>'location.address.state'</li>\n",
       "\t<li>'location.address.zip'</li>\n",
       "</ol>\n"
      ],
      "text/latex": [
       "\\begin{enumerate*}\n",
       "\\item 'data.date'\n",
       "\\item 'data.owned.or.leased'\n",
       "\\item 'data.parking.spaces'\n",
       "\\item 'data.status'\n",
       "\\item 'data.type'\n",
       "\\item 'location.congressional.district'\n",
       "\\item 'location.id'\n",
       "\\item 'location.region.id'\n",
       "\\item 'data.disabilities.ADA.Accessible'\n",
       "\\item 'data.disabilities.ansi.usable'\n",
       "\\item 'location.address.city'\n",
       "\\item 'location.address.county'\n",
       "\\item 'location.address.line.1'\n",
       "\\item 'location.address.state'\n",
       "\\item 'location.address.zip'\n",
       "\\end{enumerate*}\n"
      ],
      "text/markdown": [
       "1. 'data.date'\n",
       "2. 'data.owned.or.leased'\n",
       "3. 'data.parking.spaces'\n",
       "4. 'data.status'\n",
       "5. 'data.type'\n",
       "6. 'location.congressional.district'\n",
       "7. 'location.id'\n",
       "8. 'location.region.id'\n",
       "9. 'data.disabilities.ADA.Accessible'\n",
       "10. 'data.disabilities.ansi.usable'\n",
       "11. 'location.address.city'\n",
       "12. 'location.address.county'\n",
       "13. 'location.address.line.1'\n",
       "14. 'location.address.state'\n",
       "15. 'location.address.zip'\n",
       "\n",
       "\n"
      ],
      "text/plain": [
       " [1] \"data.date\"                        \"data.owned.or.leased\"            \n",
       " [3] \"data.parking.spaces\"              \"data.status\"                     \n",
       " [5] \"data.type\"                        \"location.congressional.district\" \n",
       " [7] \"location.id\"                      \"location.region.id\"              \n",
       " [9] \"data.disabilities.ADA.Accessible\" \"data.disabilities.ansi.usable\"   \n",
       "[11] \"location.address.city\"            \"location.address.county\"         \n",
       "[13] \"location.address.line.1\"          \"location.address.state\"          \n",
       "[15] \"location.address.zip\"            "
      ]
     },
     "metadata": {},
     "output_type": "display_data"
    }
   ],
   "source": [
    "names(newdata)"
   ]
  },
  {
   "cell_type": "code",
   "execution_count": 70,
   "id": "fddf1d8a",
   "metadata": {},
   "outputs": [
    {
     "data": {
      "image/png": "[encoded data removed]",
      "text/plain": [
       "plot without title"
      ]
     },
     "metadata": {},
     "output_type": "display_data"
    }
   ],
   "source": [
    "plot(newdata$data.parking.spaces,newdata$location.region.id)"
   ]
  },
  {
   "cell_type": "code",
   "execution_count": 71,
   "id": "a8d756fd",
   "metadata": {},
   "outputs": [],
   "source": [
    "attach(newdata)"
   ]
  },
  {
   "cell_type": "code",
   "execution_count": 72,
   "id": "aa02e6af",
   "metadata": {},
   "outputs": [
    {
     "data": {
      "image/png": "[encoded data removed]",
      "text/plain": [
       "plot without title"
      ]
     },
     "metadata": {},
     "output_type": "display_data"
    }
   ],
   "source": [
    "plot(data.parking.spaces,location.congressional.district)"
   ]
  },
  {
   "cell_type": "code",
   "execution_count": 75,
   "id": "6ecfda87",
   "metadata": {},
   "outputs": [
    {
     "data": {
      "image/png": "[encoded data removed]",
      "text/plain": [
       "Plot with title \"Histogram of data.parking.spaces\""
      ]
     },
     "metadata": {},
     "output_type": "display_data"
    }
   ],
   "source": [
    "hist(data.parking.spaces,col=2,breaks =100)"
   ]
  },
  {
   "cell_type": "code",
   "execution_count": 76,
   "id": "eda9fe6a",
   "metadata": {},
   "outputs": [
    {
     "data": {
      "image/png": "[encoded data removed]",
      "text/plain": [
       "plot without title"
      ]
     },
     "metadata": {},
     "output_type": "display_data"
    }
   ],
   "source": [
    "pairs(newdata)"
   ]
  },
  {
   "cell_type": "code",
   "execution_count": 78,
   "id": "a6d1abde",
   "metadata": {},
   "outputs": [
    {
     "data": {
      "image/png": "[encoded data removed]",
      "text/plain": [
       "plot without title"
      ]
     },
     "metadata": {},
     "output_type": "display_data"
    }
   ],
   "source": [
    "pairs(~data.owned.or.leased+data.parking.spaces+data.status+data.type+location.congressional.district+location.id+location.region.id+data.disabilities.ADA.Accessible+data.disabilities.ansi.usable,\n",
    "      data=newdata)"
   ]
  },
  {
   "cell_type": "code",
   "execution_count": 79,
   "id": "084bf2b5",
   "metadata": {},
   "outputs": [
    {
     "data": {
      "text/plain": [
       "    data.date    data.owned.or.leased data.parking.spaces         data.status  \n",
       " 0       :5008   LEASED:6947          Min.   :   0.00     ACTIVE        :9048  \n",
       " 1942.1.1:  54   OWNED :2160          1st Qu.:   0.00     DECOMMISSIONED:  17  \n",
       " 1991.1.1:  48                        Median :   8.00     EXCESS        :  42  \n",
       " 1996.1.1:  48                        Mean   :  51.01                          \n",
       " 2010.1.1:  43                        3rd Qu.:  39.00                          \n",
       " 1985.1.1:  42                        Max.   :6600.00                          \n",
       " (Other) :3864                                                                 \n",
       "     data.type    location.congressional.district  location.id  \n",
       " BUILDING :8644   Min.   : 0.00                   AK0001 :   1  \n",
       " LAND     : 119   1st Qu.: 2.00                   AK0005 :   1  \n",
       " STRUCTURE: 344   Median : 6.00                   AK0009 :   1  \n",
       "                  Mean   :14.83                   AK0013 :   1  \n",
       "                  3rd Qu.:16.00                   AK0029 :   1  \n",
       "                  Max.   :98.00                   AK0031 :   1  \n",
       "                                                  (Other):9101  \n",
       " location.region.id data.disabilities.ADA.Accessible\n",
       " Min.   : 1.000     No          : 368               \n",
       " 1st Qu.: 4.000     Will Conform:3880               \n",
       " Median : 7.000     Yes         :4859               \n",
       " Mean   : 6.226                                     \n",
       " 3rd Qu.: 9.000                                     \n",
       " Max.   :11.000                                     \n",
       "                                                    \n",
       " data.disabilities.ansi.usable location.address.city\n",
       " Min.   :      0               WASHINGTON : 458     \n",
       " 1st Qu.:   2548               LAREDO     :  95     \n",
       " Median :   7650               EL PASO    :  89     \n",
       " Mean   :  33416               LAKEWOOD   :  80     \n",
       " 3rd Qu.:  21374               SPRINGFIELD:  74     \n",
       " Max.   :1989117               ARLINGTON  :  73     \n",
       "                               (Other)    :8238     \n",
       "         location.address.county                      location.address.line.1\n",
       " DISTRICT OF COLUMBIA: 455       W 6TH AVE & KIPLING ST           :  52      \n",
       " MONTGOMERY COUNTY   : 195       2701 Martin Luther King Jr Ave SE:  39      \n",
       " JEFFERSON COUNTY    : 168       4300 GOODFELLOW BLVD             :  24      \n",
       " EL PASO COUNTY      : 136       NEBRASKA AVENUE COMPLEX          :  24      \n",
       " LOS ANGELES COUNTY  : 128       2701 MARTIN LUTHER KING JR AVE SE:  22      \n",
       " FAIRFAX COUNTY      : 100       3300 S. EXPRESSWAY 77/83         :  22      \n",
       " (Other)             :7925       (Other)                          :8924      \n",
       " location.address.state location.address.zip\n",
       " TX     : 946           Min.   :      605   \n",
       " CA     : 722           1st Qu.:200243003   \n",
       " DC     : 455           Median :432152567   \n",
       " FL     : 419           Mean   :467591810   \n",
       " VA     : 408           3rd Qu.:785216762   \n",
       " NY     : 382           Max.   :999019998   \n",
       " (Other):5775                               "
      ]
     },
     "metadata": {},
     "output_type": "display_data"
    },
    {
     "data": {
      "text/plain": [
       "   Min. 1st Qu.  Median    Mean 3rd Qu.    Max. \n",
       "   0.00    0.00    8.00   51.01   39.00 6600.00 "
      ]
     },
     "metadata": {},
     "output_type": "display_data"
    }
   ],
   "source": [
    "summary(newdata)\n",
    "summary(data.parking.spaces)"
   ]
  },
  {
   "cell_type": "code",
   "execution_count": null,
   "id": "56afe993",
   "metadata": {},
   "outputs": [],
   "source": []
  },
  {
   "cell_type": "code",
   "execution_count": null,
   "id": "83d33178",
   "metadata": {},
   "outputs": [],
   "source": []
  },
  {
   "cell_type": "code",
   "execution_count": null,
   "id": "1f3dfbe5",
   "metadata": {},
   "outputs": [],
   "source": []
  }
 ],
 "metadata": {
  "kernelspec": {
   "display_name": "R",
   "language": "R",
   "name": "ir"
  },
  "language_info": {
   "codemirror_mode": "r",
   "file_extension": ".r",
   "mimetype": "text/x-r-source",
   "name": "R",
   "pygments_lexer": "r",
   "version": "3.5.1"
  }
 },
 "nbformat": 4,
 "nbformat_minor": 5
}
