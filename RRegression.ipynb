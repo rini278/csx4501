{
 "cells": [
  {
   "cell_type": "code",
   "execution_count": 3,
   "id": "5d2526d8",
   "metadata": {},
   "outputs": [],
   "source": [
    "mydata=read.csv(\"state_demographics.csv\")"
   ]
  },
  {
   "cell_type": "code",
   "execution_count": 4,
   "id": "d4724dca",
   "metadata": {},
   "outputs": [
    {
     "data": {
      "text/html": [
       "<table>\n",
       "<thead><tr><th scope=col>State</th><th scope=col>Population.Population.Percent.Change</th><th scope=col>Population.2014.Population</th><th scope=col>Population.2010.Population</th><th scope=col>Age.Percent.Under.5.Years</th><th scope=col>Age.Percent.Under.18.Years</th><th scope=col>Age.Percent.65.and.Older</th><th scope=col>Miscellaneous.Percent.Female</th><th scope=col>Ethnicities.White.Alone</th><th scope=col>Ethnicities.Black.Alone</th><th scope=col>...</th><th scope=col>Employment.Nonemployer.Establishments</th><th scope=col>Employment.Firms.Total</th><th scope=col>Employment.Firms.Men.Owned</th><th scope=col>Employment.Firms.Women.Owned</th><th scope=col>Employment.Firms.Minority.Owned</th><th scope=col>Employment.Firms.Nonminority.Owned</th><th scope=col>Employment.Firms.Veteran.Owned</th><th scope=col>Employment.Firms.Nonveteran.Owned</th><th scope=col>Population.Population.per.Square.Mile</th><th scope=col>Miscellaneous.Land.Area</th></tr></thead>\n",
       "<tbody>\n",
       "\t<tr><td>Connecticut         </td><td>-10.2               </td><td> 3605944            </td><td> 3574097            </td><td>5.1                 </td><td>20.4                </td><td>17.7                </td><td>51.2                </td><td>79.7                </td><td>12.2                </td><td>...                 </td><td> 286874             </td><td> 326693             </td><td> 187845             </td><td>106678              </td><td> 56113              </td><td> 259614             </td><td> 31056              </td><td> 281182             </td><td> 738.1              </td><td> 4842.36            </td></tr>\n",
       "\t<tr><td>Delaware            </td><td>  8.4               </td><td>  989948            </td><td>  897934            </td><td>5.6                 </td><td>20.9                </td><td>19.4                </td><td>51.7                </td><td>69.2                </td><td>23.2                </td><td>...                 </td><td>  68623             </td><td>  73418             </td><td>  38328             </td><td> 23964              </td><td> 14440              </td><td>  54782             </td><td>  7206              </td><td>  60318             </td><td> 460.8              </td><td> 1948.54            </td></tr>\n",
       "\t<tr><td>District of Columbia</td><td> 17.3               </td><td>  689545            </td><td>  601723            </td><td>6.4                 </td><td>18.2                </td><td>12.4                </td><td>52.6                </td><td>46.0                </td><td>46.0                </td><td>...                 </td><td>  62583             </td><td>  63408             </td><td>  30237             </td><td> 27064              </td><td> 29983              </td><td>  29521             </td><td>  5070              </td><td>  54217             </td><td>9856.5              </td><td>   61.05            </td></tr>\n",
       "\t<tr><td>Florida             </td><td> 14.2               </td><td>21538187            </td><td>18801310            </td><td>5.3                 </td><td>19.7                </td><td>20.9                </td><td>51.1                </td><td>77.3                </td><td>16.9                </td><td>...                 </td><td>2388050             </td><td>2100187             </td><td>1084885             </td><td>807817              </td><td>926112              </td><td>1121749             </td><td>185756              </td><td>1846686             </td><td> 350.6              </td><td>53624.76            </td></tr>\n",
       "\t<tr><td>Georgia             </td><td>  9.6               </td><td>10711908            </td><td> 9687653            </td><td>6.2                 </td><td>23.6                </td><td>14.3                </td><td>51.4                </td><td>60.2                </td><td>32.6                </td><td>...                 </td><td> 955621             </td><td> 929864             </td><td> 480578             </td><td>376506              </td><td>371588              </td><td> 538893             </td><td> 96787              </td><td> 800585             </td><td> 168.4              </td><td>57513.49            </td></tr>\n",
       "\t<tr><td>Hawaii              </td><td>  4.1               </td><td> 1455271            </td><td> 1360301            </td><td>6.0                 </td><td>21.2                </td><td>19.0                </td><td>50.0                </td><td>25.5                </td><td> 2.2                </td><td>...                 </td><td> 112589             </td><td> 118454             </td><td>  60409             </td><td> 44453              </td><td> 74208              </td><td>  38510             </td><td> 11148              </td><td> 101334             </td><td> 211.8              </td><td> 6422.63            </td></tr>\n",
       "</tbody>\n",
       "</table>\n"
      ],
      "text/latex": [
       "\\begin{tabular}{r|llllllllllllllllllllllllllllllllllllllllllllllll}\n",
       " State & Population.Population.Percent.Change & Population.2014.Population & Population.2010.Population & Age.Percent.Under.5.Years & Age.Percent.Under.18.Years & Age.Percent.65.and.Older & Miscellaneous.Percent.Female & Ethnicities.White.Alone & Ethnicities.Black.Alone & ... & Employment.Nonemployer.Establishments & Employment.Firms.Total & Employment.Firms.Men.Owned & Employment.Firms.Women.Owned & Employment.Firms.Minority.Owned & Employment.Firms.Nonminority.Owned & Employment.Firms.Veteran.Owned & Employment.Firms.Nonveteran.Owned & Population.Population.per.Square.Mile & Miscellaneous.Land.Area\\\\\n",
       "\\hline\n",
       "\t Connecticut          & -10.2                &  3605944             &  3574097             & 5.1                  & 20.4                 & 17.7                 & 51.2                 & 79.7                 & 12.2                 & ...                  &  286874              &  326693              &  187845              & 106678               &  56113               &  259614              &  31056               &  281182              &  738.1               &  4842.36            \\\\\n",
       "\t Delaware             &   8.4                &   989948             &   897934             & 5.6                  & 20.9                 & 19.4                 & 51.7                 & 69.2                 & 23.2                 & ...                  &   68623              &   73418              &   38328              &  23964               &  14440               &   54782              &   7206               &   60318              &  460.8               &  1948.54            \\\\\n",
       "\t District of Columbia &  17.3                &   689545             &   601723             & 6.4                  & 18.2                 & 12.4                 & 52.6                 & 46.0                 & 46.0                 & ...                  &   62583              &   63408              &   30237              &  27064               &  29983               &   29521              &   5070               &   54217              & 9856.5               &    61.05            \\\\\n",
       "\t Florida              &  14.2                & 21538187             & 18801310             & 5.3                  & 19.7                 & 20.9                 & 51.1                 & 77.3                 & 16.9                 & ...                  & 2388050              & 2100187              & 1084885              & 807817               & 926112               & 1121749              & 185756               & 1846686              &  350.6               & 53624.76            \\\\\n",
       "\t Georgia              &   9.6                & 10711908             &  9687653             & 6.2                  & 23.6                 & 14.3                 & 51.4                 & 60.2                 & 32.6                 & ...                  &  955621              &  929864              &  480578              & 376506               & 371588               &  538893              &  96787               &  800585              &  168.4               & 57513.49            \\\\\n",
       "\t Hawaii               &   4.1                &  1455271             &  1360301             & 6.0                  & 21.2                 & 19.0                 & 50.0                 & 25.5                 &  2.2                 & ...                  &  112589              &  118454              &   60409              &  44453               &  74208               &   38510              &  11148               &  101334              &  211.8               &  6422.63            \\\\\n",
       "\\end{tabular}\n"
      ],
      "text/markdown": [
       "\n",
       "State | Population.Population.Percent.Change | Population.2014.Population | Population.2010.Population | Age.Percent.Under.5.Years | Age.Percent.Under.18.Years | Age.Percent.65.and.Older | Miscellaneous.Percent.Female | Ethnicities.White.Alone | Ethnicities.Black.Alone | ... | Employment.Nonemployer.Establishments | Employment.Firms.Total | Employment.Firms.Men.Owned | Employment.Firms.Women.Owned | Employment.Firms.Minority.Owned | Employment.Firms.Nonminority.Owned | Employment.Firms.Veteran.Owned | Employment.Firms.Nonveteran.Owned | Population.Population.per.Square.Mile | Miscellaneous.Land.Area | \n",
       "|---|---|---|---|---|---|\n",
       "| Connecticut          | -10.2                |  3605944             |  3574097             | 5.1                  | 20.4                 | 17.7                 | 51.2                 | 79.7                 | 12.2                 | ...                  |  286874              |  326693              |  187845              | 106678               |  56113               |  259614              |  31056               |  281182              |  738.1               |  4842.36             | \n",
       "| Delaware             |   8.4                |   989948             |   897934             | 5.6                  | 20.9                 | 19.4                 | 51.7                 | 69.2                 | 23.2                 | ...                  |   68623              |   73418              |   38328              |  23964               |  14440               |   54782              |   7206               |   60318              |  460.8               |  1948.54             | \n",
       "| District of Columbia |  17.3                |   689545             |   601723             | 6.4                  | 18.2                 | 12.4                 | 52.6                 | 46.0                 | 46.0                 | ...                  |   62583              |   63408              |   30237              |  27064               |  29983               |   29521              |   5070               |   54217              | 9856.5               |    61.05             | \n",
       "| Florida              |  14.2                | 21538187             | 18801310             | 5.3                  | 19.7                 | 20.9                 | 51.1                 | 77.3                 | 16.9                 | ...                  | 2388050              | 2100187              | 1084885              | 807817               | 926112               | 1121749              | 185756               | 1846686              |  350.6               | 53624.76             | \n",
       "| Georgia              |   9.6                | 10711908             |  9687653             | 6.2                  | 23.6                 | 14.3                 | 51.4                 | 60.2                 | 32.6                 | ...                  |  955621              |  929864              |  480578              | 376506               | 371588               |  538893              |  96787               |  800585              |  168.4               | 57513.49             | \n",
       "| Hawaii               |   4.1                |  1455271             |  1360301             | 6.0                  | 21.2                 | 19.0                 | 50.0                 | 25.5                 |  2.2                 | ...                  |  112589              |  118454              |   60409              |  44453               |  74208               |   38510              |  11148               |  101334              |  211.8               |  6422.63             | \n",
       "\n",
       "\n"
      ],
      "text/plain": [
       "  State                Population.Population.Percent.Change\n",
       "1 Connecticut          -10.2                               \n",
       "2 Delaware               8.4                               \n",
       "3 District of Columbia  17.3                               \n",
       "4 Florida               14.2                               \n",
       "5 Georgia                9.6                               \n",
       "6 Hawaii                 4.1                               \n",
       "  Population.2014.Population Population.2010.Population\n",
       "1  3605944                    3574097                  \n",
       "2   989948                     897934                  \n",
       "3   689545                     601723                  \n",
       "4 21538187                   18801310                  \n",
       "5 10711908                    9687653                  \n",
       "6  1455271                    1360301                  \n",
       "  Age.Percent.Under.5.Years Age.Percent.Under.18.Years Age.Percent.65.and.Older\n",
       "1 5.1                       20.4                       17.7                    \n",
       "2 5.6                       20.9                       19.4                    \n",
       "3 6.4                       18.2                       12.4                    \n",
       "4 5.3                       19.7                       20.9                    \n",
       "5 6.2                       23.6                       14.3                    \n",
       "6 6.0                       21.2                       19.0                    \n",
       "  Miscellaneous.Percent.Female Ethnicities.White.Alone Ethnicities.Black.Alone\n",
       "1 51.2                         79.7                    12.2                   \n",
       "2 51.7                         69.2                    23.2                   \n",
       "3 52.6                         46.0                    46.0                   \n",
       "4 51.1                         77.3                    16.9                   \n",
       "5 51.4                         60.2                    32.6                   \n",
       "6 50.0                         25.5                     2.2                   \n",
       "  ... Employment.Nonemployer.Establishments Employment.Firms.Total\n",
       "1 ...  286874                                326693               \n",
       "2 ...   68623                                 73418               \n",
       "3 ...   62583                                 63408               \n",
       "4 ... 2388050                               2100187               \n",
       "5 ...  955621                                929864               \n",
       "6 ...  112589                                118454               \n",
       "  Employment.Firms.Men.Owned Employment.Firms.Women.Owned\n",
       "1  187845                    106678                      \n",
       "2   38328                     23964                      \n",
       "3   30237                     27064                      \n",
       "4 1084885                    807817                      \n",
       "5  480578                    376506                      \n",
       "6   60409                     44453                      \n",
       "  Employment.Firms.Minority.Owned Employment.Firms.Nonminority.Owned\n",
       "1  56113                           259614                           \n",
       "2  14440                            54782                           \n",
       "3  29983                            29521                           \n",
       "4 926112                          1121749                           \n",
       "5 371588                           538893                           \n",
       "6  74208                            38510                           \n",
       "  Employment.Firms.Veteran.Owned Employment.Firms.Nonveteran.Owned\n",
       "1  31056                          281182                          \n",
       "2   7206                           60318                          \n",
       "3   5070                           54217                          \n",
       "4 185756                         1846686                          \n",
       "5  96787                          800585                          \n",
       "6  11148                          101334                          \n",
       "  Population.Population.per.Square.Mile Miscellaneous.Land.Area\n",
       "1  738.1                                 4842.36               \n",
       "2  460.8                                 1948.54               \n",
       "3 9856.5                                   61.05               \n",
       "4  350.6                                53624.76               \n",
       "5  168.4                                57513.49               \n",
       "6  211.8                                 6422.63               "
      ]
     },
     "metadata": {},
     "output_type": "display_data"
    }
   ],
   "source": [
    "head(mydata)"
   ]
  },
  {
   "cell_type": "code",
   "execution_count": 5,
   "id": "320c90dc",
   "metadata": {},
   "outputs": [],
   "source": [
    "attach(mydata)"
   ]
  },
  {
   "cell_type": "code",
   "execution_count": 11,
   "id": "16b585cc",
   "metadata": {},
   "outputs": [],
   "source": [
    "lm.fit<-lm(Ethnicities.Black.Alone~Ethnicities.White.Alone)"
   ]
  },
  {
   "cell_type": "code",
   "execution_count": 12,
   "id": "9cc5739d",
   "metadata": {},
   "outputs": [
    {
     "data": {
      "text/plain": [
       "\n",
       "Call:\n",
       "lm(formula = Ethnicities.Black.Alone ~ Ethnicities.White.Alone)\n",
       "\n",
       "Coefficients:\n",
       "            (Intercept)  Ethnicities.White.Alone  \n",
       "                52.9521                  -0.5262  \n"
      ]
     },
     "metadata": {},
     "output_type": "display_data"
    }
   ],
   "source": [
    "lm.fit"
   ]
  },
  {
   "cell_type": "code",
   "execution_count": 13,
   "id": "4b7b4e8b",
   "metadata": {},
   "outputs": [
    {
     "data": {
      "text/plain": [
       "\n",
       "Call:\n",
       "lm(formula = Ethnicities.Black.Alone ~ Ethnicities.White.Alone)\n",
       "\n",
       "Residuals:\n",
       "    Min      1Q  Median      3Q     Max \n",
       "-37.334  -3.441  -0.462   3.302  17.253 \n",
       "\n",
       "Coefficients:\n",
       "                        Estimate Std. Error t value Pr(>|t|)    \n",
       "(Intercept)             52.95208    7.13570   7.421 1.48e-09 ***\n",
       "Ethnicities.White.Alone -0.52620    0.09018  -5.835 4.20e-07 ***\n",
       "---\n",
       "Signif. codes:  0 '***' 0.001 '**' 0.01 '*' 0.05 '.' 0.1 ' ' 1\n",
       "\n",
       "Residual standard error: 8.306 on 49 degrees of freedom\n",
       "Multiple R-squared:   0.41,\tAdjusted R-squared:  0.3979 \n",
       "F-statistic: 34.05 on 1 and 49 DF,  p-value: 4.199e-07\n"
      ]
     },
     "metadata": {},
     "output_type": "display_data"
    }
   ],
   "source": [
    "summary(lm.fit)"
   ]
  },
  {
   "cell_type": "code",
   "execution_count": 14,
   "id": "17378280",
   "metadata": {},
   "outputs": [
    {
     "data": {
      "text/html": [
       "<ol class=list-inline>\n",
       "\t<li>'coefficients'</li>\n",
       "\t<li>'residuals'</li>\n",
       "\t<li>'effects'</li>\n",
       "\t<li>'rank'</li>\n",
       "\t<li>'fitted.values'</li>\n",
       "\t<li>'assign'</li>\n",
       "\t<li>'qr'</li>\n",
       "\t<li>'df.residual'</li>\n",
       "\t<li>'xlevels'</li>\n",
       "\t<li>'call'</li>\n",
       "\t<li>'terms'</li>\n",
       "\t<li>'model'</li>\n",
       "</ol>\n"
      ],
      "text/latex": [
       "\\begin{enumerate*}\n",
       "\\item 'coefficients'\n",
       "\\item 'residuals'\n",
       "\\item 'effects'\n",
       "\\item 'rank'\n",
       "\\item 'fitted.values'\n",
       "\\item 'assign'\n",
       "\\item 'qr'\n",
       "\\item 'df.residual'\n",
       "\\item 'xlevels'\n",
       "\\item 'call'\n",
       "\\item 'terms'\n",
       "\\item 'model'\n",
       "\\end{enumerate*}\n"
      ],
      "text/markdown": [
       "1. 'coefficients'\n",
       "2. 'residuals'\n",
       "3. 'effects'\n",
       "4. 'rank'\n",
       "5. 'fitted.values'\n",
       "6. 'assign'\n",
       "7. 'qr'\n",
       "8. 'df.residual'\n",
       "9. 'xlevels'\n",
       "10. 'call'\n",
       "11. 'terms'\n",
       "12. 'model'\n",
       "\n",
       "\n"
      ],
      "text/plain": [
       " [1] \"coefficients\"  \"residuals\"     \"effects\"       \"rank\"         \n",
       " [5] \"fitted.values\" \"assign\"        \"qr\"            \"df.residual\"  \n",
       " [9] \"xlevels\"       \"call\"          \"terms\"         \"model\"        "
      ]
     },
     "metadata": {},
     "output_type": "display_data"
    }
   ],
   "source": [
    "names(lm.fit)"
   ]
  },
  {
   "cell_type": "code",
   "execution_count": 15,
   "id": "5e6f4e9b",
   "metadata": {},
   "outputs": [
    {
     "data": {
      "text/html": [
       "<dl class=dl-horizontal>\n",
       "\t<dt>(Intercept)</dt>\n",
       "\t\t<dd>52.9520756333349</dd>\n",
       "\t<dt>Ethnicities.White.Alone</dt>\n",
       "\t\t<dd>-0.526197628356167</dd>\n",
       "</dl>\n"
      ],
      "text/latex": [
       "\\begin{description*}\n",
       "\\item[(Intercept)] 52.9520756333349\n",
       "\\item[Ethnicities.White.Alone] -0.526197628356167\n",
       "\\end{description*}\n"
      ],
      "text/markdown": [
       "(Intercept)\n",
       ":   52.9520756333349Ethnicities.White.Alone\n",
       ":   -0.526197628356167\n",
       "\n"
      ],
      "text/plain": [
       "            (Intercept) Ethnicities.White.Alone \n",
       "             52.9520756              -0.5261976 "
      ]
     },
     "metadata": {},
     "output_type": "display_data"
    }
   ],
   "source": [
    "coef(lm.fit)"
   ]
  },
  {
   "cell_type": "code",
   "execution_count": 16,
   "id": "f62ed255",
   "metadata": {},
   "outputs": [
    {
     "data": {
      "text/html": [
       "<table>\n",
       "<thead><tr><th></th><th scope=col>2.5 %</th><th scope=col>97.5 %</th></tr></thead>\n",
       "<tbody>\n",
       "\t<tr><th scope=row>(Intercept)</th><td>38.6123553</td><td>67.2917959</td></tr>\n",
       "\t<tr><th scope=row>Ethnicities.White.Alone</th><td>-0.7074225</td><td>-0.3449728</td></tr>\n",
       "</tbody>\n",
       "</table>\n"
      ],
      "text/latex": [
       "\\begin{tabular}{r|ll}\n",
       "  & 2.5 \\% & 97.5 \\%\\\\\n",
       "\\hline\n",
       "\t(Intercept) & 38.6123553 & 67.2917959\\\\\n",
       "\tEthnicities.White.Alone & -0.7074225 & -0.3449728\\\\\n",
       "\\end{tabular}\n"
      ],
      "text/markdown": [
       "\n",
       "| <!--/--> | 2.5 % | 97.5 % | \n",
       "|---|---|\n",
       "| (Intercept) | 38.6123553 | 67.2917959 | \n",
       "| Ethnicities.White.Alone | -0.7074225 | -0.3449728 | \n",
       "\n",
       "\n"
      ],
      "text/plain": [
       "                        2.5 %      97.5 %    \n",
       "(Intercept)             38.6123553 67.2917959\n",
       "Ethnicities.White.Alone -0.7074225 -0.3449728"
      ]
     },
     "metadata": {},
     "output_type": "display_data"
    }
   ],
   "source": [
    "confint(lm.fit)"
   ]
  },
  {
   "cell_type": "code",
   "execution_count": 18,
   "id": "5f321f8d",
   "metadata": {},
   "outputs": [
    {
     "data": {
      "text/html": [
       "<table>\n",
       "<thead><tr><th></th><th scope=col>fit</th><th scope=col>lwr</th><th scope=col>upr</th></tr></thead>\n",
       "<tbody>\n",
       "\t<tr><th scope=row>1</th><td>50.32109</td><td>36.87456</td><td>63.76761</td></tr>\n",
       "\t<tr><th scope=row>2</th><td>47.69010</td><td>35.13492</td><td>60.24528</td></tr>\n",
       "\t<tr><th scope=row>3</th><td>45.05911</td><td>33.39300</td><td>56.72522</td></tr>\n",
       "</tbody>\n",
       "</table>\n"
      ],
      "text/latex": [
       "\\begin{tabular}{r|lll}\n",
       "  & fit & lwr & upr\\\\\n",
       "\\hline\n",
       "\t1 & 50.32109 & 36.87456 & 63.76761\\\\\n",
       "\t2 & 47.69010 & 35.13492 & 60.24528\\\\\n",
       "\t3 & 45.05911 & 33.39300 & 56.72522\\\\\n",
       "\\end{tabular}\n"
      ],
      "text/markdown": [
       "\n",
       "| <!--/--> | fit | lwr | upr | \n",
       "|---|---|---|\n",
       "| 1 | 50.32109 | 36.87456 | 63.76761 | \n",
       "| 2 | 47.69010 | 35.13492 | 60.24528 | \n",
       "| 3 | 45.05911 | 33.39300 | 56.72522 | \n",
       "\n",
       "\n"
      ],
      "text/plain": [
       "  fit      lwr      upr     \n",
       "1 50.32109 36.87456 63.76761\n",
       "2 47.69010 35.13492 60.24528\n",
       "3 45.05911 33.39300 56.72522"
      ]
     },
     "metadata": {},
     "output_type": "display_data"
    }
   ],
   "source": [
    "predict(lm.fit,data.frame(Ethnicities.White.Alone = (c(5,10,15))),\n",
    "interval=\"confidence\")"
   ]
  },
  {
   "cell_type": "code",
   "execution_count": 19,
   "id": "05aea632",
   "metadata": {},
   "outputs": [
    {
     "data": {
      "text/html": [
       "<table>\n",
       "<thead><tr><th></th><th scope=col>fit</th><th scope=col>lwr</th><th scope=col>upr</th></tr></thead>\n",
       "<tbody>\n",
       "\t<tr><th scope=row>1</th><td>50.32109</td><td>28.88765</td><td>71.75452</td></tr>\n",
       "\t<tr><th scope=row>2</th><td>47.69010</td><td>26.80432</td><td>68.57587</td></tr>\n",
       "\t<tr><th scope=row>3</th><td>45.05911</td><td>24.69539</td><td>65.42283</td></tr>\n",
       "</tbody>\n",
       "</table>\n"
      ],
      "text/latex": [
       "\\begin{tabular}{r|lll}\n",
       "  & fit & lwr & upr\\\\\n",
       "\\hline\n",
       "\t1 & 50.32109 & 28.88765 & 71.75452\\\\\n",
       "\t2 & 47.69010 & 26.80432 & 68.57587\\\\\n",
       "\t3 & 45.05911 & 24.69539 & 65.42283\\\\\n",
       "\\end{tabular}\n"
      ],
      "text/markdown": [
       "\n",
       "| <!--/--> | fit | lwr | upr | \n",
       "|---|---|---|\n",
       "| 1 | 50.32109 | 28.88765 | 71.75452 | \n",
       "| 2 | 47.69010 | 26.80432 | 68.57587 | \n",
       "| 3 | 45.05911 | 24.69539 | 65.42283 | \n",
       "\n",
       "\n"
      ],
      "text/plain": [
       "  fit      lwr      upr     \n",
       "1 50.32109 28.88765 71.75452\n",
       "2 47.69010 26.80432 68.57587\n",
       "3 45.05911 24.69539 65.42283"
      ]
     },
     "metadata": {},
     "output_type": "display_data"
    }
   ],
   "source": [
    "predict(lm.fit,data.frame(Ethnicities.White.Alone = (c(5,10,15))),\n",
    "interval=\"prediction\")"
   ]
  },
  {
   "cell_type": "code",
   "execution_count": 24,
   "id": "31a3125d",
   "metadata": {},
   "outputs": [
    {
     "data": {
      "image/png": "[encoded data removed]",
      "text/plain": [
       "plot without title"
      ]
     },
     "metadata": {},
     "output_type": "display_data"
    }
   ],
   "source": [
    "plot(Ethnicities.Black.Alone~Ethnicities.White.Alone,col=\"red\",pch=\"+\")\n",
    "abline(lm.fit,lwd=3,col=\"orange\")"
   ]
  },
  {
   "cell_type": "code",
   "execution_count": 25,
   "id": "3017f692",
   "metadata": {},
   "outputs": [
    {
     "data": {
      "image/png": "[encoded data removed]",
      "text/plain": [
       "Plot with title \"\""
      ]
     },
     "metadata": {},
     "output_type": "display_data"
    }
   ],
   "source": [
    "par(mfrow=c(2,2))\n",
    "plot(lm.fit)"
   ]
  },
  {
   "cell_type": "code",
   "execution_count": 29,
   "id": "6a33ae82",
   "metadata": {},
   "outputs": [
    {
     "data": {
      "image/png": "[encoded data removed]",
      "text/plain": [
       "plot without title"
      ]
     },
     "metadata": {},
     "output_type": "display_data"
    },
    {
     "data": {
      "image/png": "[encoded data removed]",
      "text/plain": [
       "plot without title"
      ]
     },
     "metadata": {},
     "output_type": "display_data"
    }
   ],
   "source": [
    "plot(predict(lm.fit), residuals(lm.fit))\n",
    "plot(predict(lm.fit), rstudent(lm.fit))"
   ]
  },
  {
   "cell_type": "code",
   "execution_count": 30,
   "id": "0d6f02c6",
   "metadata": {},
   "outputs": [
    {
     "data": {
      "text/html": [
       "<strong>6:</strong> 6"
      ],
      "text/latex": [
       "\\textbf{6:} 6"
      ],
      "text/markdown": [
       "**6:** 6"
      ],
      "text/plain": [
       "6 \n",
       "6 "
      ]
     },
     "metadata": {},
     "output_type": "display_data"
    },
    {
     "data": {
      "image/png": "[encoded data removed]",
      "text/plain": [
       "plot without title"
      ]
     },
     "metadata": {},
     "output_type": "display_data"
    }
   ],
   "source": [
    "plot(hatvalues(lm.fit))\n",
    "which.max(hatvalues(lm.fit))"
   ]
  },
  {
   "cell_type": "code",
   "execution_count": 35,
   "id": "35328bb3",
   "metadata": {},
   "outputs": [
    {
     "data": {
      "text/plain": [
       "\n",
       "Call:\n",
       "lm(formula = Employment.Firms.Total ~ Employment.Firms.Men.Owned + \n",
       "    Employment.Firms.Women.Owned)\n",
       "\n",
       "Residuals:\n",
       "   Min     1Q Median     3Q    Max \n",
       "-48926  -7305   -757   8550  33257 \n",
       "\n",
       "Coefficients:\n",
       "                              Estimate Std. Error t value Pr(>|t|)    \n",
       "(Intercept)                  1.009e+04  2.666e+03   3.786 0.000426 ***\n",
       "Employment.Firms.Men.Owned   9.774e-01  5.552e-02  17.605  < 2e-16 ***\n",
       "Employment.Firms.Women.Owned 1.287e+00  7.925e-02  16.233  < 2e-16 ***\n",
       "---\n",
       "Signif. codes:  0 '***' 0.001 '**' 0.01 '*' 0.05 '.' 0.1 ' ' 1\n",
       "\n",
       "Residual standard error: 13940 on 48 degrees of freedom\n",
       "Multiple R-squared:  0.9996,\tAdjusted R-squared:  0.9996 \n",
       "F-statistic: 5.625e+04 on 2 and 48 DF,  p-value: < 2.2e-16\n"
      ]
     },
     "metadata": {},
     "output_type": "display_data"
    }
   ],
   "source": [
    "lm.fit<-lm(Employment.Firms.Total~Employment.Firms.Men.Owned+Employment.Firms.Women.Owned)\n",
    "summary(lm.fit)"
   ]
  },
  {
   "cell_type": "code",
   "execution_count": 34,
   "id": "38ff6552",
   "metadata": {},
   "outputs": [
    {
     "data": {
      "text/plain": [
       "\n",
       "Call:\n",
       "lm(formula = Employment.Firms.Total ~ ., data = mydata)\n",
       "\n",
       "Residuals:\n",
       "ALL 51 residuals are 0: no residual degrees of freedom!\n",
       "\n",
       "Coefficients: (46 not defined because of singularities)\n",
       "                                                             Estimate\n",
       "(Intercept)                                                    374153\n",
       "StateAlaska                                                   -306121\n",
       "StateArizona                                                   125773\n",
       "StateArkansas                                                 -142194\n",
       "StateCalifornia                                               3174296\n",
       "StateColorado                                                  173199\n",
       "StateConnecticut                                               -47460\n",
       "StateDelaware                                                 -300735\n",
       "StateDistrict of Columbia                                     -310745\n",
       "StateFlorida                                                  1726034\n",
       "StateGeorgia                                                   555711\n",
       "StateHawaii                                                   -255699\n",
       "StateIdaho                                                    -227511\n",
       "StateIllinois                                                  760864\n",
       "StateIndiana                                                   104906\n",
       "StateIowa                                                     -115032\n",
       "StateKansas                                                   -135035\n",
       "StateKentucky                                                  -42607\n",
       "StateLouisiana                                                  40138\n",
       "StateMaine                                                    -234583\n",
       "StateMaryland                                                  157800\n",
       "StateMassachusetts                                             233511\n",
       "StateMichigan                                                  459934\n",
       "StateMinnesota                                                 115341\n",
       "StateMississippi                                              -138699\n",
       "StateMissouri                                                  117453\n",
       "StateMontana                                                  -261734\n",
       "StateNebraska                                                 -210064\n",
       "StateNevada                                                   -146997\n",
       "StateNew Hampshire                                            -242515\n",
       "StateNew Jersey                                                417935\n",
       "StateNew Mexico                                               -222790\n",
       "StateNew York                                                 1634835\n",
       "StateNorth Carolina                                            431832\n",
       "StateNorth Dakota                                             -305883\n",
       "StateOhio                                                      530661\n",
       "StateOklahoma                                                  -46924\n",
       "StateOregon                                                    -34848\n",
       "StatePennsylvania                                              601300\n",
       "StateRhode Island                                             -279511\n",
       "StateSouth Carolina                                             -6427\n",
       "StateSouth Dakota                                             -292839\n",
       "StateTennessee                                                 176300\n",
       "StateTexas                                                    1982595\n",
       "StateUtah                                                     -122734\n",
       "StateVermont                                                  -298326\n",
       "StateVirginia                                                  279040\n",
       "StateWashington                                                167369\n",
       "StateWest Virginia                                            -259718\n",
       "StateWisconsin                                                  58827\n",
       "StateWyoming                                                  -311726\n",
       "Population.Population.Percent.Change                               NA\n",
       "Population.2014.Population                                         NA\n",
       "Population.2010.Population                                         NA\n",
       "Age.Percent.Under.5.Years                                          NA\n",
       "Age.Percent.Under.18.Years                                         NA\n",
       "Age.Percent.65.and.Older                                           NA\n",
       "Miscellaneous.Percent.Female                                       NA\n",
       "Ethnicities.White.Alone                                            NA\n",
       "Ethnicities.Black.Alone                                            NA\n",
       "Ethnicities.American.Indian.and.Alaska.Native.Alone                NA\n",
       "Ethnicities.Asian.Alone                                            NA\n",
       "Ethnicities.Native.Hawaiian.and.Other.Pacific.Islander.Alone       NA\n",
       "Ethnicities.Two.or.More.Races                                      NA\n",
       "Ethnicities.Hispanic.or.Latino                                     NA\n",
       "Ethnicities.White.Alone..not.Hispanic.or.Latino                    NA\n",
       "Miscellaneous.Veterans                                             NA\n",
       "Miscellaneous.Foreign.Born                                         NA\n",
       "Housing.Housing.Units                                              NA\n",
       "Housing.Homeownership.Rate                                         NA\n",
       "Housing.Median.Value.of.Owner.Occupied.Units                       NA\n",
       "Housing.Households                                                 NA\n",
       "Housing.Persons.per.Household                                      NA\n",
       "Miscellaneous.Living.in.Same.House..1.Years                        NA\n",
       "Miscellaneous.Language.Other.than.English.at.Home                  NA\n",
       "Housing.Households.with.a.computer                                 NA\n",
       "Housing.Households.with.a.Internet                                 NA\n",
       "Education.High.School.or.Higher                                    NA\n",
       "Education.Bachelor.s.Degree.or.Higher                              NA\n",
       "Miscellaneous.Percent.Under.66.Years.With.a.Disability             NA\n",
       "Miscellaneous.Percent.Under.65.Years.Witout.Health.insurance       NA\n",
       "Sales.Accommodation.and.Food.Services.Sales                        NA\n",
       "Miscellaneous.Manufacturers.Shipments                              NA\n",
       "Sales.Retail.Sales                                                 NA\n",
       "Miscellaneous.Mean.Travel.Time.to.Work                             NA\n",
       "Income.Median.Houseold.Income                                      NA\n",
       "Income.Per.Capita.Income                                           NA\n",
       "Income.Persons.Below.Poverty.Level                                 NA\n",
       "Employment.Nonemployer.Establishments                              NA\n",
       "Employment.Firms.Men.Owned                                         NA\n",
       "Employment.Firms.Women.Owned                                       NA\n",
       "Employment.Firms.Minority.Owned                                    NA\n",
       "Employment.Firms.Nonminority.Owned                                 NA\n",
       "Employment.Firms.Veteran.Owned                                     NA\n",
       "Employment.Firms.Nonveteran.Owned                                  NA\n",
       "Population.Population.per.Square.Mile                              NA\n",
       "Miscellaneous.Land.Area                                            NA\n",
       "                                                             Std. Error t value\n",
       "(Intercept)                                                          NA      NA\n",
       "StateAlaska                                                          NA      NA\n",
       "StateArizona                                                         NA      NA\n",
       "StateArkansas                                                        NA      NA\n",
       "StateCalifornia                                                      NA      NA\n",
       "StateColorado                                                        NA      NA\n",
       "StateConnecticut                                                     NA      NA\n",
       "StateDelaware                                                        NA      NA\n",
       "StateDistrict of Columbia                                            NA      NA\n",
       "StateFlorida                                                         NA      NA\n",
       "StateGeorgia                                                         NA      NA\n",
       "StateHawaii                                                          NA      NA\n",
       "StateIdaho                                                           NA      NA\n",
       "StateIllinois                                                        NA      NA\n",
       "StateIndiana                                                         NA      NA\n",
       "StateIowa                                                            NA      NA\n",
       "StateKansas                                                          NA      NA\n",
       "StateKentucky                                                        NA      NA\n",
       "StateLouisiana                                                       NA      NA\n",
       "StateMaine                                                           NA      NA\n",
       "StateMaryland                                                        NA      NA\n",
       "StateMassachusetts                                                   NA      NA\n",
       "StateMichigan                                                        NA      NA\n",
       "StateMinnesota                                                       NA      NA\n",
       "StateMississippi                                                     NA      NA\n",
       "StateMissouri                                                        NA      NA\n",
       "StateMontana                                                         NA      NA\n",
       "StateNebraska                                                        NA      NA\n",
       "StateNevada                                                          NA      NA\n",
       "StateNew Hampshire                                                   NA      NA\n",
       "StateNew Jersey                                                      NA      NA\n",
       "StateNew Mexico                                                      NA      NA\n",
       "StateNew York                                                        NA      NA\n",
       "StateNorth Carolina                                                  NA      NA\n",
       "StateNorth Dakota                                                    NA      NA\n",
       "StateOhio                                                            NA      NA\n",
       "StateOklahoma                                                        NA      NA\n",
       "StateOregon                                                          NA      NA\n",
       "StatePennsylvania                                                    NA      NA\n",
       "StateRhode Island                                                    NA      NA\n",
       "StateSouth Carolina                                                  NA      NA\n",
       "StateSouth Dakota                                                    NA      NA\n",
       "StateTennessee                                                       NA      NA\n",
       "StateTexas                                                           NA      NA\n",
       "StateUtah                                                            NA      NA\n",
       "StateVermont                                                         NA      NA\n",
       "StateVirginia                                                        NA      NA\n",
       "StateWashington                                                      NA      NA\n",
       "StateWest Virginia                                                   NA      NA\n",
       "StateWisconsin                                                       NA      NA\n",
       "StateWyoming                                                         NA      NA\n",
       "Population.Population.Percent.Change                                 NA      NA\n",
       "Population.2014.Population                                           NA      NA\n",
       "Population.2010.Population                                           NA      NA\n",
       "Age.Percent.Under.5.Years                                            NA      NA\n",
       "Age.Percent.Under.18.Years                                           NA      NA\n",
       "Age.Percent.65.and.Older                                             NA      NA\n",
       "Miscellaneous.Percent.Female                                         NA      NA\n",
       "Ethnicities.White.Alone                                              NA      NA\n",
       "Ethnicities.Black.Alone                                              NA      NA\n",
       "Ethnicities.American.Indian.and.Alaska.Native.Alone                  NA      NA\n",
       "Ethnicities.Asian.Alone                                              NA      NA\n",
       "Ethnicities.Native.Hawaiian.and.Other.Pacific.Islander.Alone         NA      NA\n",
       "Ethnicities.Two.or.More.Races                                        NA      NA\n",
       "Ethnicities.Hispanic.or.Latino                                       NA      NA\n",
       "Ethnicities.White.Alone..not.Hispanic.or.Latino                      NA      NA\n",
       "Miscellaneous.Veterans                                               NA      NA\n",
       "Miscellaneous.Foreign.Born                                           NA      NA\n",
       "Housing.Housing.Units                                                NA      NA\n",
       "Housing.Homeownership.Rate                                           NA      NA\n",
       "Housing.Median.Value.of.Owner.Occupied.Units                         NA      NA\n",
       "Housing.Households                                                   NA      NA\n",
       "Housing.Persons.per.Household                                        NA      NA\n",
       "Miscellaneous.Living.in.Same.House..1.Years                          NA      NA\n",
       "Miscellaneous.Language.Other.than.English.at.Home                    NA      NA\n",
       "Housing.Households.with.a.computer                                   NA      NA\n",
       "Housing.Households.with.a.Internet                                   NA      NA\n",
       "Education.High.School.or.Higher                                      NA      NA\n",
       "Education.Bachelor.s.Degree.or.Higher                                NA      NA\n",
       "Miscellaneous.Percent.Under.66.Years.With.a.Disability               NA      NA\n",
       "Miscellaneous.Percent.Under.65.Years.Witout.Health.insurance         NA      NA\n",
       "Sales.Accommodation.and.Food.Services.Sales                          NA      NA\n",
       "Miscellaneous.Manufacturers.Shipments                                NA      NA\n",
       "Sales.Retail.Sales                                                   NA      NA\n",
       "Miscellaneous.Mean.Travel.Time.to.Work                               NA      NA\n",
       "Income.Median.Houseold.Income                                        NA      NA\n",
       "Income.Per.Capita.Income                                             NA      NA\n",
       "Income.Persons.Below.Poverty.Level                                   NA      NA\n",
       "Employment.Nonemployer.Establishments                                NA      NA\n",
       "Employment.Firms.Men.Owned                                           NA      NA\n",
       "Employment.Firms.Women.Owned                                         NA      NA\n",
       "Employment.Firms.Minority.Owned                                      NA      NA\n",
       "Employment.Firms.Nonminority.Owned                                   NA      NA\n",
       "Employment.Firms.Veteran.Owned                                       NA      NA\n",
       "Employment.Firms.Nonveteran.Owned                                    NA      NA\n",
       "Population.Population.per.Square.Mile                                NA      NA\n",
       "Miscellaneous.Land.Area                                              NA      NA\n",
       "                                                             Pr(>|t|)\n",
       "(Intercept)                                                        NA\n",
       "StateAlaska                                                        NA\n",
       "StateArizona                                                       NA\n",
       "StateArkansas                                                      NA\n",
       "StateCalifornia                                                    NA\n",
       "StateColorado                                                      NA\n",
       "StateConnecticut                                                   NA\n",
       "StateDelaware                                                      NA\n",
       "StateDistrict of Columbia                                          NA\n",
       "StateFlorida                                                       NA\n",
       "StateGeorgia                                                       NA\n",
       "StateHawaii                                                        NA\n",
       "StateIdaho                                                         NA\n",
       "StateIllinois                                                      NA\n",
       "StateIndiana                                                       NA\n",
       "StateIowa                                                          NA\n",
       "StateKansas                                                        NA\n",
       "StateKentucky                                                      NA\n",
       "StateLouisiana                                                     NA\n",
       "StateMaine                                                         NA\n",
       "StateMaryland                                                      NA\n",
       "StateMassachusetts                                                 NA\n",
       "StateMichigan                                                      NA\n",
       "StateMinnesota                                                     NA\n",
       "StateMississippi                                                   NA\n",
       "StateMissouri                                                      NA\n",
       "StateMontana                                                       NA\n",
       "StateNebraska                                                      NA\n",
       "StateNevada                                                        NA\n",
       "StateNew Hampshire                                                 NA\n",
       "StateNew Jersey                                                    NA\n",
       "StateNew Mexico                                                    NA\n",
       "StateNew York                                                      NA\n",
       "StateNorth Carolina                                                NA\n",
       "StateNorth Dakota                                                  NA\n",
       "StateOhio                                                          NA\n",
       "StateOklahoma                                                      NA\n",
       "StateOregon                                                        NA\n",
       "StatePennsylvania                                                  NA\n",
       "StateRhode Island                                                  NA\n",
       "StateSouth Carolina                                                NA\n",
       "StateSouth Dakota                                                  NA\n",
       "StateTennessee                                                     NA\n",
       "StateTexas                                                         NA\n",
       "StateUtah                                                          NA\n",
       "StateVermont                                                       NA\n",
       "StateVirginia                                                      NA\n",
       "StateWashington                                                    NA\n",
       "StateWest Virginia                                                 NA\n",
       "StateWisconsin                                                     NA\n",
       "StateWyoming                                                       NA\n",
       "Population.Population.Percent.Change                               NA\n",
       "Population.2014.Population                                         NA\n",
       "Population.2010.Population                                         NA\n",
       "Age.Percent.Under.5.Years                                          NA\n",
       "Age.Percent.Under.18.Years                                         NA\n",
       "Age.Percent.65.and.Older                                           NA\n",
       "Miscellaneous.Percent.Female                                       NA\n",
       "Ethnicities.White.Alone                                            NA\n",
       "Ethnicities.Black.Alone                                            NA\n",
       "Ethnicities.American.Indian.and.Alaska.Native.Alone                NA\n",
       "Ethnicities.Asian.Alone                                            NA\n",
       "Ethnicities.Native.Hawaiian.and.Other.Pacific.Islander.Alone       NA\n",
       "Ethnicities.Two.or.More.Races                                      NA\n",
       "Ethnicities.Hispanic.or.Latino                                     NA\n",
       "Ethnicities.White.Alone..not.Hispanic.or.Latino                    NA\n",
       "Miscellaneous.Veterans                                             NA\n",
       "Miscellaneous.Foreign.Born                                         NA\n",
       "Housing.Housing.Units                                              NA\n",
       "Housing.Homeownership.Rate                                         NA\n",
       "Housing.Median.Value.of.Owner.Occupied.Units                       NA\n",
       "Housing.Households                                                 NA\n",
       "Housing.Persons.per.Household                                      NA\n",
       "Miscellaneous.Living.in.Same.House..1.Years                        NA\n",
       "Miscellaneous.Language.Other.than.English.at.Home                  NA\n",
       "Housing.Households.with.a.computer                                 NA\n",
       "Housing.Households.with.a.Internet                                 NA\n",
       "Education.High.School.or.Higher                                    NA\n",
       "Education.Bachelor.s.Degree.or.Higher                              NA\n",
       "Miscellaneous.Percent.Under.66.Years.With.a.Disability             NA\n",
       "Miscellaneous.Percent.Under.65.Years.Witout.Health.insurance       NA\n",
       "Sales.Accommodation.and.Food.Services.Sales                        NA\n",
       "Miscellaneous.Manufacturers.Shipments                              NA\n",
       "Sales.Retail.Sales                                                 NA\n",
       "Miscellaneous.Mean.Travel.Time.to.Work                             NA\n",
       "Income.Median.Houseold.Income                                      NA\n",
       "Income.Per.Capita.Income                                           NA\n",
       "Income.Persons.Below.Poverty.Level                                 NA\n",
       "Employment.Nonemployer.Establishments                              NA\n",
       "Employment.Firms.Men.Owned                                         NA\n",
       "Employment.Firms.Women.Owned                                       NA\n",
       "Employment.Firms.Minority.Owned                                    NA\n",
       "Employment.Firms.Nonminority.Owned                                 NA\n",
       "Employment.Firms.Veteran.Owned                                     NA\n",
       "Employment.Firms.Nonveteran.Owned                                  NA\n",
       "Population.Population.per.Square.Mile                              NA\n",
       "Miscellaneous.Land.Area                                            NA\n",
       "\n",
       "Residual standard error: NaN on 0 degrees of freedom\n",
       "Multiple R-squared:      1,\tAdjusted R-squared:    NaN \n",
       "F-statistic:   NaN on 50 and 0 DF,  p-value: NA\n"
      ]
     },
     "metadata": {},
     "output_type": "display_data"
    }
   ],
   "source": [
    "lm.fit<-lm(Employment.Firms.Total ~ .,data = mydata)\n",
    "summary(lm.fit)"
   ]
  },
  {
   "cell_type": "code",
   "execution_count": 36,
   "id": "a0104676",
   "metadata": {},
   "outputs": [
    {
     "ename": "ERROR",
     "evalue": "Error in vif(lm.fit): could not find function \"vif\"\n",
     "output_type": "error",
     "traceback": [
      "Error in vif(lm.fit): could not find function \"vif\"\nTraceback:\n"
     ]
    }
   ],
   "source": [
    "vif(lm.fit)"
   ]
  },
  {
   "cell_type": "code",
   "execution_count": 37,
   "id": "4e94c43e",
   "metadata": {},
   "outputs": [
    {
     "data": {
      "text/plain": [
       "\n",
       "Call:\n",
       "lm(formula = Employment.Firms.Total ~ . - State, data = mydata)\n",
       "\n",
       "Residuals:\n",
       "         1          2          3          4          5          6          7 \n",
       "  -26.0078   317.0603   -20.4744    12.2037    97.7317   -26.0311   535.2292 \n",
       "         8          9         10         11         12         13         14 \n",
       "  -11.2818  -534.7150   343.7534    -3.7410   494.1034  -255.6123    70.4675 \n",
       "        15         16         17         18         19         20         21 \n",
       " -185.4276  -376.6482    38.4996    95.6745   105.7109   229.7585  -297.1184 \n",
       "        22         23         24         25         26         27         28 \n",
       "  -92.5192   328.9104  -348.3972   -90.0719   -88.5439  -351.4428   285.7213 \n",
       "        29         30         31         32         33         34         35 \n",
       "   94.5325  -335.4267 -1088.1075   116.3371    26.4119  -505.8867  -102.5548 \n",
       "        36         37         38         39         40         41         42 \n",
       "  262.2801    -0.4946   405.2805   -18.7916   149.8766   162.5490   473.1018 \n",
       "        43         44         45         46         47         48         49 \n",
       "   -3.1363   -19.1526  -136.8103   -56.2510   151.2990   161.7546   410.9289 \n",
       "        50         51 \n",
       "  -38.9752  -355.5564 \n",
       "\n",
       "Coefficients:\n",
       "                                                               Estimate\n",
       "(Intercept)                                                   3.285e+05\n",
       "Population.Population.Percent.Change                         -4.195e+02\n",
       "Population.2014.Population                                    1.027e-02\n",
       "Population.2010.Population                                   -1.231e-02\n",
       "Age.Percent.Under.5.Years                                     8.325e+03\n",
       "Age.Percent.Under.18.Years                                   -3.105e+03\n",
       "Age.Percent.65.and.Older                                      1.782e+03\n",
       "Miscellaneous.Percent.Female                                  1.519e+03\n",
       "Ethnicities.White.Alone                                      -4.983e+03\n",
       "Ethnicities.Black.Alone                                      -3.183e+03\n",
       "Ethnicities.American.Indian.and.Alaska.Native.Alone          -3.349e+03\n",
       "Ethnicities.Asian.Alone                                      -1.496e+03\n",
       "Ethnicities.Native.Hawaiian.and.Other.Pacific.Islander.Alone -8.398e+03\n",
       "Ethnicities.Two.or.More.Races                                -4.213e+03\n",
       "Ethnicities.Hispanic.or.Latino                                1.522e+03\n",
       "Ethnicities.White.Alone..not.Hispanic.or.Latino               1.740e+03\n",
       "Miscellaneous.Veterans                                       -7.086e-03\n",
       "Miscellaneous.Foreign.Born                                   -1.971e+03\n",
       "Housing.Housing.Units                                        -1.322e-02\n",
       "Housing.Homeownership.Rate                                   -3.471e+02\n",
       "Housing.Median.Value.of.Owner.Occupied.Units                 -2.648e-02\n",
       "Housing.Households                                            1.641e-02\n",
       "Housing.Persons.per.Household                                 3.348e+04\n",
       "Miscellaneous.Living.in.Same.House..1.Years                  -1.921e+03\n",
       "Miscellaneous.Language.Other.than.English.at.Home             7.666e+02\n",
       "Housing.Households.with.a.computer                            4.411e+01\n",
       "Housing.Households.with.a.Internet                           -1.087e+02\n",
       "Education.High.School.or.Higher                               3.313e+02\n",
       "Education.Bachelor.s.Degree.or.Higher                        -2.582e+02\n",
       "Miscellaneous.Percent.Under.66.Years.With.a.Disability       -6.294e+02\n",
       "Miscellaneous.Percent.Under.65.Years.Witout.Health.insurance  2.990e+01\n",
       "Sales.Accommodation.and.Food.Services.Sales                   8.740e-05\n",
       "Miscellaneous.Manufacturers.Shipments                        -1.332e-05\n",
       "Sales.Retail.Sales                                           -1.116e-04\n",
       "Miscellaneous.Mean.Travel.Time.to.Work                       -4.390e+01\n",
       "Income.Median.Houseold.Income                                 1.321e-01\n",
       "Income.Per.Capita.Income                                      4.917e-02\n",
       "Income.Persons.Below.Poverty.Level                            1.271e+02\n",
       "Employment.Nonemployer.Establishments                        -3.620e-02\n",
       "Employment.Firms.Men.Owned                                   -3.179e-01\n",
       "Employment.Firms.Women.Owned                                 -4.004e-01\n",
       "Employment.Firms.Minority.Owned                               4.248e-01\n",
       "Employment.Firms.Nonminority.Owned                            4.490e-01\n",
       "Employment.Firms.Veteran.Owned                                1.202e+00\n",
       "Employment.Firms.Nonveteran.Owned                             9.669e-01\n",
       "Population.Population.per.Square.Mile                        -8.529e-02\n",
       "Miscellaneous.Land.Area                                      -1.050e-02\n",
       "                                                             Std. Error t value\n",
       "(Intercept)                                                   1.368e+06   0.240\n",
       "Population.Population.Percent.Change                          2.419e+02  -1.735\n",
       "Population.2014.Population                                    4.300e-03   2.389\n",
       "Population.2010.Population                                    5.843e-03  -2.107\n",
       "Age.Percent.Under.5.Years                                     6.508e+03   1.279\n",
       "Age.Percent.Under.18.Years                                    3.066e+03  -1.013\n",
       "Age.Percent.65.and.Older                                      1.022e+03   1.744\n",
       "Miscellaneous.Percent.Female                                  1.862e+03   0.816\n",
       "Ethnicities.White.Alone                                       1.249e+04  -0.399\n",
       "Ethnicities.Black.Alone                                       1.299e+04  -0.245\n",
       "Ethnicities.American.Indian.and.Alaska.Native.Alone           1.286e+04  -0.260\n",
       "Ethnicities.Asian.Alone                                       1.258e+04  -0.119\n",
       "Ethnicities.Native.Hawaiian.and.Other.Pacific.Islander.Alone  1.638e+04  -0.513\n",
       "Ethnicities.Two.or.More.Races                                 1.267e+04  -0.333\n",
       "Ethnicities.Hispanic.or.Latino                                1.620e+03   0.940\n",
       "Ethnicities.White.Alone..not.Hispanic.or.Latino               1.593e+03   1.092\n",
       "Miscellaneous.Veterans                                        1.979e-02  -0.358\n",
       "Miscellaneous.Foreign.Born                                    1.069e+03  -1.843\n",
       "Housing.Housing.Units                                         1.004e-02  -1.316\n",
       "Housing.Homeownership.Rate                                    2.414e+02  -1.438\n",
       "Housing.Median.Value.of.Owner.Occupied.Units                  2.184e-02  -1.212\n",
       "Housing.Households                                            2.433e-02   0.675\n",
       "Housing.Persons.per.Household                                 3.655e+04   0.916\n",
       "Miscellaneous.Living.in.Same.House..1.Years                   1.612e+03  -1.192\n",
       "Miscellaneous.Language.Other.than.English.at.Home             6.402e+02   1.197\n",
       "Housing.Households.with.a.computer                            7.647e+02   0.058\n",
       "Housing.Households.with.a.Internet                            3.462e+02  -0.314\n",
       "Education.High.School.or.Higher                               8.704e+02   0.381\n",
       "Education.Bachelor.s.Degree.or.Higher                         3.658e+02  -0.706\n",
       "Miscellaneous.Percent.Under.66.Years.With.a.Disability        9.925e+02  -0.634\n",
       "Miscellaneous.Percent.Under.65.Years.Witout.Health.insurance  3.392e+02   0.088\n",
       "Sales.Accommodation.and.Food.Services.Sales                   1.311e-04   0.667\n",
       "Miscellaneous.Manufacturers.Shipments                         9.540e-06  -1.397\n",
       "Sales.Retail.Sales                                            1.398e-04  -0.799\n",
       "Miscellaneous.Mean.Travel.Time.to.Work                        3.769e+02  -0.116\n",
       "Income.Median.Houseold.Income                                 2.930e-01   0.451\n",
       "Income.Per.Capita.Income                                      5.284e-01   0.093\n",
       "Income.Persons.Below.Poverty.Level                            6.829e+02   0.186\n",
       "Employment.Nonemployer.Establishments                         2.326e-02  -1.556\n",
       "Employment.Firms.Men.Owned                                    1.208e-01  -2.631\n",
       "Employment.Firms.Women.Owned                                  1.338e-01  -2.993\n",
       "Employment.Firms.Minority.Owned                               4.872e-01   0.872\n",
       "Employment.Firms.Nonminority.Owned                            4.996e-01   0.899\n",
       "Employment.Firms.Veteran.Owned                                6.555e-01   1.833\n",
       "Employment.Firms.Nonveteran.Owned                             5.339e-01   1.811\n",
       "Population.Population.per.Square.Mile                         9.545e-01  -0.089\n",
       "Miscellaneous.Land.Area                                       1.692e-02  -0.620\n",
       "                                                             Pr(>|t|)  \n",
       "(Intercept)                                                    0.8220  \n",
       "Population.Population.Percent.Change                           0.1578  \n",
       "Population.2014.Population                                     0.0753 .\n",
       "Population.2010.Population                                     0.1029  \n",
       "Age.Percent.Under.5.Years                                      0.2700  \n",
       "Age.Percent.Under.18.Years                                     0.3685  \n",
       "Age.Percent.65.and.Older                                       0.1562  \n",
       "Miscellaneous.Percent.Female                                   0.4604  \n",
       "Ethnicities.White.Alone                                        0.7103  \n",
       "Ethnicities.Black.Alone                                        0.8185  \n",
       "Ethnicities.American.Indian.and.Alaska.Native.Alone            0.8074  \n",
       "Ethnicities.Asian.Alone                                        0.9111  \n",
       "Ethnicities.Native.Hawaiian.and.Other.Pacific.Islander.Alone   0.6351  \n",
       "Ethnicities.Two.or.More.Races                                  0.7561  \n",
       "Ethnicities.Hispanic.or.Latino                                 0.4006  \n",
       "Ethnicities.White.Alone..not.Hispanic.or.Latino                0.3361  \n",
       "Miscellaneous.Veterans                                         0.7384  \n",
       "Miscellaneous.Foreign.Born                                     0.1391  \n",
       "Housing.Housing.Units                                          0.2585  \n",
       "Housing.Homeownership.Rate                                     0.2239  \n",
       "Housing.Median.Value.of.Owner.Occupied.Units                   0.2922  \n",
       "Housing.Households                                             0.5370  \n",
       "Housing.Persons.per.Household                                  0.4115  \n",
       "Miscellaneous.Living.in.Same.House..1.Years                    0.2993  \n",
       "Miscellaneous.Language.Other.than.English.at.Home              0.2973  \n",
       "Housing.Households.with.a.computer                             0.9568  \n",
       "Housing.Households.with.a.Internet                             0.7692  \n",
       "Education.High.School.or.Higher                                0.7228  \n",
       "Education.Bachelor.s.Degree.or.Higher                          0.5193  \n",
       "Miscellaneous.Percent.Under.66.Years.With.a.Disability         0.5604  \n",
       "Miscellaneous.Percent.Under.65.Years.Witout.Health.insurance   0.9340  \n",
       "Sales.Accommodation.and.Food.Services.Sales                    0.5414  \n",
       "Miscellaneous.Manufacturers.Shipments                          0.2350  \n",
       "Sales.Retail.Sales                                             0.4692  \n",
       "Miscellaneous.Mean.Travel.Time.to.Work                         0.9129  \n",
       "Income.Median.Houseold.Income                                  0.6754  \n",
       "Income.Per.Capita.Income                                       0.9303  \n",
       "Income.Persons.Below.Poverty.Level                             0.8614  \n",
       "Employment.Nonemployer.Establishments                          0.1947  \n",
       "Employment.Firms.Men.Owned                                     0.0581 .\n",
       "Employment.Firms.Women.Owned                                   0.0402 *\n",
       "Employment.Firms.Minority.Owned                                0.4325  \n",
       "Employment.Firms.Nonminority.Owned                             0.4196  \n",
       "Employment.Firms.Veteran.Owned                                 0.1407  \n",
       "Employment.Firms.Nonveteran.Owned                              0.1444  \n",
       "Population.Population.per.Square.Mile                          0.9331  \n",
       "Miscellaneous.Land.Area                                        0.5686  \n",
       "---\n",
       "Signif. codes:  0 '***' 0.001 '**' 0.01 '*' 0.05 '.' 0.1 ' ' 1\n",
       "\n",
       "Residual standard error: 1046 on 4 degrees of freedom\n",
       "Multiple R-squared:      1,\tAdjusted R-squared:      1 \n",
       "F-statistic: 4.347e+05 on 46 and 4 DF,  p-value: 1.104e-11\n"
      ]
     },
     "metadata": {},
     "output_type": "display_data"
    }
   ],
   "source": [
    "lm.fit<-lm(Employment.Firms.Total ~ . - State ,data = mydata)\n",
    "summary(lm.fit)"
   ]
  },
  {
   "cell_type": "code",
   "execution_count": 39,
   "id": "2aa6705b",
   "metadata": {},
   "outputs": [
    {
     "data": {
      "text/plain": [
       "\n",
       "Call:\n",
       "lm(formula = Employment.Firms.Total ~ Population.Population.Percent.Change + \n",
       "    Population.2014.Population + Population.2010.Population + \n",
       "    Age.Percent.Under.5.Years + Age.Percent.Under.18.Years + \n",
       "    Age.Percent.65.and.Older + Miscellaneous.Percent.Female + \n",
       "    Ethnicities.White.Alone + Ethnicities.Black.Alone + Ethnicities.American.Indian.and.Alaska.Native.Alone + \n",
       "    Ethnicities.Asian.Alone + Ethnicities.Native.Hawaiian.and.Other.Pacific.Islander.Alone + \n",
       "    Ethnicities.Two.or.More.Races + Ethnicities.Hispanic.or.Latino + \n",
       "    Ethnicities.White.Alone..not.Hispanic.or.Latino + Miscellaneous.Veterans + \n",
       "    Miscellaneous.Foreign.Born + Housing.Housing.Units + Housing.Homeownership.Rate + \n",
       "    Housing.Median.Value.of.Owner.Occupied.Units + Housing.Households + \n",
       "    Housing.Persons.per.Household + Miscellaneous.Living.in.Same.House..1.Years + \n",
       "    Miscellaneous.Language.Other.than.English.at.Home + Housing.Households.with.a.computer + \n",
       "    Housing.Households.with.a.Internet + Education.High.School.or.Higher + \n",
       "    Education.Bachelor.s.Degree.or.Higher + Miscellaneous.Percent.Under.66.Years.With.a.Disability + \n",
       "    Miscellaneous.Percent.Under.65.Years.Witout.Health.insurance + \n",
       "    Sales.Accommodation.and.Food.Services.Sales + Miscellaneous.Manufacturers.Shipments + \n",
       "    Sales.Retail.Sales + Miscellaneous.Mean.Travel.Time.to.Work + \n",
       "    Income.Median.Houseold.Income + Income.Per.Capita.Income + \n",
       "    Income.Persons.Below.Poverty.Level + Employment.Nonemployer.Establishments + \n",
       "    Employment.Firms.Men.Owned + Employment.Firms.Women.Owned + \n",
       "    Employment.Firms.Minority.Owned + Employment.Firms.Nonminority.Owned + \n",
       "    Employment.Firms.Veteran.Owned + Employment.Firms.Nonveteran.Owned + \n",
       "    Population.Population.per.Square.Mile + Miscellaneous.Land.Area, \n",
       "    data = mydata)\n",
       "\n",
       "Residuals:\n",
       "         1          2          3          4          5          6          7 \n",
       "  -26.0078   317.0603   -20.4744    12.2037    97.7317   -26.0311   535.2292 \n",
       "         8          9         10         11         12         13         14 \n",
       "  -11.2818  -534.7150   343.7534    -3.7410   494.1034  -255.6123    70.4675 \n",
       "        15         16         17         18         19         20         21 \n",
       " -185.4276  -376.6482    38.4996    95.6745   105.7109   229.7585  -297.1184 \n",
       "        22         23         24         25         26         27         28 \n",
       "  -92.5192   328.9104  -348.3972   -90.0719   -88.5439  -351.4428   285.7213 \n",
       "        29         30         31         32         33         34         35 \n",
       "   94.5325  -335.4267 -1088.1075   116.3371    26.4119  -505.8867  -102.5548 \n",
       "        36         37         38         39         40         41         42 \n",
       "  262.2801    -0.4946   405.2805   -18.7916   149.8766   162.5490   473.1018 \n",
       "        43         44         45         46         47         48         49 \n",
       "   -3.1363   -19.1526  -136.8103   -56.2510   151.2990   161.7546   410.9289 \n",
       "        50         51 \n",
       "  -38.9752  -355.5564 \n",
       "\n",
       "Coefficients:\n",
       "                                                               Estimate\n",
       "(Intercept)                                                   3.285e+05\n",
       "Population.Population.Percent.Change                         -4.195e+02\n",
       "Population.2014.Population                                    1.027e-02\n",
       "Population.2010.Population                                   -1.231e-02\n",
       "Age.Percent.Under.5.Years                                     8.325e+03\n",
       "Age.Percent.Under.18.Years                                   -3.105e+03\n",
       "Age.Percent.65.and.Older                                      1.782e+03\n",
       "Miscellaneous.Percent.Female                                  1.519e+03\n",
       "Ethnicities.White.Alone                                      -4.983e+03\n",
       "Ethnicities.Black.Alone                                      -3.183e+03\n",
       "Ethnicities.American.Indian.and.Alaska.Native.Alone          -3.349e+03\n",
       "Ethnicities.Asian.Alone                                      -1.496e+03\n",
       "Ethnicities.Native.Hawaiian.and.Other.Pacific.Islander.Alone -8.398e+03\n",
       "Ethnicities.Two.or.More.Races                                -4.213e+03\n",
       "Ethnicities.Hispanic.or.Latino                                1.522e+03\n",
       "Ethnicities.White.Alone..not.Hispanic.or.Latino               1.740e+03\n",
       "Miscellaneous.Veterans                                       -7.086e-03\n",
       "Miscellaneous.Foreign.Born                                   -1.971e+03\n",
       "Housing.Housing.Units                                        -1.322e-02\n",
       "Housing.Homeownership.Rate                                   -3.471e+02\n",
       "Housing.Median.Value.of.Owner.Occupied.Units                 -2.648e-02\n",
       "Housing.Households                                            1.641e-02\n",
       "Housing.Persons.per.Household                                 3.348e+04\n",
       "Miscellaneous.Living.in.Same.House..1.Years                  -1.921e+03\n",
       "Miscellaneous.Language.Other.than.English.at.Home             7.666e+02\n",
       "Housing.Households.with.a.computer                            4.411e+01\n",
       "Housing.Households.with.a.Internet                           -1.087e+02\n",
       "Education.High.School.or.Higher                               3.313e+02\n",
       "Education.Bachelor.s.Degree.or.Higher                        -2.582e+02\n",
       "Miscellaneous.Percent.Under.66.Years.With.a.Disability       -6.294e+02\n",
       "Miscellaneous.Percent.Under.65.Years.Witout.Health.insurance  2.990e+01\n",
       "Sales.Accommodation.and.Food.Services.Sales                   8.740e-05\n",
       "Miscellaneous.Manufacturers.Shipments                        -1.332e-05\n",
       "Sales.Retail.Sales                                           -1.116e-04\n",
       "Miscellaneous.Mean.Travel.Time.to.Work                       -4.390e+01\n",
       "Income.Median.Houseold.Income                                 1.321e-01\n",
       "Income.Per.Capita.Income                                      4.917e-02\n",
       "Income.Persons.Below.Poverty.Level                            1.271e+02\n",
       "Employment.Nonemployer.Establishments                        -3.620e-02\n",
       "Employment.Firms.Men.Owned                                   -3.179e-01\n",
       "Employment.Firms.Women.Owned                                 -4.004e-01\n",
       "Employment.Firms.Minority.Owned                               4.248e-01\n",
       "Employment.Firms.Nonminority.Owned                            4.490e-01\n",
       "Employment.Firms.Veteran.Owned                                1.202e+00\n",
       "Employment.Firms.Nonveteran.Owned                             9.669e-01\n",
       "Population.Population.per.Square.Mile                        -8.529e-02\n",
       "Miscellaneous.Land.Area                                      -1.050e-02\n",
       "                                                             Std. Error t value\n",
       "(Intercept)                                                   1.368e+06   0.240\n",
       "Population.Population.Percent.Change                          2.419e+02  -1.735\n",
       "Population.2014.Population                                    4.300e-03   2.389\n",
       "Population.2010.Population                                    5.843e-03  -2.107\n",
       "Age.Percent.Under.5.Years                                     6.508e+03   1.279\n",
       "Age.Percent.Under.18.Years                                    3.066e+03  -1.013\n",
       "Age.Percent.65.and.Older                                      1.022e+03   1.744\n",
       "Miscellaneous.Percent.Female                                  1.862e+03   0.816\n",
       "Ethnicities.White.Alone                                       1.249e+04  -0.399\n",
       "Ethnicities.Black.Alone                                       1.299e+04  -0.245\n",
       "Ethnicities.American.Indian.and.Alaska.Native.Alone           1.286e+04  -0.260\n",
       "Ethnicities.Asian.Alone                                       1.258e+04  -0.119\n",
       "Ethnicities.Native.Hawaiian.and.Other.Pacific.Islander.Alone  1.638e+04  -0.513\n",
       "Ethnicities.Two.or.More.Races                                 1.267e+04  -0.333\n",
       "Ethnicities.Hispanic.or.Latino                                1.620e+03   0.940\n",
       "Ethnicities.White.Alone..not.Hispanic.or.Latino               1.593e+03   1.092\n",
       "Miscellaneous.Veterans                                        1.979e-02  -0.358\n",
       "Miscellaneous.Foreign.Born                                    1.069e+03  -1.843\n",
       "Housing.Housing.Units                                         1.004e-02  -1.316\n",
       "Housing.Homeownership.Rate                                    2.414e+02  -1.438\n",
       "Housing.Median.Value.of.Owner.Occupied.Units                  2.184e-02  -1.212\n",
       "Housing.Households                                            2.433e-02   0.675\n",
       "Housing.Persons.per.Household                                 3.655e+04   0.916\n",
       "Miscellaneous.Living.in.Same.House..1.Years                   1.612e+03  -1.192\n",
       "Miscellaneous.Language.Other.than.English.at.Home             6.402e+02   1.197\n",
       "Housing.Households.with.a.computer                            7.647e+02   0.058\n",
       "Housing.Households.with.a.Internet                            3.462e+02  -0.314\n",
       "Education.High.School.or.Higher                               8.704e+02   0.381\n",
       "Education.Bachelor.s.Degree.or.Higher                         3.658e+02  -0.706\n",
       "Miscellaneous.Percent.Under.66.Years.With.a.Disability        9.925e+02  -0.634\n",
       "Miscellaneous.Percent.Under.65.Years.Witout.Health.insurance  3.392e+02   0.088\n",
       "Sales.Accommodation.and.Food.Services.Sales                   1.311e-04   0.667\n",
       "Miscellaneous.Manufacturers.Shipments                         9.540e-06  -1.397\n",
       "Sales.Retail.Sales                                            1.398e-04  -0.799\n",
       "Miscellaneous.Mean.Travel.Time.to.Work                        3.769e+02  -0.116\n",
       "Income.Median.Houseold.Income                                 2.930e-01   0.451\n",
       "Income.Per.Capita.Income                                      5.284e-01   0.093\n",
       "Income.Persons.Below.Poverty.Level                            6.829e+02   0.186\n",
       "Employment.Nonemployer.Establishments                         2.326e-02  -1.556\n",
       "Employment.Firms.Men.Owned                                    1.208e-01  -2.631\n",
       "Employment.Firms.Women.Owned                                  1.338e-01  -2.993\n",
       "Employment.Firms.Minority.Owned                               4.872e-01   0.872\n",
       "Employment.Firms.Nonminority.Owned                            4.996e-01   0.899\n",
       "Employment.Firms.Veteran.Owned                                6.555e-01   1.833\n",
       "Employment.Firms.Nonveteran.Owned                             5.339e-01   1.811\n",
       "Population.Population.per.Square.Mile                         9.545e-01  -0.089\n",
       "Miscellaneous.Land.Area                                       1.692e-02  -0.620\n",
       "                                                             Pr(>|t|)  \n",
       "(Intercept)                                                    0.8220  \n",
       "Population.Population.Percent.Change                           0.1578  \n",
       "Population.2014.Population                                     0.0753 .\n",
       "Population.2010.Population                                     0.1029  \n",
       "Age.Percent.Under.5.Years                                      0.2700  \n",
       "Age.Percent.Under.18.Years                                     0.3685  \n",
       "Age.Percent.65.and.Older                                       0.1562  \n",
       "Miscellaneous.Percent.Female                                   0.4604  \n",
       "Ethnicities.White.Alone                                        0.7103  \n",
       "Ethnicities.Black.Alone                                        0.8185  \n",
       "Ethnicities.American.Indian.and.Alaska.Native.Alone            0.8074  \n",
       "Ethnicities.Asian.Alone                                        0.9111  \n",
       "Ethnicities.Native.Hawaiian.and.Other.Pacific.Islander.Alone   0.6351  \n",
       "Ethnicities.Two.or.More.Races                                  0.7561  \n",
       "Ethnicities.Hispanic.or.Latino                                 0.4006  \n",
       "Ethnicities.White.Alone..not.Hispanic.or.Latino                0.3361  \n",
       "Miscellaneous.Veterans                                         0.7384  \n",
       "Miscellaneous.Foreign.Born                                     0.1391  \n",
       "Housing.Housing.Units                                          0.2585  \n",
       "Housing.Homeownership.Rate                                     0.2239  \n",
       "Housing.Median.Value.of.Owner.Occupied.Units                   0.2922  \n",
       "Housing.Households                                             0.5370  \n",
       "Housing.Persons.per.Household                                  0.4115  \n",
       "Miscellaneous.Living.in.Same.House..1.Years                    0.2993  \n",
       "Miscellaneous.Language.Other.than.English.at.Home              0.2973  \n",
       "Housing.Households.with.a.computer                             0.9568  \n",
       "Housing.Households.with.a.Internet                             0.7692  \n",
       "Education.High.School.or.Higher                                0.7228  \n",
       "Education.Bachelor.s.Degree.or.Higher                          0.5193  \n",
       "Miscellaneous.Percent.Under.66.Years.With.a.Disability         0.5604  \n",
       "Miscellaneous.Percent.Under.65.Years.Witout.Health.insurance   0.9340  \n",
       "Sales.Accommodation.and.Food.Services.Sales                    0.5414  \n",
       "Miscellaneous.Manufacturers.Shipments                          0.2350  \n",
       "Sales.Retail.Sales                                             0.4692  \n",
       "Miscellaneous.Mean.Travel.Time.to.Work                         0.9129  \n",
       "Income.Median.Houseold.Income                                  0.6754  \n",
       "Income.Per.Capita.Income                                       0.9303  \n",
       "Income.Persons.Below.Poverty.Level                             0.8614  \n",
       "Employment.Nonemployer.Establishments                          0.1947  \n",
       "Employment.Firms.Men.Owned                                     0.0581 .\n",
       "Employment.Firms.Women.Owned                                   0.0402 *\n",
       "Employment.Firms.Minority.Owned                                0.4325  \n",
       "Employment.Firms.Nonminority.Owned                             0.4196  \n",
       "Employment.Firms.Veteran.Owned                                 0.1407  \n",
       "Employment.Firms.Nonveteran.Owned                              0.1444  \n",
       "Population.Population.per.Square.Mile                          0.9331  \n",
       "Miscellaneous.Land.Area                                        0.5686  \n",
       "---\n",
       "Signif. codes:  0 '***' 0.001 '**' 0.01 '*' 0.05 '.' 0.1 ' ' 1\n",
       "\n",
       "Residual standard error: 1046 on 4 degrees of freedom\n",
       "Multiple R-squared:      1,\tAdjusted R-squared:      1 \n",
       "F-statistic: 4.347e+05 on 46 and 4 DF,  p-value: 1.104e-11\n"
      ]
     },
     "metadata": {},
     "output_type": "display_data"
    }
   ],
   "source": [
    "lm.fit1<-update(lm.fit,~.-State)\n",
    "summary(lm.fit1)"
   ]
  },
  {
   "cell_type": "code",
   "execution_count": 40,
   "id": "1018c1eb",
   "metadata": {},
   "outputs": [
    {
     "data": {
      "text/plain": [
       "\n",
       "Call:\n",
       "lm(formula = Employment.Firms.Total ~ Employment.Firms.Men.Owned * \n",
       "    Employment.Firms.Women.Owned)\n",
       "\n",
       "Residuals:\n",
       "   Min     1Q Median     3Q    Max \n",
       "-47752  -8008  -1154   8521  36518 \n",
       "\n",
       "Coefficients:\n",
       "                                                         Estimate Std. Error\n",
       "(Intercept)                                             1.447e+04  3.247e+03\n",
       "Employment.Firms.Men.Owned                              1.005e+00  5.492e-02\n",
       "Employment.Firms.Women.Owned                            1.198e+00  8.620e-02\n",
       "Employment.Firms.Men.Owned:Employment.Firms.Women.Owned 3.221e-08  1.463e-08\n",
       "                                                        t value Pr(>|t|)    \n",
       "(Intercept)                                               4.458 5.12e-05 ***\n",
       "Employment.Firms.Men.Owned                               18.307  < 2e-16 ***\n",
       "Employment.Firms.Women.Owned                             13.898  < 2e-16 ***\n",
       "Employment.Firms.Men.Owned:Employment.Firms.Women.Owned   2.201   0.0327 *  \n",
       "---\n",
       "Signif. codes:  0 '***' 0.001 '**' 0.01 '*' 0.05 '.' 0.1 ' ' 1\n",
       "\n",
       "Residual standard error: 13410 on 47 degrees of freedom\n",
       "Multiple R-squared:  0.9996,\tAdjusted R-squared:  0.9996 \n",
       "F-statistic: 4.05e+04 on 3 and 47 DF,  p-value: < 2.2e-16\n"
      ]
     },
     "metadata": {},
     "output_type": "display_data"
    }
   ],
   "source": [
    "lm.fit<-lm(Employment.Firms.Total~Employment.Firms.Men.Owned*Employment.Firms.Women.Owned)\n",
    "summary(lm.fit)"
   ]
  },
  {
   "cell_type": "code",
   "execution_count": 41,
   "id": "ff85f755",
   "metadata": {},
   "outputs": [
    {
     "data": {
      "text/plain": [
       "\n",
       "Call:\n",
       "lm(formula = Employment.Firms.Total ~ Employment.Firms.Men.Owned + \n",
       "    I(Employment.Firms.Men.Owned^2))\n",
       "\n",
       "Residuals:\n",
       "    Min      1Q  Median      3Q     Max \n",
       "-111166   -9761    -898   12011   86359 \n",
       "\n",
       "Coefficients:\n",
       "                                 Estimate Std. Error t value Pr(>|t|)    \n",
       "(Intercept)                     1.536e+04  7.806e+03   1.968  0.05486 .  \n",
       "Employment.Firms.Men.Owned      1.756e+00  3.638e-02  48.276  < 2e-16 ***\n",
       "I(Employment.Firms.Men.Owned^2) 7.915e-08  2.288e-08   3.459  0.00115 ** \n",
       "---\n",
       "Signif. codes:  0 '***' 0.001 '**' 0.01 '*' 0.05 '.' 0.1 ' ' 1\n",
       "\n",
       "Residual standard error: 31780 on 48 degrees of freedom\n",
       "Multiple R-squared:  0.9978,\tAdjusted R-squared:  0.9977 \n",
       "F-statistic: 1.081e+04 on 2 and 48 DF,  p-value: < 2.2e-16\n"
      ]
     },
     "metadata": {},
     "output_type": "display_data"
    }
   ],
   "source": [
    "lm.fit2<-lm(Employment.Firms.Total~Employment.Firms.Men.Owned + I(Employment.Firms.Men.Owned^2))\n",
    "summary(lm.fit2)"
   ]
  },
  {
   "cell_type": "code",
   "execution_count": 42,
   "id": "a2433365",
   "metadata": {},
   "outputs": [
    {
     "data": {
      "text/html": [
       "<table>\n",
       "<thead><tr><th scope=col>Res.Df</th><th scope=col>RSS</th><th scope=col>Df</th><th scope=col>Sum of Sq</th><th scope=col>F</th><th scope=col>Pr(&gt;F)</th></tr></thead>\n",
       "<tbody>\n",
       "\t<tr><td>47          </td><td> 8457679078 </td><td>NA          </td><td>          NA</td><td>      NA    </td><td>          NA</td></tr>\n",
       "\t<tr><td>48          </td><td>48465859596 </td><td>-1          </td><td>-40008180517</td><td>222.3287    </td><td>1.932098e-19</td></tr>\n",
       "</tbody>\n",
       "</table>\n"
      ],
      "text/latex": [
       "\\begin{tabular}{r|llllll}\n",
       " Res.Df & RSS & Df & Sum of Sq & F & Pr(>F)\\\\\n",
       "\\hline\n",
       "\t 47           &  8457679078  & NA           &           NA &       NA     &           NA\\\\\n",
       "\t 48           & 48465859596  & -1           & -40008180517 & 222.3287     & 1.932098e-19\\\\\n",
       "\\end{tabular}\n"
      ],
      "text/markdown": [
       "\n",
       "Res.Df | RSS | Df | Sum of Sq | F | Pr(>F) | \n",
       "|---|---|\n",
       "| 47           |  8457679078  | NA           |           NA |       NA     |           NA | \n",
       "| 48           | 48465859596  | -1           | -40008180517 | 222.3287     | 1.932098e-19 | \n",
       "\n",
       "\n"
      ],
      "text/plain": [
       "  Res.Df RSS         Df Sum of Sq    F        Pr(>F)      \n",
       "1 47      8457679078 NA           NA       NA           NA\n",
       "2 48     48465859596 -1 -40008180517 222.3287 1.932098e-19"
      ]
     },
     "metadata": {},
     "output_type": "display_data"
    }
   ],
   "source": [
    "anova(lm.fit,lm.fit2)"
   ]
  },
  {
   "cell_type": "code",
   "execution_count": 43,
   "id": "3b099375",
   "metadata": {},
   "outputs": [
    {
     "data": {
      "image/png": "[encoded data removed]",
      "text/plain": [
       "Plot with title \"\""
      ]
     },
     "metadata": {},
     "output_type": "display_data"
    }
   ],
   "source": [
    "par(mfrow = c(2,2))\n",
    "plot(lm.fit2)"
   ]
  },
  {
   "cell_type": "code",
   "execution_count": 45,
   "id": "a32ec0b5",
   "metadata": {},
   "outputs": [
    {
     "data": {
      "text/plain": [
       "\n",
       "Call:\n",
       "lm(formula = Employment.Firms.Total ~ poly(Employment.Firms.Men.Owned, \n",
       "    5))\n",
       "\n",
       "Residuals:\n",
       "    Min      1Q  Median      3Q     Max \n",
       "-106830  -10777    1554    9596   92354 \n",
       "\n",
       "Coefficients:\n",
       "                                     Estimate Std. Error t value Pr(>|t|)    \n",
       "(Intercept)                            545255       4421 123.339  < 2e-16 ***\n",
       "poly(Employment.Firms.Men.Owned, 5)1  4670569      31571 147.940  < 2e-16 ***\n",
       "poly(Employment.Firms.Men.Owned, 5)2   109913      31571   3.481  0.00112 ** \n",
       "poly(Employment.Firms.Men.Owned, 5)3    30204      31571   0.957  0.34382    \n",
       "poly(Employment.Firms.Men.Owned, 5)4   -49308      31571  -1.562  0.12534    \n",
       "poly(Employment.Firms.Men.Owned, 5)5    16435      31571   0.521  0.60521    \n",
       "---\n",
       "Signif. codes:  0 '***' 0.001 '**' 0.01 '*' 0.05 '.' 0.1 ' ' 1\n",
       "\n",
       "Residual standard error: 31570 on 45 degrees of freedom\n",
       "Multiple R-squared:  0.9979,\tAdjusted R-squared:  0.9977 \n",
       "F-statistic:  4380 on 5 and 45 DF,  p-value: < 2.2e-16\n"
      ]
     },
     "metadata": {},
     "output_type": "display_data"
    }
   ],
   "source": [
    "lm.fit5<-lm(Employment.Firms.Total~poly(Employment.Firms.Men.Owned,5))\n",
    "summary(lm.fit5)"
   ]
  },
  {
   "cell_type": "code",
   "execution_count": null,
   "id": "77d76401",
   "metadata": {},
   "outputs": [],
   "source": []
  },
  {
   "cell_type": "code",
   "execution_count": null,
   "id": "aa919991",
   "metadata": {},
   "outputs": [],
   "source": []
  }
 ],
 "metadata": {
  "kernelspec": {
   "display_name": "R",
   "language": "R",
   "name": "ir"
  },
  "language_info": {
   "codemirror_mode": "r",
   "file_extension": ".r",
   "mimetype": "text/x-r-source",
   "name": "R",
   "pygments_lexer": "r",
   "version": "3.5.1"
  }
 },
 "nbformat": 4,
 "nbformat_minor": 5
}
